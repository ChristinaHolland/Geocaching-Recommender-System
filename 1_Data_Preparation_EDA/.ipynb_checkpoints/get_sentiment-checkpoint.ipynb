{
 "cells": [
  {
   "cell_type": "code",
   "execution_count": null,
   "metadata": {
    "id": "dFWGiR7NGscC"
   },
   "outputs": [],
   "source": []
  },
  {
   "cell_type": "code",
   "execution_count": null,
   "metadata": {
    "id": "JYHFpBXYCyKI"
   },
   "outputs": [],
   "source": []
  },
  {
   "cell_type": "code",
   "execution_count": 1,
   "metadata": {
    "colab": {
     "base_uri": "https://localhost:8080/"
    },
    "executionInfo": {
     "elapsed": 248,
     "status": "ok",
     "timestamp": 1619722284817,
     "user": {
      "displayName": "Christina Holland",
      "photoUrl": "",
      "userId": "03030216789199035772"
     },
     "user_tz": 240
    },
    "id": "vc2kX-_AzM3y",
    "outputId": "511f7960-d5c5-4b7d-f04d-4e7697aa939c"
   },
   "outputs": [
    {
     "name": "stdout",
     "output_type": "stream",
     "text": [
      "Drive already mounted at /content/drive; to attempt to forcibly remount, call drive.mount(\"/content/drive\", force_remount=True).\n"
     ]
    }
   ],
   "source": [
    "from google.colab import drive\n",
    "drive.mount('/content/drive')"
   ]
  },
  {
   "cell_type": "markdown",
   "metadata": {
    "id": "SN7wr2DDzFyU"
   },
   "source": [
    "Import Libraries:"
   ]
  },
  {
   "cell_type": "code",
   "execution_count": 5,
   "metadata": {
    "executionInfo": {
     "elapsed": 232,
     "status": "ok",
     "timestamp": 1619724569012,
     "user": {
      "displayName": "Christina Holland",
      "photoUrl": "",
      "userId": "03030216789199035772"
     },
     "user_tz": 240
    },
    "id": "B3ijPdzdzFyX"
   },
   "outputs": [],
   "source": [
    "# basic tools:\n",
    "\n",
    "import pandas as pd\n",
    "import numpy as np \n",
    "import matplotlib.pyplot as plt\n",
    "import seaborn as sns\n"
   ]
  },
  {
   "cell_type": "markdown",
   "metadata": {
    "id": "1S6t86g2zFyY"
   },
   "source": [
    "Load in data:"
   ]
  },
  {
   "cell_type": "code",
   "execution_count": 6,
   "metadata": {
    "colab": {
     "base_uri": "https://localhost:8080/",
     "height": 793
    },
    "executionInfo": {
     "elapsed": 235,
     "status": "ok",
     "timestamp": 1619724570169,
     "user": {
      "displayName": "Christina Holland",
      "photoUrl": "",
      "userId": "03030216789199035772"
     },
     "user_tz": 240
    },
    "id": "W1x6JLNMzFyY",
    "outputId": "e8b853f6-a14e-447f-9583-8e317b492d31"
   },
   "outputs": [
    {
     "data": {
      "text/html": [
       "<div>\n",
       "<style scoped>\n",
       "    .dataframe tbody tr th:only-of-type {\n",
       "        vertical-align: middle;\n",
       "    }\n",
       "\n",
       "    .dataframe tbody tr th {\n",
       "        vertical-align: top;\n",
       "    }\n",
       "\n",
       "    .dataframe thead th {\n",
       "        text-align: right;\n",
       "    }\n",
       "</style>\n",
       "<table border=\"1\" class=\"dataframe\">\n",
       "  <thead>\n",
       "    <tr style=\"text-align: right;\">\n",
       "      <th></th>\n",
       "      <th>feature</th>\n",
       "      <th>feature type</th>\n",
       "    </tr>\n",
       "  </thead>\n",
       "  <tbody>\n",
       "    <tr>\n",
       "      <th>0</th>\n",
       "      <td>code</td>\n",
       "      <td>identifiers</td>\n",
       "    </tr>\n",
       "    <tr>\n",
       "      <th>1</th>\n",
       "      <td>name</td>\n",
       "      <td>identifiers</td>\n",
       "    </tr>\n",
       "    <tr>\n",
       "      <th>2</th>\n",
       "      <td>good_logs_num</td>\n",
       "      <td>numerical</td>\n",
       "    </tr>\n",
       "    <tr>\n",
       "      <th>3</th>\n",
       "      <td>neutral_logs_num</td>\n",
       "      <td>numerical</td>\n",
       "    </tr>\n",
       "    <tr>\n",
       "      <th>4</th>\n",
       "      <td>bad_logs_num</td>\n",
       "      <td>numerical</td>\n",
       "    </tr>\n",
       "    <tr>\n",
       "      <th>5</th>\n",
       "      <td>good_logs_txt</td>\n",
       "      <td>text</td>\n",
       "    </tr>\n",
       "    <tr>\n",
       "      <th>6</th>\n",
       "      <td>neutral_logs_txt</td>\n",
       "      <td>text</td>\n",
       "    </tr>\n",
       "    <tr>\n",
       "      <th>7</th>\n",
       "      <td>bad_logs_txt</td>\n",
       "      <td>text</td>\n",
       "    </tr>\n",
       "    <tr>\n",
       "      <th>8</th>\n",
       "      <td>creator</td>\n",
       "      <td>categorical</td>\n",
       "    </tr>\n",
       "    <tr>\n",
       "      <th>9</th>\n",
       "      <td>cache_type</td>\n",
       "      <td>categorical</td>\n",
       "    </tr>\n",
       "    <tr>\n",
       "      <th>10</th>\n",
       "      <td>difficulty</td>\n",
       "      <td>numerical</td>\n",
       "    </tr>\n",
       "    <tr>\n",
       "      <th>11</th>\n",
       "      <td>terrain</td>\n",
       "      <td>numerical</td>\n",
       "    </tr>\n",
       "    <tr>\n",
       "      <th>12</th>\n",
       "      <td>latitude</td>\n",
       "      <td>numerical</td>\n",
       "    </tr>\n",
       "    <tr>\n",
       "      <th>13</th>\n",
       "      <td>longitude</td>\n",
       "      <td>numerical</td>\n",
       "    </tr>\n",
       "    <tr>\n",
       "      <th>14</th>\n",
       "      <td>placed</td>\n",
       "      <td>datetime</td>\n",
       "    </tr>\n",
       "    <tr>\n",
       "      <th>15</th>\n",
       "      <td>status</td>\n",
       "      <td>binary</td>\n",
       "    </tr>\n",
       "    <tr>\n",
       "      <th>16</th>\n",
       "      <td>is_premium</td>\n",
       "      <td>binary</td>\n",
       "    </tr>\n",
       "    <tr>\n",
       "      <th>17</th>\n",
       "      <td>fav_points</td>\n",
       "      <td>numerical</td>\n",
       "    </tr>\n",
       "    <tr>\n",
       "      <th>18</th>\n",
       "      <td>short_description</td>\n",
       "      <td>binary</td>\n",
       "    </tr>\n",
       "    <tr>\n",
       "      <th>19</th>\n",
       "      <td>long_description</td>\n",
       "      <td>binary</td>\n",
       "    </tr>\n",
       "    <tr>\n",
       "      <th>20</th>\n",
       "      <td>hints</td>\n",
       "      <td>binary</td>\n",
       "    </tr>\n",
       "    <tr>\n",
       "      <th>21</th>\n",
       "      <td>travel_bugs</td>\n",
       "      <td>binary</td>\n",
       "    </tr>\n",
       "    <tr>\n",
       "      <th>22</th>\n",
       "      <td>cache_text</td>\n",
       "      <td>text</td>\n",
       "    </tr>\n",
       "    <tr>\n",
       "      <th>23</th>\n",
       "      <td>size</td>\n",
       "      <td>numerical</td>\n",
       "    </tr>\n",
       "  </tbody>\n",
       "</table>\n",
       "</div>"
      ],
      "text/plain": [
       "              feature feature type\n",
       "0                code  identifiers\n",
       "1                name  identifiers\n",
       "2       good_logs_num    numerical\n",
       "3    neutral_logs_num    numerical\n",
       "4        bad_logs_num    numerical\n",
       "5       good_logs_txt         text\n",
       "6    neutral_logs_txt         text\n",
       "7        bad_logs_txt         text\n",
       "8             creator  categorical\n",
       "9          cache_type  categorical\n",
       "10         difficulty    numerical\n",
       "11            terrain    numerical\n",
       "12           latitude    numerical\n",
       "13          longitude    numerical\n",
       "14             placed     datetime\n",
       "15             status       binary\n",
       "16         is_premium       binary\n",
       "17         fav_points    numerical\n",
       "18  short_description       binary\n",
       "19   long_description       binary\n",
       "20              hints       binary\n",
       "21        travel_bugs       binary\n",
       "22         cache_text         text\n",
       "23               size    numerical"
      ]
     },
     "execution_count": 6,
     "metadata": {
      "tags": []
     },
     "output_type": "execute_result"
    }
   ],
   "source": [
    "# features = pd.read_csv('../data/working_files/features.csv')\n",
    "features = pd.read_csv('/content/drive/MyDrive/DSI/geocaching/data/features.csv')\n",
    "features"
   ]
  },
  {
   "cell_type": "code",
   "execution_count": 7,
   "metadata": {
    "colab": {
     "base_uri": "https://localhost:8080/"
    },
    "executionInfo": {
     "elapsed": 902,
     "status": "ok",
     "timestamp": 1619724571948,
     "user": {
      "displayName": "Christina Holland",
      "photoUrl": "",
      "userId": "03030216789199035772"
     },
     "user_tz": 240
    },
    "id": "3Coo1NQTzFyZ",
    "outputId": "fb32ab10-7b06-43b5-e463-f27c17cadedc"
   },
   "outputs": [
    {
     "name": "stdout",
     "output_type": "stream",
     "text": [
      "<class 'pandas.core.frame.DataFrame'>\n",
      "RangeIndex: 12433 entries, 0 to 12432\n",
      "Data columns (total 24 columns):\n",
      " #   Column             Non-Null Count  Dtype  \n",
      "---  ------             --------------  -----  \n",
      " 0   code               12433 non-null  object \n",
      " 1   name               12433 non-null  object \n",
      " 2   good_logs_num      12433 non-null  int64  \n",
      " 3   neutral_logs_num   12433 non-null  int64  \n",
      " 4   bad_logs_num       12433 non-null  int64  \n",
      " 5   good_logs_txt      12433 non-null  object \n",
      " 6   neutral_logs_txt   12433 non-null  object \n",
      " 7   bad_logs_txt       12433 non-null  object \n",
      " 8   creator            12433 non-null  object \n",
      " 9   cache_type         12433 non-null  object \n",
      " 10  difficulty         12433 non-null  float64\n",
      " 11  terrain            12433 non-null  float64\n",
      " 12  latitude           12433 non-null  float64\n",
      " 13  longitude          12433 non-null  float64\n",
      " 14  placed             12433 non-null  object \n",
      " 15  status             12433 non-null  int64  \n",
      " 16  is_premium         12433 non-null  int64  \n",
      " 17  fav_points         12433 non-null  int64  \n",
      " 18  short_description  12433 non-null  int64  \n",
      " 19  long_description   12433 non-null  int64  \n",
      " 20  hints              12433 non-null  int64  \n",
      " 21  travel_bugs        12433 non-null  int64  \n",
      " 22  cache_text         12433 non-null  object \n",
      " 23  size               12433 non-null  float64\n",
      "dtypes: float64(5), int64(10), object(9)\n",
      "memory usage: 2.3+ MB\n"
     ]
    }
   ],
   "source": [
    "#df = pd.read_csv('../data/working_files/cleaned_data.csv')\n",
    "df = pd.read_csv('/content/drive/MyDrive/DSI/geocaching/data/cleaned_data.csv')\n",
    "txt_col_list = list(features[features['feature type']=='text']['feature'])\n",
    "for col in txt_col_list:\n",
    "    df[col] = df[col].fillna('')\n",
    "df.info()"
   ]
  },
  {
   "cell_type": "code",
   "execution_count": 8,
   "metadata": {
    "colab": {
     "base_uri": "https://localhost:8080/"
    },
    "executionInfo": {
     "elapsed": 253,
     "status": "ok",
     "timestamp": 1619724582587,
     "user": {
      "displayName": "Christina Holland",
      "photoUrl": "",
      "userId": "03030216789199035772"
     },
     "user_tz": 240
    },
    "id": "qknQdmkbzFya",
    "outputId": "8157dd5c-b0fb-4942-e130-44e7758be626"
   },
   "outputs": [
    {
     "data": {
      "text/plain": [
       "[' Found with my sweetie TeamMonroe1. TFTC! Found with my beloved TeamMonroe2. TFTC TFTC\\r\\nNice quick find.  Adding to my TN quads\\r\\nFind # 1869 on December 30, 2020 8:54 AM.\\r\\nSAMBAMFAM Got it. Log in good shape A quick stop and grab. \\r\\n\\r\\nThanks for the Cache\\r\\nEkuflar Grabbed this one quickly! Beautiful spot! TFTC Found with the help of TLDandy on a beautiful day for caching ! Found it and Survey Marker ! TFTC ! Found with Hidden Mickey.. got this as a bonus to the Tri state rock! Great day for caching!!!! Tftc!!! Cords were pretty good. Nice hide.Thanks for placing this cache. Looked all over but no luck',\n",
       " ' {FTF} at 1214!    Still needed our FTF for November so Mr. GT! scoped this one out as a candidate.   Long ride up but worth it when we saw both an empty log and a beautiful view!    Not sure how this one lasted this long!   Thanks for bringing us up here!!  Found with Mingo the Geopup!  Thanks for being a part of our adventures! Congrats on the FTF Geaux Published There is a FTF Could not find might have been washed away Was all over GZ today & didnt find this one. CO may wanna check on this one, looks like river has been up & may have washed it away']"
      ]
     },
     "execution_count": 8,
     "metadata": {
      "tags": []
     },
     "output_type": "execute_result"
    }
   ],
   "source": [
    "# Get sentiment analysis of total log corpus\n",
    "g_logtxt = list(df['good_logs_txt'])\n",
    "n_logtxt = list(df['neutral_logs_txt'])\n",
    "b_logtxt = list(df['bad_logs_txt'])\n",
    "logtxt = [str(g_logtxt[n])+n_logtxt[n]+b_logtxt[n] for n in range(len(g_logtxt))]\n",
    "logtxt[0:2]"
   ]
  },
  {
   "cell_type": "code",
   "execution_count": 2,
   "metadata": {
    "colab": {
     "base_uri": "https://localhost:8080/"
    },
    "executionInfo": {
     "elapsed": 520,
     "status": "ok",
     "timestamp": 1619724548541,
     "user": {
      "displayName": "Christina Holland",
      "photoUrl": "",
      "userId": "03030216789199035772"
     },
     "user_tz": 240
    },
    "id": "At9k5ktvGuZg",
    "outputId": "a88ad3ed-f029-44d4-f199-2cd15e89c389"
   },
   "outputs": [
    {
     "name": "stdout",
     "output_type": "stream",
     "text": [
      "[nltk_data] Downloading package vader_lexicon to /root/nltk_data...\n"
     ]
    },
    {
     "data": {
      "text/plain": [
       "True"
      ]
     },
     "execution_count": 2,
     "metadata": {
      "tags": []
     },
     "output_type": "execute_result"
    }
   ],
   "source": [
    "  import nltk\n",
    "  nltk.download('vader_lexicon')\n"
   ]
  },
  {
   "cell_type": "code",
   "execution_count": 9,
   "metadata": {
    "executionInfo": {
     "elapsed": 266,
     "status": "ok",
     "timestamp": 1619724588583,
     "user": {
      "displayName": "Christina Holland",
      "photoUrl": "",
      "userId": "03030216789199035772"
     },
     "user_tz": 240
    },
    "id": "NrIzd3KdFb-D"
   },
   "outputs": [],
   "source": [
    " from nltk.sentiment.vader import SentimentIntensityAnalyzer\n",
    "\n",
    "# Thanks to Mark Dowicz for help on how to run this!"
   ]
  },
  {
   "cell_type": "code",
   "execution_count": 12,
   "metadata": {
    "executionInfo": {
     "elapsed": 238,
     "status": "ok",
     "timestamp": 1619724639440,
     "user": {
      "displayName": "Christina Holland",
      "photoUrl": "",
      "userId": "03030216789199035772"
     },
     "user_tz": 240
    },
    "id": "nVxbPr9xGBWd"
   },
   "outputs": [],
   "source": [
    "sents5 = get_sentiments([logtxt[0]])"
   ]
  },
  {
   "cell_type": "code",
   "execution_count": 16,
   "metadata": {
    "colab": {
     "base_uri": "https://localhost:8080/"
    },
    "executionInfo": {
     "elapsed": 238,
     "status": "ok",
     "timestamp": 1619724823119,
     "user": {
      "displayName": "Christina Holland",
      "photoUrl": "",
      "userId": "03030216789199035772"
     },
     "user_tz": 240
    },
    "id": "m5-XwZvZG2jJ",
    "outputId": "9b563fa3-2dee-4de0-a5f0-d8efeb0fe6c1"
   },
   "outputs": [
    {
     "data": {
      "text/plain": [
       "{'compound': 0.994, 'neg': 0.03, 'neu': 0.864, 'pos': 0.105}"
      ]
     },
     "execution_count": 16,
     "metadata": {
      "tags": []
     },
     "output_type": "execute_result"
    }
   ],
   "source": [
    "sentiment.polarity_scores(logtxt[20])"
   ]
  },
  {
   "cell_type": "code",
   "execution_count": 14,
   "metadata": {
    "colab": {
     "base_uri": "https://localhost:8080/"
    },
    "executionInfo": {
     "elapsed": 233,
     "status": "ok",
     "timestamp": 1619724689920,
     "user": {
      "displayName": "Christina Holland",
      "photoUrl": "",
      "userId": "03030216789199035772"
     },
     "user_tz": 240
    },
    "id": "WcIOknOuHAdx",
    "outputId": "4952d183-0ac5-4df0-ae33-996e0260c39e"
   },
   "outputs": [
    {
     "data": {
      "text/plain": [
       "12433"
      ]
     },
     "execution_count": 14,
     "metadata": {
      "tags": []
     },
     "output_type": "execute_result"
    }
   ],
   "source": [
    "len(logtxt)"
   ]
  },
  {
   "cell_type": "code",
   "execution_count": 22,
   "metadata": {
    "colab": {
     "base_uri": "https://localhost:8080/"
    },
    "executionInfo": {
     "elapsed": 61499,
     "status": "ok",
     "timestamp": 1619725112526,
     "user": {
      "displayName": "Christina Holland",
      "photoUrl": "",
      "userId": "03030216789199035772"
     },
     "user_tz": 240
    },
    "id": "-KabLX2qHWDj",
    "outputId": "65014eaf-f155-4c8b-a6d9-a89f9c70f89d"
   },
   "outputs": [
    {
     "name": "stdout",
     "output_type": "stream",
     "text": [
      "completed 0 of 12433, 0.0% completed...\n",
      "completed 100 of 12433, 0.8043% completed...\n",
      "completed 200 of 12433, 1.6086% completed...\n",
      "completed 300 of 12433, 2.4129% completed...\n",
      "completed 400 of 12433, 3.2172% completed...\n",
      "completed 500 of 12433, 4.0216% completed...\n",
      "completed 600 of 12433, 4.8259% completed...\n",
      "completed 700 of 12433, 5.6302% completed...\n",
      "completed 800 of 12433, 6.4345% completed...\n",
      "completed 900 of 12433, 7.2388% completed...\n",
      "completed 1000 of 12433, 8.0431% completed...\n",
      "completed 1100 of 12433, 8.8474% completed...\n",
      "completed 1200 of 12433, 9.6517% completed...\n",
      "completed 1300 of 12433, 10.456% completed...\n",
      "completed 1400 of 12433, 11.2604% completed...\n",
      "completed 1500 of 12433, 12.0647% completed...\n",
      "completed 1600 of 12433, 12.869% completed...\n",
      "completed 1700 of 12433, 13.6733% completed...\n",
      "completed 1800 of 12433, 14.4776% completed...\n",
      "completed 1900 of 12433, 15.2819% completed...\n",
      "completed 2000 of 12433, 16.0862% completed...\n",
      "completed 2100 of 12433, 16.8905% completed...\n",
      "completed 2200 of 12433, 17.6948% completed...\n",
      "completed 2300 of 12433, 18.4992% completed...\n",
      "completed 2400 of 12433, 19.3035% completed...\n",
      "completed 2500 of 12433, 20.1078% completed...\n",
      "completed 2600 of 12433, 20.9121% completed...\n",
      "completed 2700 of 12433, 21.7164% completed...\n",
      "completed 2800 of 12433, 22.5207% completed...\n",
      "completed 2900 of 12433, 23.325% completed...\n",
      "completed 3000 of 12433, 24.1293% completed...\n",
      "completed 3100 of 12433, 24.9336% completed...\n",
      "completed 3200 of 12433, 25.738% completed...\n",
      "completed 3300 of 12433, 26.5423% completed...\n",
      "completed 3400 of 12433, 27.3466% completed...\n",
      "completed 3500 of 12433, 28.1509% completed...\n",
      "completed 3600 of 12433, 28.9552% completed...\n",
      "completed 3700 of 12433, 29.7595% completed...\n",
      "completed 3800 of 12433, 30.5638% completed...\n",
      "completed 3900 of 12433, 31.3681% completed...\n",
      "completed 4000 of 12433, 32.1724% completed...\n",
      "completed 4100 of 12433, 32.9768% completed...\n",
      "completed 4200 of 12433, 33.7811% completed...\n",
      "completed 4300 of 12433, 34.5854% completed...\n",
      "completed 4400 of 12433, 35.3897% completed...\n",
      "completed 4500 of 12433, 36.194% completed...\n",
      "completed 4600 of 12433, 36.9983% completed...\n",
      "completed 4700 of 12433, 37.8026% completed...\n",
      "completed 4800 of 12433, 38.6069% completed...\n",
      "completed 4900 of 12433, 39.4112% completed...\n",
      "completed 5000 of 12433, 40.2156% completed...\n",
      "completed 5100 of 12433, 41.0199% completed...\n",
      "completed 5200 of 12433, 41.8242% completed...\n",
      "completed 5300 of 12433, 42.6285% completed...\n",
      "completed 5400 of 12433, 43.4328% completed...\n",
      "completed 5500 of 12433, 44.2371% completed...\n",
      "completed 5600 of 12433, 45.0414% completed...\n",
      "completed 5700 of 12433, 45.8457% completed...\n",
      "completed 5800 of 12433, 46.65% completed...\n",
      "completed 5900 of 12433, 47.4544% completed...\n",
      "completed 6000 of 12433, 48.2587% completed...\n",
      "completed 6100 of 12433, 49.063% completed...\n",
      "completed 6200 of 12433, 49.8673% completed...\n",
      "completed 6300 of 12433, 50.6716% completed...\n",
      "completed 6400 of 12433, 51.4759% completed...\n",
      "completed 6500 of 12433, 52.2802% completed...\n",
      "completed 6600 of 12433, 53.0845% completed...\n",
      "completed 6700 of 12433, 53.8888% completed...\n",
      "completed 6800 of 12433, 54.6932% completed...\n",
      "completed 6900 of 12433, 55.4975% completed...\n",
      "completed 7000 of 12433, 56.3018% completed...\n",
      "completed 7100 of 12433, 57.1061% completed...\n",
      "completed 7200 of 12433, 57.9104% completed...\n",
      "completed 7300 of 12433, 58.7147% completed...\n",
      "completed 7400 of 12433, 59.519% completed...\n",
      "completed 7500 of 12433, 60.3233% completed...\n",
      "completed 7600 of 12433, 61.1276% completed...\n",
      "completed 7700 of 12433, 61.932% completed...\n",
      "completed 7800 of 12433, 62.7363% completed...\n",
      "completed 7900 of 12433, 63.5406% completed...\n",
      "completed 8000 of 12433, 64.3449% completed...\n",
      "completed 8100 of 12433, 65.1492% completed...\n",
      "completed 8200 of 12433, 65.9535% completed...\n",
      "completed 8300 of 12433, 66.7578% completed...\n",
      "completed 8400 of 12433, 67.5621% completed...\n",
      "completed 8500 of 12433, 68.3664% completed...\n",
      "completed 8600 of 12433, 69.1708% completed...\n",
      "completed 8700 of 12433, 69.9751% completed...\n",
      "completed 8800 of 12433, 70.7794% completed...\n",
      "completed 8900 of 12433, 71.5837% completed...\n",
      "completed 9000 of 12433, 72.388% completed...\n",
      "completed 9100 of 12433, 73.1923% completed...\n",
      "completed 9200 of 12433, 73.9966% completed...\n",
      "completed 9300 of 12433, 74.8009% completed...\n",
      "completed 9400 of 12433, 75.6052% completed...\n",
      "completed 9500 of 12433, 76.4096% completed...\n",
      "completed 9600 of 12433, 77.2139% completed...\n",
      "completed 9700 of 12433, 78.0182% completed...\n",
      "completed 9800 of 12433, 78.8225% completed...\n",
      "completed 9900 of 12433, 79.6268% completed...\n",
      "completed 10000 of 12433, 80.4311% completed...\n",
      "completed 10100 of 12433, 81.2354% completed...\n",
      "completed 10200 of 12433, 82.0397% completed...\n",
      "completed 10300 of 12433, 82.844% completed...\n",
      "completed 10400 of 12433, 83.6484% completed...\n",
      "completed 10500 of 12433, 84.4527% completed...\n",
      "completed 10600 of 12433, 85.257% completed...\n",
      "completed 10700 of 12433, 86.0613% completed...\n",
      "completed 10800 of 12433, 86.8656% completed...\n",
      "completed 10900 of 12433, 87.6699% completed...\n",
      "completed 11000 of 12433, 88.4742% completed...\n",
      "completed 11100 of 12433, 89.2785% completed...\n",
      "completed 11200 of 12433, 90.0828% completed...\n",
      "completed 11300 of 12433, 90.8872% completed...\n",
      "completed 11400 of 12433, 91.6915% completed...\n",
      "completed 11500 of 12433, 92.4958% completed...\n",
      "completed 11600 of 12433, 93.3001% completed...\n",
      "completed 11700 of 12433, 94.1044% completed...\n",
      "completed 11800 of 12433, 94.9087% completed...\n",
      "completed 11900 of 12433, 95.713% completed...\n",
      "completed 12000 of 12433, 96.5173% completed...\n",
      "completed 12100 of 12433, 97.3216% completed...\n",
      "completed 12200 of 12433, 98.126% completed...\n",
      "completed 12300 of 12433, 98.9303% completed...\n",
      "completed 12400 of 12433, 99.7346% completed...\n"
     ]
    }
   ],
   "source": [
    "num = len(logtxt)\n",
    "sentiments = []\n",
    "for n in range(num):\n",
    "  sentiments.append(sentiment.polarity_scores(logtxt[n]))\n",
    "  if n%100==0:\n",
    "    print(f'completed {n} of {num}, {np.round(n*100/num,4)}% completed...')"
   ]
  },
  {
   "cell_type": "code",
   "execution_count": 23,
   "metadata": {
    "colab": {
     "base_uri": "https://localhost:8080/",
     "height": 359
    },
    "executionInfo": {
     "elapsed": 268,
     "status": "ok",
     "timestamp": 1619725197794,
     "user": {
      "displayName": "Christina Holland",
      "photoUrl": "",
      "userId": "03030216789199035772"
     },
     "user_tz": 240
    },
    "id": "k5bb2Da-ID6q",
    "outputId": "cbad66f2-ad5b-4926-a4a2-be085d1234f9"
   },
   "outputs": [
    {
     "data": {
      "text/html": [
       "<div>\n",
       "<style scoped>\n",
       "    .dataframe tbody tr th:only-of-type {\n",
       "        vertical-align: middle;\n",
       "    }\n",
       "\n",
       "    .dataframe tbody tr th {\n",
       "        vertical-align: top;\n",
       "    }\n",
       "\n",
       "    .dataframe thead th {\n",
       "        text-align: right;\n",
       "    }\n",
       "</style>\n",
       "<table border=\"1\" class=\"dataframe\">\n",
       "  <thead>\n",
       "    <tr style=\"text-align: right;\">\n",
       "      <th></th>\n",
       "      <th>neg</th>\n",
       "      <th>neu</th>\n",
       "      <th>pos</th>\n",
       "      <th>compound</th>\n",
       "      <th>text corpus</th>\n",
       "    </tr>\n",
       "  </thead>\n",
       "  <tbody>\n",
       "    <tr>\n",
       "      <th>0</th>\n",
       "      <td>0.035</td>\n",
       "      <td>0.701</td>\n",
       "      <td>0.264</td>\n",
       "      <td>0.9730</td>\n",
       "      <td>Found with my sweetie TeamMonroe1. TFTC! Foun...</td>\n",
       "    </tr>\n",
       "    <tr>\n",
       "      <th>1</th>\n",
       "      <td>0.036</td>\n",
       "      <td>0.733</td>\n",
       "      <td>0.231</td>\n",
       "      <td>0.9797</td>\n",
       "      <td>{FTF} at 1214!    Still needed our FTF for No...</td>\n",
       "    </tr>\n",
       "    <tr>\n",
       "      <th>2</th>\n",
       "      <td>0.158</td>\n",
       "      <td>0.733</td>\n",
       "      <td>0.110</td>\n",
       "      <td>-0.9134</td>\n",
       "      <td>Quick find just as described.  Nice walk on b...</td>\n",
       "    </tr>\n",
       "    <tr>\n",
       "      <th>3</th>\n",
       "      <td>0.020</td>\n",
       "      <td>0.731</td>\n",
       "      <td>0.248</td>\n",
       "      <td>0.9958</td>\n",
       "      <td>Found the cache but it appears the copper tri...</td>\n",
       "    </tr>\n",
       "    <tr>\n",
       "      <th>4</th>\n",
       "      <td>0.028</td>\n",
       "      <td>0.837</td>\n",
       "      <td>0.135</td>\n",
       "      <td>0.9744</td>\n",
       "      <td>It took me a little bit as it wasn't quite wh...</td>\n",
       "    </tr>\n",
       "    <tr>\n",
       "      <th>5</th>\n",
       "      <td>0.015</td>\n",
       "      <td>0.765</td>\n",
       "      <td>0.220</td>\n",
       "      <td>0.9956</td>\n",
       "      <td>Great view! Took some crawling around, but I ...</td>\n",
       "    </tr>\n",
       "    <tr>\n",
       "      <th>6</th>\n",
       "      <td>0.025</td>\n",
       "      <td>0.457</td>\n",
       "      <td>0.518</td>\n",
       "      <td>0.9918</td>\n",
       "      <td>Not an ammo case, smaller. Really is right of...</td>\n",
       "    </tr>\n",
       "    <tr>\n",
       "      <th>7</th>\n",
       "      <td>0.028</td>\n",
       "      <td>0.847</td>\n",
       "      <td>0.125</td>\n",
       "      <td>0.9691</td>\n",
       "      <td>. . Found another one with Mellow Yellow2. Ni...</td>\n",
       "    </tr>\n",
       "    <tr>\n",
       "      <th>8</th>\n",
       "      <td>0.056</td>\n",
       "      <td>0.820</td>\n",
       "      <td>0.124</td>\n",
       "      <td>0.9674</td>\n",
       "      <td>When my last visit out ended in a DNF I knew ...</td>\n",
       "    </tr>\n",
       "    <tr>\n",
       "      <th>9</th>\n",
       "      <td>0.065</td>\n",
       "      <td>0.864</td>\n",
       "      <td>0.072</td>\n",
       "      <td>0.5732</td>\n",
       "      <td>Found it No log inside of container is soaked...</td>\n",
       "    </tr>\n",
       "  </tbody>\n",
       "</table>\n",
       "</div>"
      ],
      "text/plain": [
       "     neg    neu  ...  compound                                        text corpus\n",
       "0  0.035  0.701  ...    0.9730   Found with my sweetie TeamMonroe1. TFTC! Foun...\n",
       "1  0.036  0.733  ...    0.9797   {FTF} at 1214!    Still needed our FTF for No...\n",
       "2  0.158  0.733  ...   -0.9134   Quick find just as described.  Nice walk on b...\n",
       "3  0.020  0.731  ...    0.9958   Found the cache but it appears the copper tri...\n",
       "4  0.028  0.837  ...    0.9744   It took me a little bit as it wasn't quite wh...\n",
       "5  0.015  0.765  ...    0.9956   Great view! Took some crawling around, but I ...\n",
       "6  0.025  0.457  ...    0.9918   Not an ammo case, smaller. Really is right of...\n",
       "7  0.028  0.847  ...    0.9691   . . Found another one with Mellow Yellow2. Ni...\n",
       "8  0.056  0.820  ...    0.9674   When my last visit out ended in a DNF I knew ...\n",
       "9  0.065  0.864  ...    0.5732   Found it No log inside of container is soaked...\n",
       "\n",
       "[10 rows x 5 columns]"
      ]
     },
     "execution_count": 23,
     "metadata": {
      "tags": []
     },
     "output_type": "execute_result"
    }
   ],
   "source": [
    "\n",
    "sentiments_df = pd.DataFrame(sentiments)\n",
    "sentiments_df['text corpus'] = logtxt\n",
    "sentiments_df.head(10)"
   ]
  },
  {
   "cell_type": "code",
   "execution_count": 25,
   "metadata": {
    "executionInfo": {
     "elapsed": 1260,
     "status": "ok",
     "timestamp": 1619725338009,
     "user": {
      "displayName": "Christina Holland",
      "photoUrl": "",
      "userId": "03030216789199035772"
     },
     "user_tz": 240
    },
    "id": "B_oO005qIICq"
   },
   "outputs": [],
   "source": [
    "sentiments_df.to_csv('/content/drive/MyDrive/DSI/geocaching/data/sentiments.csv',index=False)\n",
    "\n",
    "#sentiments_df.to_csv('../data/working_files/sentiments.csv',index=False)"
   ]
  },
  {
   "cell_type": "code",
   "execution_count": null,
   "metadata": {
    "id": "7fwVFhsNJtXP"
   },
   "outputs": [],
   "source": []
  }
 ],
 "metadata": {
  "colab": {
   "name": "02_00_get_sentiment.ipynb",
   "provenance": []
  },
  "kernelspec": {
   "display_name": "Python 3",
   "language": "python",
   "name": "python3"
  },
  "language_info": {
   "codemirror_mode": {
    "name": "ipython",
    "version": 3
   },
   "file_extension": ".py",
   "mimetype": "text/x-python",
   "name": "python",
   "nbconvert_exporter": "python",
   "pygments_lexer": "ipython3",
   "version": "3.8.5"
  }
 },
 "nbformat": 4,
 "nbformat_minor": 4
}
