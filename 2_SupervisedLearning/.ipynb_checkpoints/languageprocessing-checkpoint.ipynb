{
 "cells": [
  {
   "cell_type": "code",
   "execution_count": 3,
   "metadata": {
    "colab": {
     "base_uri": "https://localhost:8080/"
    },
    "executionInfo": {
     "elapsed": 23934,
     "status": "ok",
     "timestamp": 1620149557202,
     "user": {
      "displayName": "Christina Holland",
      "photoUrl": "",
      "userId": "03030216789199035772"
     },
     "user_tz": 240
    },
    "id": "UKVtJ7B8b-fe",
    "outputId": "bdc581c4-07e4-4fcb-c2f0-8eb76348ea22"
   },
   "outputs": [
    {
     "name": "stdout",
     "output_type": "stream",
     "text": [
      "Mounted at /content/drive\n"
     ]
    }
   ],
   "source": [
    "from google.colab import drive\n",
    "drive.mount('/content/drive')"
   ]
  },
  {
   "cell_type": "markdown",
   "metadata": {
    "id": "qUO999Tub16B"
   },
   "source": [
    "Import Libraries:"
   ]
  },
  {
   "cell_type": "code",
   "execution_count": 4,
   "metadata": {
    "executionInfo": {
     "elapsed": 235,
     "status": "ok",
     "timestamp": 1620149564443,
     "user": {
      "displayName": "Christina Holland",
      "photoUrl": "",
      "userId": "03030216789199035772"
     },
     "user_tz": 240
    },
    "id": "ePRKquGFb16G"
   },
   "outputs": [],
   "source": [
    "# basic tools:\n",
    "\n",
    "import pandas as pd\n",
    "import numpy as np \n",
    "import matplotlib.pyplot as plt\n",
    "import seaborn as sns\n"
   ]
  },
  {
   "cell_type": "code",
   "execution_count": 5,
   "metadata": {
    "executionInfo": {
     "elapsed": 239,
     "status": "ok",
     "timestamp": 1620149565299,
     "user": {
      "displayName": "Christina Holland",
      "photoUrl": "",
      "userId": "03030216789199035772"
     },
     "user_tz": 240
    },
    "id": "IgKlNgb4b16G"
   },
   "outputs": [],
   "source": [
    "# supervised learning tools and models:\n",
    "\n",
    "# sklearn tools:\n",
    "from sklearn.model_selection import train_test_split, cross_val_score, GridSearchCV\n",
    "from sklearn.preprocessing import StandardScaler, PolynomialFeatures\n",
    "from sklearn.pipeline import make_pipeline, Pipeline\n",
    "from sklearn.metrics import confusion_matrix, ConfusionMatrixDisplay, classification_report\n",
    "from sklearn.metrics import accuracy_score, f1_score\n",
    "# sklearn models:\n",
    "from sklearn.linear_model import LogisticRegression, LogisticRegressionCV\n",
    "from sklearn.naive_bayes import MultinomialNB, BernoulliNB\n",
    "from sklearn.neighbors import KNeighborsClassifier\n",
    "from sklearn.ensemble import RandomForestClassifier, BaggingClassifier,  AdaBoostClassifier\n",
    "from sklearn.svm import SVC\n",
    "from sklearn.tree import DecisionTreeClassifier\n",
    "\n",
    "from sklearn.feature_extraction.text import CountVectorizer\n"
   ]
  },
  {
   "cell_type": "markdown",
   "metadata": {
    "id": "DQh7opBSb16G"
   },
   "source": [
    "Load in data:"
   ]
  },
  {
   "cell_type": "code",
   "execution_count": 8,
   "metadata": {
    "executionInfo": {
     "elapsed": 150,
     "status": "ok",
     "timestamp": 1620149624970,
     "user": {
      "displayName": "Christina Holland",
      "photoUrl": "",
      "userId": "03030216789199035772"
     },
     "user_tz": 240
    },
    "id": "S4d0bcj9b16I"
   },
   "outputs": [],
   "source": []
  },
  {
   "cell_type": "code",
   "execution_count": 9,
   "metadata": {
    "colab": {
     "base_uri": "https://localhost:8080/",
     "height": 204
    },
    "executionInfo": {
     "elapsed": 1007,
     "status": "ok",
     "timestamp": 1620149639194,
     "user": {
      "displayName": "Christina Holland",
      "photoUrl": "",
      "userId": "03030216789199035772"
     },
     "user_tz": 240
    },
    "id": "pvRBnkZab16I",
    "outputId": "ada7409e-bb6d-428c-f665-e9e55e4b46ab"
   },
   "outputs": [
    {
     "data": {
      "text/html": [
       "<div>\n",
       "<style scoped>\n",
       "    .dataframe tbody tr th:only-of-type {\n",
       "        vertical-align: middle;\n",
       "    }\n",
       "\n",
       "    .dataframe tbody tr th {\n",
       "        vertical-align: top;\n",
       "    }\n",
       "\n",
       "    .dataframe thead th {\n",
       "        text-align: right;\n",
       "    }\n",
       "</style>\n",
       "<table border=\"1\" class=\"dataframe\">\n",
       "  <thead>\n",
       "    <tr style=\"text-align: right;\">\n",
       "      <th></th>\n",
       "      <th>cache_text</th>\n",
       "    </tr>\n",
       "  </thead>\n",
       "  <tbody>\n",
       "    <tr>\n",
       "      <th>0</th>\n",
       "      <td>Nickajack Two for OneThis doesn't qualify as o...</td>\n",
       "    </tr>\n",
       "    <tr>\n",
       "      <th>1</th>\n",
       "      <td>Shellmound Cache This cache is a easy P&amp;amp;G ...</td>\n",
       "    </tr>\n",
       "    <tr>\n",
       "      <th>2</th>\n",
       "      <td>ForestTreasure Take a stroll on the boardwalk ...</td>\n",
       "    </tr>\n",
       "    <tr>\n",
       "      <th>3</th>\n",
       "      <td>GA-AL-TN Tri-State RockDuring the summer of 20...</td>\n",
       "    </tr>\n",
       "    <tr>\n",
       "      <th>4</th>\n",
       "      <td>LCMT: Out On a Limb While on Little Cedar Mtn....</td>\n",
       "    </tr>\n",
       "  </tbody>\n",
       "</table>\n",
       "</div>"
      ],
      "text/plain": [
       "                                          cache_text\n",
       "0  Nickajack Two for OneThis doesn't qualify as o...\n",
       "1  Shellmound Cache This cache is a easy P&amp;G ...\n",
       "2  ForestTreasure Take a stroll on the boardwalk ...\n",
       "3  GA-AL-TN Tri-State RockDuring the summer of 20...\n",
       "4  LCMT: Out On a Limb While on Little Cedar Mtn...."
      ]
     },
     "execution_count": 9,
     "metadata": {
      "tags": []
     },
     "output_type": "execute_result"
    }
   ],
   "source": [
    "#X3 = pd.read_csv('../data/working_files/X3.csv')\n",
    "X3 = pd.read_csv('/content/drive/MyDrive/DSI/geocaching/data/X3.csv')\n",
    "X3.head()"
   ]
  },
  {
   "cell_type": "markdown",
   "metadata": {
    "id": "qdSlN7QRb16I"
   },
   "source": [
    "## Time to try some models!!"
   ]
  },
  {
   "cell_type": "markdown",
   "metadata": {
    "id": "Dllj_ODhb16I"
   },
   "source": [
    "Try models on vectorized cache text:"
   ]
  },
  {
   "cell_type": "code",
   "execution_count": 10,
   "metadata": {
    "executionInfo": {
     "elapsed": 144,
     "status": "ok",
     "timestamp": 1620149645459,
     "user": {
      "displayName": "Christina Holland",
      "photoUrl": "",
      "userId": "03030216789199035772"
     },
     "user_tz": 240
    },
    "id": "eFaT-rYpb16I"
   },
   "outputs": [],
   "source": [
    "cv0 = CountVectorizer(stop_words='english')\n",
    "stops = list(cv0.get_stop_words())\n",
    "stops += ['cache', 'caches', 'caching', 'geocache', 'geocaching', 'muggle']\n"
   ]
  },
  {
   "cell_type": "code",
   "execution_count": 11,
   "metadata": {
    "colab": {
     "base_uri": "https://localhost:8080/"
    },
    "executionInfo": {
     "elapsed": 154,
     "status": "ok",
     "timestamp": 1620149648010,
     "user": {
      "displayName": "Christina Holland",
      "photoUrl": "",
      "userId": "03030216789199035772"
     },
     "user_tz": 240
    },
    "id": "oDrvnFYPb16J",
    "outputId": "bf983995-7f37-4b3f-de0b-6f1dec637d62"
   },
   "outputs": [
    {
     "data": {
      "text/plain": [
       "['i',\n",
       " 'still',\n",
       " 'enough',\n",
       " 'hereupon',\n",
       " 'both',\n",
       " 'that',\n",
       " 'call',\n",
       " 'less',\n",
       " 'who',\n",
       " 'alone',\n",
       " 'anyhow',\n",
       " 'although',\n",
       " 'could',\n",
       " 'become',\n",
       " 'off',\n",
       " 'all',\n",
       " 'namely',\n",
       " 'much',\n",
       " 'below',\n",
       " 'against']"
      ]
     },
     "execution_count": 11,
     "metadata": {
      "tags": []
     },
     "output_type": "execute_result"
    }
   ],
   "source": [
    "stops[:20]"
   ]
  },
  {
   "cell_type": "code",
   "execution_count": 12,
   "metadata": {
    "colab": {
     "base_uri": "https://localhost:8080/"
    },
    "executionInfo": {
     "elapsed": 175,
     "status": "ok",
     "timestamp": 1620149651254,
     "user": {
      "displayName": "Christina Holland",
      "photoUrl": "",
      "userId": "03030216789199035772"
     },
     "user_tz": 240
    },
    "id": "1ZMG1Gcsb16J",
    "outputId": "5b9937bb-3859-4ebe-8448-d423bd5f4ffe"
   },
   "outputs": [
    {
     "data": {
      "text/plain": [
       "((12433, 1), (9324, 1))"
      ]
     },
     "execution_count": 12,
     "metadata": {
      "tags": []
     },
     "output_type": "execute_result"
    }
   ],
   "source": [
    "# test train split -- my data is pretty close to a 50/50 balance, but I will stratify just to be safe:\n",
    "X_train, X_test, y_train, y_test = train_test_split(X3,y,random_state = 42, stratify=y)\n",
    "\n",
    "X3.shape, X_train.shape\n"
   ]
  },
  {
   "cell_type": "code",
   "execution_count": 13,
   "metadata": {
    "colab": {
     "base_uri": "https://localhost:8080/",
     "height": 204
    },
    "executionInfo": {
     "elapsed": 174,
     "status": "ok",
     "timestamp": 1620149652474,
     "user": {
      "displayName": "Christina Holland",
      "photoUrl": "",
      "userId": "03030216789199035772"
     },
     "user_tz": 240
    },
    "id": "uNu1ayJkb16J",
    "outputId": "8a8b33d5-e3db-4824-e428-d2f605c16365"
   },
   "outputs": [
    {
     "data": {
      "text/html": [
       "<div>\n",
       "<style scoped>\n",
       "    .dataframe tbody tr th:only-of-type {\n",
       "        vertical-align: middle;\n",
       "    }\n",
       "\n",
       "    .dataframe tbody tr th {\n",
       "        vertical-align: top;\n",
       "    }\n",
       "\n",
       "    .dataframe thead th {\n",
       "        text-align: right;\n",
       "    }\n",
       "</style>\n",
       "<table border=\"1\" class=\"dataframe\">\n",
       "  <thead>\n",
       "    <tr style=\"text-align: right;\">\n",
       "      <th></th>\n",
       "      <th>cache_text</th>\n",
       "    </tr>\n",
       "  </thead>\n",
       "  <tbody>\n",
       "    <tr>\n",
       "      <th>306</th>\n",
       "      <td>In The Dog House Come experience Fort Oglethor...</td>\n",
       "    </tr>\n",
       "    <tr>\n",
       "      <th>4142</th>\n",
       "      <td>Diphthong is a funny word. \\r\\nThe Funny Word ...</td>\n",
       "    </tr>\n",
       "    <tr>\n",
       "      <th>5065</th>\n",
       "      <td>We Make it dRain Athens-Clarke County Stormwat...</td>\n",
       "    </tr>\n",
       "    <tr>\n",
       "      <th>5788</th>\n",
       "      <td>West Meets East Cache ChallengeThe cache is at...</td>\n",
       "    </tr>\n",
       "    <tr>\n",
       "      <th>6156</th>\n",
       "      <td>CamoOfficial Geocaching Bison Tube!Camouflage ...</td>\n",
       "    </tr>\n",
       "  </tbody>\n",
       "</table>\n",
       "</div>"
      ],
      "text/plain": [
       "                                             cache_text\n",
       "306   In The Dog House Come experience Fort Oglethor...\n",
       "4142  Diphthong is a funny word. \\r\\nThe Funny Word ...\n",
       "5065  We Make it dRain Athens-Clarke County Stormwat...\n",
       "5788  West Meets East Cache ChallengeThe cache is at...\n",
       "6156  CamoOfficial Geocaching Bison Tube!Camouflage ..."
      ]
     },
     "execution_count": 13,
     "metadata": {
      "tags": []
     },
     "output_type": "execute_result"
    }
   ],
   "source": [
    "X_train.head()"
   ]
  },
  {
   "cell_type": "code",
   "execution_count": 16,
   "metadata": {
    "colab": {
     "base_uri": "https://localhost:8080/",
     "height": 253
    },
    "executionInfo": {
     "elapsed": 5704,
     "status": "ok",
     "timestamp": 1620149872137,
     "user": {
      "displayName": "Christina Holland",
      "photoUrl": "",
      "userId": "03030216789199035772"
     },
     "user_tz": 240
    },
    "id": "XPdjWgrwb16J",
    "outputId": "b5fcc78a-b1ad-4d98-f1d6-87367272d2b3"
   },
   "outputs": [
    {
     "data": {
      "text/html": [
       "<div>\n",
       "<style scoped>\n",
       "    .dataframe tbody tr th:only-of-type {\n",
       "        vertical-align: middle;\n",
       "    }\n",
       "\n",
       "    .dataframe tbody tr th {\n",
       "        vertical-align: top;\n",
       "    }\n",
       "\n",
       "    .dataframe thead th {\n",
       "        text-align: right;\n",
       "    }\n",
       "</style>\n",
       "<table border=\"1\" class=\"dataframe\">\n",
       "  <thead>\n",
       "    <tr style=\"text-align: right;\">\n",
       "      <th></th>\n",
       "      <th>00</th>\n",
       "      <th>000</th>\n",
       "      <th>00000</th>\n",
       "      <th>00000000100000000</th>\n",
       "      <th>00011101</th>\n",
       "      <th>0003</th>\n",
       "      <th>000gallons</th>\n",
       "      <th>000th</th>\n",
       "      <th>001</th>\n",
       "      <th>00100000</th>\n",
       "      <th>00100001</th>\n",
       "      <th>00100011</th>\n",
       "      <th>00100100</th>\n",
       "      <th>00100101</th>\n",
       "      <th>00101000</th>\n",
       "      <th>00101001</th>\n",
       "      <th>00101010</th>\n",
       "      <th>00101110</th>\n",
       "      <th>00110000</th>\n",
       "      <th>00110001</th>\n",
       "      <th>00110010</th>\n",
       "      <th>00110011</th>\n",
       "      <th>00110011it</th>\n",
       "      <th>00110100</th>\n",
       "      <th>00110101</th>\n",
       "      <th>00110111</th>\n",
       "      <th>00111000</th>\n",
       "      <th>00111001</th>\n",
       "      <th>00111111</th>\n",
       "      <th>002</th>\n",
       "      <th>0025</th>\n",
       "      <th>003</th>\n",
       "      <th>0030</th>\n",
       "      <th>004</th>\n",
       "      <th>005</th>\n",
       "      <th>006</th>\n",
       "      <th>007</th>\n",
       "      <th>008</th>\n",
       "      <th>0081</th>\n",
       "      <th>008oak</th>\n",
       "      <th>...</th>\n",
       "      <th>zspbycp</th>\n",
       "      <th>zsyw</th>\n",
       "      <th>ztqlso</th>\n",
       "      <th>zucchini</th>\n",
       "      <th>zuckerberg</th>\n",
       "      <th>zud</th>\n",
       "      <th>zugspitze</th>\n",
       "      <th>zvenom96</th>\n",
       "      <th>zvfvh</th>\n",
       "      <th>zw83</th>\n",
       "      <th>zwe</th>\n",
       "      <th>zwerner</th>\n",
       "      <th>zwickau</th>\n",
       "      <th>zx</th>\n",
       "      <th>zxy</th>\n",
       "      <th>zxzeb</th>\n",
       "      <th>zyx</th>\n",
       "      <th>zz</th>\n",
       "      <th>zzbob</th>\n",
       "      <th>zzkr</th>\n",
       "      <th>zzxzlbibwb2ludcbuaw5ligzpdmugdhdv</th>\n",
       "      <th>zzz</th>\n",
       "      <th>zzzdon</th>\n",
       "      <th>ádi</th>\n",
       "      <th>ég</th>\n",
       "      <th>íyotake</th>\n",
       "      <th>île</th>\n",
       "      <th>în</th>\n",
       "      <th>ðà</th>\n",
       "      <th>ôn</th>\n",
       "      <th>úti</th>\n",
       "      <th>überarbeitete</th>\n",
       "      <th>übergrippen</th>\n",
       "      <th>það</th>\n",
       "      <th>þessa</th>\n",
       "      <th>þessum</th>\n",
       "      <th>þingvallavatn</th>\n",
       "      <th>þingvellir</th>\n",
       "      <th>þórisvatn</th>\n",
       "      <th>þú</th>\n",
       "    </tr>\n",
       "  </thead>\n",
       "  <tbody>\n",
       "    <tr>\n",
       "      <th>0</th>\n",
       "      <td>0</td>\n",
       "      <td>0</td>\n",
       "      <td>0</td>\n",
       "      <td>0</td>\n",
       "      <td>0</td>\n",
       "      <td>0</td>\n",
       "      <td>0</td>\n",
       "      <td>0</td>\n",
       "      <td>0</td>\n",
       "      <td>0</td>\n",
       "      <td>0</td>\n",
       "      <td>0</td>\n",
       "      <td>0</td>\n",
       "      <td>0</td>\n",
       "      <td>0</td>\n",
       "      <td>0</td>\n",
       "      <td>0</td>\n",
       "      <td>0</td>\n",
       "      <td>0</td>\n",
       "      <td>0</td>\n",
       "      <td>0</td>\n",
       "      <td>0</td>\n",
       "      <td>0</td>\n",
       "      <td>0</td>\n",
       "      <td>0</td>\n",
       "      <td>0</td>\n",
       "      <td>0</td>\n",
       "      <td>0</td>\n",
       "      <td>0</td>\n",
       "      <td>0</td>\n",
       "      <td>0</td>\n",
       "      <td>0</td>\n",
       "      <td>0</td>\n",
       "      <td>0</td>\n",
       "      <td>0</td>\n",
       "      <td>0</td>\n",
       "      <td>0</td>\n",
       "      <td>0</td>\n",
       "      <td>0</td>\n",
       "      <td>0</td>\n",
       "      <td>...</td>\n",
       "      <td>0</td>\n",
       "      <td>0</td>\n",
       "      <td>0</td>\n",
       "      <td>0</td>\n",
       "      <td>0</td>\n",
       "      <td>0</td>\n",
       "      <td>0</td>\n",
       "      <td>0</td>\n",
       "      <td>0</td>\n",
       "      <td>0</td>\n",
       "      <td>0</td>\n",
       "      <td>0</td>\n",
       "      <td>0</td>\n",
       "      <td>0</td>\n",
       "      <td>0</td>\n",
       "      <td>0</td>\n",
       "      <td>0</td>\n",
       "      <td>0</td>\n",
       "      <td>0</td>\n",
       "      <td>0</td>\n",
       "      <td>0</td>\n",
       "      <td>0</td>\n",
       "      <td>0</td>\n",
       "      <td>0</td>\n",
       "      <td>0</td>\n",
       "      <td>0</td>\n",
       "      <td>0</td>\n",
       "      <td>0</td>\n",
       "      <td>0</td>\n",
       "      <td>0</td>\n",
       "      <td>0</td>\n",
       "      <td>0</td>\n",
       "      <td>0</td>\n",
       "      <td>0</td>\n",
       "      <td>0</td>\n",
       "      <td>0</td>\n",
       "      <td>0</td>\n",
       "      <td>0</td>\n",
       "      <td>0</td>\n",
       "      <td>0</td>\n",
       "    </tr>\n",
       "    <tr>\n",
       "      <th>1</th>\n",
       "      <td>0</td>\n",
       "      <td>0</td>\n",
       "      <td>0</td>\n",
       "      <td>0</td>\n",
       "      <td>0</td>\n",
       "      <td>0</td>\n",
       "      <td>0</td>\n",
       "      <td>0</td>\n",
       "      <td>0</td>\n",
       "      <td>0</td>\n",
       "      <td>0</td>\n",
       "      <td>0</td>\n",
       "      <td>0</td>\n",
       "      <td>0</td>\n",
       "      <td>0</td>\n",
       "      <td>0</td>\n",
       "      <td>0</td>\n",
       "      <td>0</td>\n",
       "      <td>0</td>\n",
       "      <td>0</td>\n",
       "      <td>0</td>\n",
       "      <td>0</td>\n",
       "      <td>0</td>\n",
       "      <td>0</td>\n",
       "      <td>0</td>\n",
       "      <td>0</td>\n",
       "      <td>0</td>\n",
       "      <td>0</td>\n",
       "      <td>0</td>\n",
       "      <td>0</td>\n",
       "      <td>0</td>\n",
       "      <td>0</td>\n",
       "      <td>0</td>\n",
       "      <td>0</td>\n",
       "      <td>0</td>\n",
       "      <td>0</td>\n",
       "      <td>0</td>\n",
       "      <td>0</td>\n",
       "      <td>0</td>\n",
       "      <td>0</td>\n",
       "      <td>...</td>\n",
       "      <td>0</td>\n",
       "      <td>0</td>\n",
       "      <td>0</td>\n",
       "      <td>0</td>\n",
       "      <td>0</td>\n",
       "      <td>0</td>\n",
       "      <td>0</td>\n",
       "      <td>0</td>\n",
       "      <td>0</td>\n",
       "      <td>0</td>\n",
       "      <td>0</td>\n",
       "      <td>0</td>\n",
       "      <td>0</td>\n",
       "      <td>0</td>\n",
       "      <td>0</td>\n",
       "      <td>0</td>\n",
       "      <td>0</td>\n",
       "      <td>0</td>\n",
       "      <td>0</td>\n",
       "      <td>0</td>\n",
       "      <td>0</td>\n",
       "      <td>0</td>\n",
       "      <td>0</td>\n",
       "      <td>0</td>\n",
       "      <td>0</td>\n",
       "      <td>0</td>\n",
       "      <td>0</td>\n",
       "      <td>0</td>\n",
       "      <td>0</td>\n",
       "      <td>0</td>\n",
       "      <td>0</td>\n",
       "      <td>0</td>\n",
       "      <td>0</td>\n",
       "      <td>0</td>\n",
       "      <td>0</td>\n",
       "      <td>0</td>\n",
       "      <td>0</td>\n",
       "      <td>0</td>\n",
       "      <td>0</td>\n",
       "      <td>0</td>\n",
       "    </tr>\n",
       "    <tr>\n",
       "      <th>2</th>\n",
       "      <td>0</td>\n",
       "      <td>0</td>\n",
       "      <td>0</td>\n",
       "      <td>0</td>\n",
       "      <td>0</td>\n",
       "      <td>0</td>\n",
       "      <td>0</td>\n",
       "      <td>0</td>\n",
       "      <td>0</td>\n",
       "      <td>0</td>\n",
       "      <td>0</td>\n",
       "      <td>0</td>\n",
       "      <td>0</td>\n",
       "      <td>0</td>\n",
       "      <td>0</td>\n",
       "      <td>0</td>\n",
       "      <td>0</td>\n",
       "      <td>0</td>\n",
       "      <td>0</td>\n",
       "      <td>0</td>\n",
       "      <td>0</td>\n",
       "      <td>0</td>\n",
       "      <td>0</td>\n",
       "      <td>0</td>\n",
       "      <td>0</td>\n",
       "      <td>0</td>\n",
       "      <td>0</td>\n",
       "      <td>0</td>\n",
       "      <td>0</td>\n",
       "      <td>0</td>\n",
       "      <td>0</td>\n",
       "      <td>0</td>\n",
       "      <td>0</td>\n",
       "      <td>0</td>\n",
       "      <td>0</td>\n",
       "      <td>0</td>\n",
       "      <td>0</td>\n",
       "      <td>0</td>\n",
       "      <td>0</td>\n",
       "      <td>0</td>\n",
       "      <td>...</td>\n",
       "      <td>0</td>\n",
       "      <td>0</td>\n",
       "      <td>0</td>\n",
       "      <td>0</td>\n",
       "      <td>0</td>\n",
       "      <td>0</td>\n",
       "      <td>0</td>\n",
       "      <td>0</td>\n",
       "      <td>0</td>\n",
       "      <td>0</td>\n",
       "      <td>0</td>\n",
       "      <td>0</td>\n",
       "      <td>0</td>\n",
       "      <td>0</td>\n",
       "      <td>0</td>\n",
       "      <td>0</td>\n",
       "      <td>0</td>\n",
       "      <td>0</td>\n",
       "      <td>0</td>\n",
       "      <td>0</td>\n",
       "      <td>0</td>\n",
       "      <td>0</td>\n",
       "      <td>0</td>\n",
       "      <td>0</td>\n",
       "      <td>0</td>\n",
       "      <td>0</td>\n",
       "      <td>0</td>\n",
       "      <td>0</td>\n",
       "      <td>0</td>\n",
       "      <td>0</td>\n",
       "      <td>0</td>\n",
       "      <td>0</td>\n",
       "      <td>0</td>\n",
       "      <td>0</td>\n",
       "      <td>0</td>\n",
       "      <td>0</td>\n",
       "      <td>0</td>\n",
       "      <td>0</td>\n",
       "      <td>0</td>\n",
       "      <td>0</td>\n",
       "    </tr>\n",
       "    <tr>\n",
       "      <th>3</th>\n",
       "      <td>0</td>\n",
       "      <td>1</td>\n",
       "      <td>0</td>\n",
       "      <td>0</td>\n",
       "      <td>0</td>\n",
       "      <td>0</td>\n",
       "      <td>0</td>\n",
       "      <td>0</td>\n",
       "      <td>0</td>\n",
       "      <td>0</td>\n",
       "      <td>0</td>\n",
       "      <td>0</td>\n",
       "      <td>0</td>\n",
       "      <td>0</td>\n",
       "      <td>0</td>\n",
       "      <td>0</td>\n",
       "      <td>0</td>\n",
       "      <td>0</td>\n",
       "      <td>0</td>\n",
       "      <td>0</td>\n",
       "      <td>0</td>\n",
       "      <td>0</td>\n",
       "      <td>0</td>\n",
       "      <td>0</td>\n",
       "      <td>0</td>\n",
       "      <td>0</td>\n",
       "      <td>0</td>\n",
       "      <td>0</td>\n",
       "      <td>0</td>\n",
       "      <td>0</td>\n",
       "      <td>0</td>\n",
       "      <td>0</td>\n",
       "      <td>0</td>\n",
       "      <td>0</td>\n",
       "      <td>0</td>\n",
       "      <td>0</td>\n",
       "      <td>0</td>\n",
       "      <td>0</td>\n",
       "      <td>0</td>\n",
       "      <td>0</td>\n",
       "      <td>...</td>\n",
       "      <td>0</td>\n",
       "      <td>0</td>\n",
       "      <td>0</td>\n",
       "      <td>0</td>\n",
       "      <td>0</td>\n",
       "      <td>0</td>\n",
       "      <td>0</td>\n",
       "      <td>0</td>\n",
       "      <td>0</td>\n",
       "      <td>0</td>\n",
       "      <td>0</td>\n",
       "      <td>0</td>\n",
       "      <td>0</td>\n",
       "      <td>0</td>\n",
       "      <td>0</td>\n",
       "      <td>0</td>\n",
       "      <td>0</td>\n",
       "      <td>0</td>\n",
       "      <td>0</td>\n",
       "      <td>0</td>\n",
       "      <td>0</td>\n",
       "      <td>0</td>\n",
       "      <td>0</td>\n",
       "      <td>0</td>\n",
       "      <td>0</td>\n",
       "      <td>0</td>\n",
       "      <td>0</td>\n",
       "      <td>0</td>\n",
       "      <td>0</td>\n",
       "      <td>0</td>\n",
       "      <td>0</td>\n",
       "      <td>0</td>\n",
       "      <td>0</td>\n",
       "      <td>0</td>\n",
       "      <td>0</td>\n",
       "      <td>0</td>\n",
       "      <td>0</td>\n",
       "      <td>0</td>\n",
       "      <td>0</td>\n",
       "      <td>0</td>\n",
       "    </tr>\n",
       "    <tr>\n",
       "      <th>4</th>\n",
       "      <td>0</td>\n",
       "      <td>0</td>\n",
       "      <td>0</td>\n",
       "      <td>0</td>\n",
       "      <td>0</td>\n",
       "      <td>0</td>\n",
       "      <td>0</td>\n",
       "      <td>0</td>\n",
       "      <td>0</td>\n",
       "      <td>0</td>\n",
       "      <td>0</td>\n",
       "      <td>0</td>\n",
       "      <td>0</td>\n",
       "      <td>0</td>\n",
       "      <td>0</td>\n",
       "      <td>0</td>\n",
       "      <td>0</td>\n",
       "      <td>0</td>\n",
       "      <td>0</td>\n",
       "      <td>0</td>\n",
       "      <td>0</td>\n",
       "      <td>0</td>\n",
       "      <td>0</td>\n",
       "      <td>0</td>\n",
       "      <td>0</td>\n",
       "      <td>0</td>\n",
       "      <td>0</td>\n",
       "      <td>0</td>\n",
       "      <td>0</td>\n",
       "      <td>0</td>\n",
       "      <td>0</td>\n",
       "      <td>0</td>\n",
       "      <td>0</td>\n",
       "      <td>0</td>\n",
       "      <td>0</td>\n",
       "      <td>0</td>\n",
       "      <td>0</td>\n",
       "      <td>0</td>\n",
       "      <td>0</td>\n",
       "      <td>0</td>\n",
       "      <td>...</td>\n",
       "      <td>0</td>\n",
       "      <td>0</td>\n",
       "      <td>0</td>\n",
       "      <td>0</td>\n",
       "      <td>0</td>\n",
       "      <td>0</td>\n",
       "      <td>0</td>\n",
       "      <td>0</td>\n",
       "      <td>0</td>\n",
       "      <td>0</td>\n",
       "      <td>0</td>\n",
       "      <td>0</td>\n",
       "      <td>0</td>\n",
       "      <td>0</td>\n",
       "      <td>0</td>\n",
       "      <td>0</td>\n",
       "      <td>0</td>\n",
       "      <td>0</td>\n",
       "      <td>0</td>\n",
       "      <td>0</td>\n",
       "      <td>0</td>\n",
       "      <td>0</td>\n",
       "      <td>0</td>\n",
       "      <td>0</td>\n",
       "      <td>0</td>\n",
       "      <td>0</td>\n",
       "      <td>0</td>\n",
       "      <td>0</td>\n",
       "      <td>0</td>\n",
       "      <td>0</td>\n",
       "      <td>0</td>\n",
       "      <td>0</td>\n",
       "      <td>0</td>\n",
       "      <td>0</td>\n",
       "      <td>0</td>\n",
       "      <td>0</td>\n",
       "      <td>0</td>\n",
       "      <td>0</td>\n",
       "      <td>0</td>\n",
       "      <td>0</td>\n",
       "    </tr>\n",
       "  </tbody>\n",
       "</table>\n",
       "<p>5 rows × 43596 columns</p>\n",
       "</div>"
      ],
      "text/plain": [
       "   00  000  00000  00000000100000000  ...  þingvallavatn  þingvellir  þórisvatn  þú\n",
       "0   0    0      0                  0  ...              0           0          0   0\n",
       "1   0    0      0                  0  ...              0           0          0   0\n",
       "2   0    0      0                  0  ...              0           0          0   0\n",
       "3   0    1      0                  0  ...              0           0          0   0\n",
       "4   0    0      0                  0  ...              0           0          0   0\n",
       "\n",
       "[5 rows x 43596 columns]"
      ]
     },
     "execution_count": 16,
     "metadata": {
      "tags": []
     },
     "output_type": "execute_result"
    }
   ],
   "source": [
    "cv = CountVectorizer(stop_words=stops)\n",
    "cv.fit(X_train['cache_text'])\n",
    "Z_train = cv.transform(X_train['cache_text'])\n",
    "Z_test = cv.transform(X_test['cache_text'])\n",
    "\n",
    "words = pd.DataFrame(Z_train.todense(),columns= cv.get_feature_names())\n",
    "words.head()"
   ]
  },
  {
   "cell_type": "code",
   "execution_count": 18,
   "metadata": {
    "colab": {
     "base_uri": "https://localhost:8080/"
    },
    "executionInfo": {
     "elapsed": 4482,
     "status": "ok",
     "timestamp": 1620149914377,
     "user": {
      "displayName": "Christina Holland",
      "photoUrl": "",
      "userId": "03030216789199035772"
     },
     "user_tz": 240
    },
    "id": "FlYcUc2fb16K",
    "outputId": "0c8d31eb-2b96-41b5-c6c4-60d6d05136e0"
   },
   "outputs": [
    {
     "data": {
      "text/plain": [
       "LogisticRegression(C=1.0, class_weight=None, dual=False, fit_intercept=True,\n",
       "                   intercept_scaling=1, l1_ratio=None, max_iter=1000,\n",
       "                   multi_class='auto', n_jobs=None, penalty='l2',\n",
       "                   random_state=None, solver='lbfgs', tol=0.0001, verbose=0,\n",
       "                   warm_start=False)"
      ]
     },
     "execution_count": 18,
     "metadata": {
      "tags": []
     },
     "output_type": "execute_result"
    }
   ],
   "source": [
    "lr = LogisticRegression(max_iter=1000)\n",
    "lr.fit(Z_train, y_train)"
   ]
  },
  {
   "cell_type": "code",
   "execution_count": 20,
   "metadata": {
    "colab": {
     "base_uri": "https://localhost:8080/",
     "height": 345
    },
    "executionInfo": {
     "elapsed": 452,
     "status": "ok",
     "timestamp": 1620150162606,
     "user": {
      "displayName": "Christina Holland",
      "photoUrl": "",
      "userId": "03030216789199035772"
     },
     "user_tz": 240
    },
    "id": "PpFqfOCZb16K",
    "outputId": "8062cfc1-4cba-4a86-f939-5be39fb3dd90"
   },
   "outputs": [
    {
     "data": {
      "text/html": [
       "<div>\n",
       "<style scoped>\n",
       "    .dataframe tbody tr th:only-of-type {\n",
       "        vertical-align: middle;\n",
       "    }\n",
       "\n",
       "    .dataframe tbody tr th {\n",
       "        vertical-align: top;\n",
       "    }\n",
       "\n",
       "    .dataframe thead th {\n",
       "        text-align: right;\n",
       "    }\n",
       "</style>\n",
       "<table border=\"1\" class=\"dataframe\">\n",
       "  <thead>\n",
       "    <tr style=\"text-align: right;\">\n",
       "      <th></th>\n",
       "      <th>model</th>\n",
       "      <th>features used</th>\n",
       "      <th>accuracy</th>\n",
       "      <th>recall</th>\n",
       "      <th>precision</th>\n",
       "      <th>f1-score</th>\n",
       "    </tr>\n",
       "  </thead>\n",
       "  <tbody>\n",
       "    <tr>\n",
       "      <th>0</th>\n",
       "      <td>Log Regression</td>\n",
       "      <td>Cache Text Only</td>\n",
       "      <td>0.696044</td>\n",
       "      <td>0.640374</td>\n",
       "      <td>0.701832</td>\n",
       "      <td>0.669696</td>\n",
       "    </tr>\n",
       "  </tbody>\n",
       "</table>\n",
       "</div>"
      ],
      "text/plain": [
       "            model    features used  accuracy    recall  precision  f1-score\n",
       "0  Log Regression  Cache Text Only  0.696044  0.640374   0.701832  0.669696"
      ]
     },
     "execution_count": 20,
     "metadata": {
      "tags": []
     },
     "output_type": "execute_result"
    },
    {
     "data": {
      "image/png": "[encoded data removed]",
      "text/plain": [
       "<Figure size 432x288 with 2 Axes>"
      ]
     },
     "metadata": {
      "needs_background": "light",
      "tags": []
     },
     "output_type": "display_data"
    }
   ],
   "source": [
    "scores = []\n",
    "\n",
    "preds_lr = lr.predict(Z_test)\n",
    "\n",
    "cm = confusion_matrix(y_test,preds_lr)\n",
    "acc = (cm[0][0]+cm[1][1])/(cm[0][0]+cm[0][1]+cm[1][0]+cm[1][1])\n",
    "rec = cm[1][1]/(cm[1][1] + cm[1][0])\n",
    "prc = cm[1][1]/(cm[1][1] + cm[0][1])\n",
    "f1  = 2*prc*rec/(prc+rec)\n",
    "\n",
    "# precision and recall are undefined)\n",
    "\n",
    "ConfusionMatrixDisplay(confusion_matrix=cm, display_labels=['0-1', '>1']).plot()\n",
    "\n",
    "scores.append({\n",
    "    'model'        : 'Log Regression',\n",
    "    'features used': 'Cache Text Only',\n",
    "    'accuracy'     : acc,\n",
    "    'recall'       : rec,\n",
    "    'precision'    : prc,\n",
    "    'f1-score'     : f1\n",
    "})\n",
    "\n",
    "pd.DataFrame(scores)"
   ]
  },
  {
   "cell_type": "code",
   "execution_count": 21,
   "metadata": {
    "colab": {
     "base_uri": "https://localhost:8080/",
     "height": 368
    },
    "executionInfo": {
     "elapsed": 146550,
     "status": "ok",
     "timestamp": 1620150466050,
     "user": {
      "displayName": "Christina Holland",
      "photoUrl": "",
      "userId": "03030216789199035772"
     },
     "user_tz": 240
    },
    "id": "cTMsqF0IeT_d",
    "outputId": "928916f7-769e-42f2-f444-9881ad79c645"
   },
   "outputs": [
    {
     "name": "stdout",
     "output_type": "stream",
     "text": [
      "KNeighborsClassifier\n",
      "DecisionTreeClassifier\n",
      "RandomForestClassifier\n",
      "BaggingClassifier\n",
      "AdaBoostClassifier\n",
      "SVC\n"
     ]
    },
    {
     "data": {
      "text/html": [
       "<div>\n",
       "<style scoped>\n",
       "    .dataframe tbody tr th:only-of-type {\n",
       "        vertical-align: middle;\n",
       "    }\n",
       "\n",
       "    .dataframe tbody tr th {\n",
       "        vertical-align: top;\n",
       "    }\n",
       "\n",
       "    .dataframe thead th {\n",
       "        text-align: right;\n",
       "    }\n",
       "</style>\n",
       "<table border=\"1\" class=\"dataframe\">\n",
       "  <thead>\n",
       "    <tr style=\"text-align: right;\">\n",
       "      <th></th>\n",
       "      <th>model</th>\n",
       "      <th>features used</th>\n",
       "      <th>accuracy</th>\n",
       "      <th>recall</th>\n",
       "      <th>precision</th>\n",
       "      <th>f1-score</th>\n",
       "    </tr>\n",
       "  </thead>\n",
       "  <tbody>\n",
       "    <tr>\n",
       "      <th>0</th>\n",
       "      <td>Log Regression</td>\n",
       "      <td>Cache Text Only</td>\n",
       "      <td>0.696044</td>\n",
       "      <td>0.640374</td>\n",
       "      <td>0.701832</td>\n",
       "      <td>0.669696</td>\n",
       "    </tr>\n",
       "    <tr>\n",
       "      <th>1</th>\n",
       "      <td>KNeighborsClassifier</td>\n",
       "      <td>Cache Text Only</td>\n",
       "      <td>0.629141</td>\n",
       "      <td>0.394385</td>\n",
       "      <td>0.704898</td>\n",
       "      <td>0.505787</td>\n",
       "    </tr>\n",
       "    <tr>\n",
       "      <th>2</th>\n",
       "      <td>DecisionTreeClassifier</td>\n",
       "      <td>Cache Text Only</td>\n",
       "      <td>0.658411</td>\n",
       "      <td>0.616979</td>\n",
       "      <td>0.653683</td>\n",
       "      <td>0.634801</td>\n",
       "    </tr>\n",
       "    <tr>\n",
       "      <th>3</th>\n",
       "      <td>RandomForestClassifier</td>\n",
       "      <td>Cache Text Only</td>\n",
       "      <td>0.723705</td>\n",
       "      <td>0.643717</td>\n",
       "      <td>0.747091</td>\n",
       "      <td>0.691562</td>\n",
       "    </tr>\n",
       "    <tr>\n",
       "      <th>4</th>\n",
       "      <td>BaggingClassifier</td>\n",
       "      <td>Cache Text Only</td>\n",
       "      <td>0.689611</td>\n",
       "      <td>0.608957</td>\n",
       "      <td>0.705655</td>\n",
       "      <td>0.653750</td>\n",
       "    </tr>\n",
       "    <tr>\n",
       "      <th>5</th>\n",
       "      <td>AdaBoostClassifier</td>\n",
       "      <td>Cache Text Only</td>\n",
       "      <td>0.682535</td>\n",
       "      <td>0.541444</td>\n",
       "      <td>0.729073</td>\n",
       "      <td>0.621404</td>\n",
       "    </tr>\n",
       "    <tr>\n",
       "      <th>6</th>\n",
       "      <td>SVC</td>\n",
       "      <td>Cache Text Only</td>\n",
       "      <td>0.703120</td>\n",
       "      <td>0.513369</td>\n",
       "      <td>0.797508</td>\n",
       "      <td>0.624644</td>\n",
       "    </tr>\n",
       "  </tbody>\n",
       "</table>\n",
       "</div>"
      ],
      "text/plain": [
       "                    model    features used  ...  precision  f1-score\n",
       "0          Log Regression  Cache Text Only  ...   0.701832  0.669696\n",
       "1    KNeighborsClassifier  Cache Text Only  ...   0.704898  0.505787\n",
       "2  DecisionTreeClassifier  Cache Text Only  ...   0.653683  0.634801\n",
       "3  RandomForestClassifier  Cache Text Only  ...   0.747091  0.691562\n",
       "4       BaggingClassifier  Cache Text Only  ...   0.705655  0.653750\n",
       "5      AdaBoostClassifier  Cache Text Only  ...   0.729073  0.621404\n",
       "6                     SVC  Cache Text Only  ...   0.797508  0.624644\n",
       "\n",
       "[7 rows x 6 columns]"
      ]
     },
     "execution_count": 21,
     "metadata": {
      "tags": []
     },
     "output_type": "execute_result"
    }
   ],
   "source": [
    "models = [KNeighborsClassifier(),\n",
    "          DecisionTreeClassifier(), \n",
    "          RandomForestClassifier(), \n",
    "          BaggingClassifier(),  \n",
    "          AdaBoostClassifier(),\n",
    "          SVC()]\n",
    "modellabel = ['KNeighborsClassifier', \n",
    "              'DecisionTreeClassifier', \n",
    "              'RandomForestClassifier', \n",
    "              'BaggingClassifier',  \n",
    "              'AdaBoostClassifier',\n",
    "              'SVC']\n",
    "\n",
    "for n,model in enumerate(models):\n",
    "\n",
    "    model.fit(Z_train,y_train)\n",
    "    pred = model.predict(Z_test)\n",
    "    cm = confusion_matrix(y_test,pred)\n",
    "    acc = (cm[0][0]+cm[1][1])/(cm[0][0]+cm[0][1]+cm[1][0]+cm[1][1])\n",
    "    rec = cm[1][1]/(cm[1][1] + cm[1][0])\n",
    "    prc = cm[1][1]/(cm[1][1] + cm[0][1])\n",
    "    f1  = 2*prc*rec/(prc+rec)\n",
    "    scores.append({\n",
    "        'model'        : modellabel[n],\n",
    "        'features used': 'Cache Text Only',\n",
    "        'accuracy'     : acc,\n",
    "        'recall'       : rec,\n",
    "        'precision'    : prc,\n",
    "        'f1-score'     : f1\n",
    "    })\n",
    "    print(modellabel[n])\n",
    "\n",
    "pd.DataFrame(scores)"
   ]
  },
  {
   "cell_type": "code",
   "execution_count": 22,
   "metadata": {
    "executionInfo": {
     "elapsed": 268,
     "status": "ok",
     "timestamp": 1620150579796,
     "user": {
      "displayName": "Christina Holland",
      "photoUrl": "",
      "userId": "03030216789199035772"
     },
     "user_tz": 240
    },
    "id": "2u1e9CPHe_lO"
   },
   "outputs": [],
   "source": [
    "text_scores = pd.DataFrame(scores)\n",
    "text_scores.to_csv('/content/drive/MyDrive/DSI/geocaching/data/text_scores.csv',index=False)\n",
    "\n",
    "#text_scores.to_csv('../data/working_files/text_scores.csv',index=False)"
   ]
  },
  {
   "cell_type": "code",
   "execution_count": 23,
   "metadata": {
    "executionInfo": {
     "elapsed": 140,
     "status": "ok",
     "timestamp": 1620151674185,
     "user": {
      "displayName": "Christina Holland",
      "photoUrl": "",
      "userId": "03030216789199035772"
     },
     "user_tz": 240
    },
    "id": "WQeolTJ0f_EI"
   },
   "outputs": [],
   "source": [
    "# What are the most important words?"
   ]
  },
  {
   "cell_type": "code",
   "execution_count": 25,
   "metadata": {
    "colab": {
     "base_uri": "https://localhost:8080/"
    },
    "executionInfo": {
     "elapsed": 274,
     "status": "ok",
     "timestamp": 1620151795820,
     "user": {
      "displayName": "Christina Holland",
      "photoUrl": "",
      "userId": "03030216789199035772"
     },
     "user_tz": 240
    },
    "id": "gGfL2CgckKSA",
    "outputId": "27b53974-ec63-4f56-924d-5a7901927824"
   },
   "outputs": [
    {
     "name": "stdout",
     "output_type": "stream",
     "text": [
      "<class 'pandas.core.frame.DataFrame'>\n",
      "RangeIndex: 43596 entries, 0 to 43595\n",
      "Data columns (total 2 columns):\n",
      " #   Column  Non-Null Count  Dtype  \n",
      "---  ------  --------------  -----  \n",
      " 0   word    43596 non-null  object \n",
      " 1   coef    43596 non-null  float64\n",
      "dtypes: float64(1), object(1)\n",
      "memory usage: 681.3+ KB\n"
     ]
    }
   ],
   "source": [
    "terms = cv.get_feature_names() # The actual words.\n",
    "coefs = lr.coef_[0] # The model coefficients for each word.\n",
    "bagOwords = pd.DataFrame(terms)\n",
    "bagOwords['word'] = bagOwords[0]\n",
    "bagOwords.drop(columns=0,inplace=True)\n",
    "bagOwords['coef'] = coefs\n",
    "bagOwords.info()"
   ]
  },
  {
   "cell_type": "code",
   "execution_count": 26,
   "metadata": {
    "colab": {
     "base_uri": "https://localhost:8080/",
     "height": 669
    },
    "executionInfo": {
     "elapsed": 162,
     "status": "ok",
     "timestamp": 1620151815735,
     "user": {
      "displayName": "Christina Holland",
      "photoUrl": "",
      "userId": "03030216789199035772"
     },
     "user_tz": 240
    },
    "id": "kJQmXuI9kPiQ",
    "outputId": "6a23dcfe-5dd3-42b9-f616-03e0a6e6a1a9"
   },
   "outputs": [
    {
     "data": {
      "text/html": [
       "<div>\n",
       "<style scoped>\n",
       "    .dataframe tbody tr th:only-of-type {\n",
       "        vertical-align: middle;\n",
       "    }\n",
       "\n",
       "    .dataframe tbody tr th {\n",
       "        vertical-align: top;\n",
       "    }\n",
       "\n",
       "    .dataframe thead th {\n",
       "        text-align: right;\n",
       "    }\n",
       "</style>\n",
       "<table border=\"1\" class=\"dataframe\">\n",
       "  <thead>\n",
       "    <tr style=\"text-align: right;\">\n",
       "      <th></th>\n",
       "      <th>word</th>\n",
       "      <th>coef</th>\n",
       "    </tr>\n",
       "  </thead>\n",
       "  <tbody>\n",
       "    <tr>\n",
       "      <th>39920</th>\n",
       "      <td>triple</td>\n",
       "      <td>-1.212213</td>\n",
       "    </tr>\n",
       "    <tr>\n",
       "      <th>3418</th>\n",
       "      <td>academy</td>\n",
       "      <td>-1.206983</td>\n",
       "    </tr>\n",
       "    <tr>\n",
       "      <th>24634</th>\n",
       "      <td>lonely</td>\n",
       "      <td>-1.167490</td>\n",
       "    </tr>\n",
       "    <tr>\n",
       "      <th>11389</th>\n",
       "      <td>crooked</td>\n",
       "      <td>-1.113452</td>\n",
       "    </tr>\n",
       "    <tr>\n",
       "      <th>19632</th>\n",
       "      <td>handicap</td>\n",
       "      <td>-1.101462</td>\n",
       "    </tr>\n",
       "    <tr>\n",
       "      <th>28388</th>\n",
       "      <td>online</td>\n",
       "      <td>-1.099311</td>\n",
       "    </tr>\n",
       "    <tr>\n",
       "      <th>19656</th>\n",
       "      <td>handy</td>\n",
       "      <td>-1.065622</td>\n",
       "    </tr>\n",
       "    <tr>\n",
       "      <th>26286</th>\n",
       "      <td>minutes</td>\n",
       "      <td>-1.047466</td>\n",
       "    </tr>\n",
       "    <tr>\n",
       "      <th>24298</th>\n",
       "      <td>limits</td>\n",
       "      <td>-1.033423</td>\n",
       "    </tr>\n",
       "    <tr>\n",
       "      <th>41775</th>\n",
       "      <td>wally</td>\n",
       "      <td>-1.010853</td>\n",
       "    </tr>\n",
       "    <tr>\n",
       "      <th>20768</th>\n",
       "      <td>horticultural</td>\n",
       "      <td>-1.010235</td>\n",
       "    </tr>\n",
       "    <tr>\n",
       "      <th>27593</th>\n",
       "      <td>nights</td>\n",
       "      <td>-1.004821</td>\n",
       "    </tr>\n",
       "    <tr>\n",
       "      <th>16829</th>\n",
       "      <td>fresh</td>\n",
       "      <td>-1.003773</td>\n",
       "    </tr>\n",
       "    <tr>\n",
       "      <th>1125</th>\n",
       "      <td>2021</td>\n",
       "      <td>-1.003706</td>\n",
       "    </tr>\n",
       "    <tr>\n",
       "      <th>42823</th>\n",
       "      <td>works</td>\n",
       "      <td>-0.995863</td>\n",
       "    </tr>\n",
       "    <tr>\n",
       "      <th>35068</th>\n",
       "      <td>shadow</td>\n",
       "      <td>-0.982810</td>\n",
       "    </tr>\n",
       "    <tr>\n",
       "      <th>25705</th>\n",
       "      <td>meal</td>\n",
       "      <td>-0.976413</td>\n",
       "    </tr>\n",
       "    <tr>\n",
       "      <th>33463</th>\n",
       "      <td>rite</td>\n",
       "      <td>-0.966128</td>\n",
       "    </tr>\n",
       "    <tr>\n",
       "      <th>30106</th>\n",
       "      <td>piney</td>\n",
       "      <td>-0.954491</td>\n",
       "    </tr>\n",
       "    <tr>\n",
       "      <th>26385</th>\n",
       "      <td>mkb</td>\n",
       "      <td>-0.950704</td>\n",
       "    </tr>\n",
       "  </tbody>\n",
       "</table>\n",
       "</div>"
      ],
      "text/plain": [
       "                word      coef\n",
       "39920         triple -1.212213\n",
       "3418         academy -1.206983\n",
       "24634         lonely -1.167490\n",
       "11389        crooked -1.113452\n",
       "19632       handicap -1.101462\n",
       "28388         online -1.099311\n",
       "19656          handy -1.065622\n",
       "26286        minutes -1.047466\n",
       "24298         limits -1.033423\n",
       "41775          wally -1.010853\n",
       "20768  horticultural -1.010235\n",
       "27593         nights -1.004821\n",
       "16829          fresh -1.003773\n",
       "1125            2021 -1.003706\n",
       "42823          works -0.995863\n",
       "35068         shadow -0.982810\n",
       "25705           meal -0.976413\n",
       "33463           rite -0.966128\n",
       "30106          piney -0.954491\n",
       "26385            mkb -0.950704"
      ]
     },
     "execution_count": 26,
     "metadata": {
      "tags": []
     },
     "output_type": "execute_result"
    }
   ],
   "source": [
    "bagOwords.sort_values(by='coef').head(20) # words that predict favpoints <2"
   ]
  },
  {
   "cell_type": "code",
   "execution_count": 28,
   "metadata": {
    "colab": {
     "base_uri": "https://localhost:8080/",
     "height": 669
    },
    "executionInfo": {
     "elapsed": 209,
     "status": "ok",
     "timestamp": 1620151871994,
     "user": {
      "displayName": "Christina Holland",
      "photoUrl": "",
      "userId": "03030216789199035772"
     },
     "user_tz": 240
    },
    "id": "5wGZYaYYks1Z",
    "outputId": "bf238c92-4fc3-423d-b023-ff54cf574b6a"
   },
   "outputs": [
    {
     "data": {
      "text/html": [
       "<div>\n",
       "<style scoped>\n",
       "    .dataframe tbody tr th:only-of-type {\n",
       "        vertical-align: middle;\n",
       "    }\n",
       "\n",
       "    .dataframe tbody tr th {\n",
       "        vertical-align: top;\n",
       "    }\n",
       "\n",
       "    .dataframe thead th {\n",
       "        text-align: right;\n",
       "    }\n",
       "</style>\n",
       "<table border=\"1\" class=\"dataframe\">\n",
       "  <thead>\n",
       "    <tr style=\"text-align: right;\">\n",
       "      <th></th>\n",
       "      <th>word</th>\n",
       "      <th>coef</th>\n",
       "    </tr>\n",
       "  </thead>\n",
       "  <tbody>\n",
       "    <tr>\n",
       "      <th>19541</th>\n",
       "      <td>haha</td>\n",
       "      <td>0.992340</td>\n",
       "    </tr>\n",
       "    <tr>\n",
       "      <th>23539</th>\n",
       "      <td>la</td>\n",
       "      <td>0.998257</td>\n",
       "    </tr>\n",
       "    <tr>\n",
       "      <th>40402</th>\n",
       "      <td>unactivated</td>\n",
       "      <td>1.003489</td>\n",
       "    </tr>\n",
       "    <tr>\n",
       "      <th>16021</th>\n",
       "      <td>finally</td>\n",
       "      <td>1.018258</td>\n",
       "    </tr>\n",
       "    <tr>\n",
       "      <th>1457</th>\n",
       "      <td>2byop</td>\n",
       "      <td>1.018576</td>\n",
       "    </tr>\n",
       "    <tr>\n",
       "      <th>6876</th>\n",
       "      <td>bobemkat</td>\n",
       "      <td>1.037347</td>\n",
       "    </tr>\n",
       "    <tr>\n",
       "      <th>1119</th>\n",
       "      <td>2019</td>\n",
       "      <td>1.038453</td>\n",
       "    </tr>\n",
       "    <tr>\n",
       "      <th>40771</th>\n",
       "      <td>unusual</td>\n",
       "      <td>1.041543</td>\n",
       "    </tr>\n",
       "    <tr>\n",
       "      <th>6991</th>\n",
       "      <td>boo2931</td>\n",
       "      <td>1.041809</td>\n",
       "    </tr>\n",
       "    <tr>\n",
       "      <th>30303</th>\n",
       "      <td>plantstrong</td>\n",
       "      <td>1.046672</td>\n",
       "    </tr>\n",
       "    <tr>\n",
       "      <th>42202</th>\n",
       "      <td>westbound</td>\n",
       "      <td>1.080269</td>\n",
       "    </tr>\n",
       "    <tr>\n",
       "      <th>9198</th>\n",
       "      <td>checking</td>\n",
       "      <td>1.093736</td>\n",
       "    </tr>\n",
       "    <tr>\n",
       "      <th>8365</th>\n",
       "      <td>canna</td>\n",
       "      <td>1.122084</td>\n",
       "    </tr>\n",
       "    <tr>\n",
       "      <th>24092</th>\n",
       "      <td>letterman</td>\n",
       "      <td>1.123332</td>\n",
       "    </tr>\n",
       "    <tr>\n",
       "      <th>32995</th>\n",
       "      <td>reside</td>\n",
       "      <td>1.151501</td>\n",
       "    </tr>\n",
       "    <tr>\n",
       "      <th>16164</th>\n",
       "      <td>fits</td>\n",
       "      <td>1.227077</td>\n",
       "    </tr>\n",
       "    <tr>\n",
       "      <th>40012</th>\n",
       "      <td>trunk</td>\n",
       "      <td>1.230801</td>\n",
       "    </tr>\n",
       "    <tr>\n",
       "      <th>38437</th>\n",
       "      <td>teambulldawg</td>\n",
       "      <td>1.240578</td>\n",
       "    </tr>\n",
       "    <tr>\n",
       "      <th>20783</th>\n",
       "      <td>host</td>\n",
       "      <td>1.247643</td>\n",
       "    </tr>\n",
       "    <tr>\n",
       "      <th>40252</th>\n",
       "      <td>twisted</td>\n",
       "      <td>1.289838</td>\n",
       "    </tr>\n",
       "  </tbody>\n",
       "</table>\n",
       "</div>"
      ],
      "text/plain": [
       "               word      coef\n",
       "19541          haha  0.992340\n",
       "23539            la  0.998257\n",
       "40402   unactivated  1.003489\n",
       "16021       finally  1.018258\n",
       "1457          2byop  1.018576\n",
       "6876       bobemkat  1.037347\n",
       "1119           2019  1.038453\n",
       "40771       unusual  1.041543\n",
       "6991        boo2931  1.041809\n",
       "30303   plantstrong  1.046672\n",
       "42202     westbound  1.080269\n",
       "9198       checking  1.093736\n",
       "8365          canna  1.122084\n",
       "24092     letterman  1.123332\n",
       "32995        reside  1.151501\n",
       "16164          fits  1.227077\n",
       "40012         trunk  1.230801\n",
       "38437  teambulldawg  1.240578\n",
       "20783          host  1.247643\n",
       "40252       twisted  1.289838"
      ]
     },
     "execution_count": 28,
     "metadata": {
      "tags": []
     },
     "output_type": "execute_result"
    }
   ],
   "source": [
    "bagOwords.sort_values(by='coef').tail(20) # words that predict favpoints>=2"
   ]
  },
  {
   "cell_type": "code",
   "execution_count": 29,
   "metadata": {
    "executionInfo": {
     "elapsed": 276,
     "status": "ok",
     "timestamp": 1620151981566,
     "user": {
      "displayName": "Christina Holland",
      "photoUrl": "",
      "userId": "03030216789199035772"
     },
     "user_tz": 240
    },
    "id": "L9e1RcW8kxDo"
   },
   "outputs": [],
   "source": [
    "bagOwords.to_csv('/content/drive/MyDrive/DSI/geocaching/data/bagOwords.csv',index=False)\n",
    "\n",
    "# bagOwords.to_csv('../data/working_files/bagOwords.csv',index=False)"
   ]
  },
  {
   "cell_type": "code",
   "execution_count": null,
   "metadata": {
    "id": "EpTAk3HflVSR"
   },
   "outputs": [],
   "source": []
  }
 ],
 "metadata": {
  "colab": {
   "name": "02_02_languageprocessing.ipynb",
   "provenance": [],
   "toc_visible": true
  },
  "kernelspec": {
   "display_name": "Python 3",
   "language": "python",
   "name": "python3"
  },
  "language_info": {
   "codemirror_mode": {
    "name": "ipython",
    "version": 3
   },
   "file_extension": ".py",
   "mimetype": "text/x-python",
   "name": "python",
   "nbconvert_exporter": "python",
   "pygments_lexer": "ipython3",
   "version": "3.8.5"
  }
 },
 "nbformat": 4,
 "nbformat_minor": 4
}
