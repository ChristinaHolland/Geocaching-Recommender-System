{
 "cells": [
  {
   "cell_type": "code",
   "execution_count": null,
   "metadata": {
    "id": "Us-rHE3wCI7B"
   },
   "outputs": [],
   "source": []
  },
  {
   "cell_type": "code",
   "execution_count": null,
   "metadata": {
    "id": "RXc7wSRLCG5W"
   },
   "outputs": [],
   "source": []
  },
  {
   "cell_type": "code",
   "execution_count": 1,
   "metadata": {
    "colab": {
     "base_uri": "https://localhost:8080/"
    },
    "executionInfo": {
     "elapsed": 22116,
     "status": "ok",
     "timestamp": 1620173554237,
     "user": {
      "displayName": "Christina Holland",
      "photoUrl": "",
      "userId": "03030216789199035772"
     },
     "user_tz": 240
    },
    "id": "sZUH9fqu3hHV",
    "outputId": "22dfd5c3-e90a-472f-eb8a-1f332e5f9aaf"
   },
   "outputs": [
    {
     "name": "stdout",
     "output_type": "stream",
     "text": [
      "Mounted at /content/drive\n"
     ]
    }
   ],
   "source": [
    "from google.colab import drive\n",
    "drive.mount('/content/drive')"
   ]
  },
  {
   "cell_type": "markdown",
   "metadata": {
    "id": "TCIsTeTo3flS"
   },
   "source": [
    "Import Libraries:"
   ]
  },
  {
   "cell_type": "code",
   "execution_count": 2,
   "metadata": {
    "executionInfo": {
     "elapsed": 1033,
     "status": "ok",
     "timestamp": 1620173558963,
     "user": {
      "displayName": "Christina Holland",
      "photoUrl": "",
      "userId": "03030216789199035772"
     },
     "user_tz": 240
    },
    "id": "FBV_qcHJ3flY"
   },
   "outputs": [],
   "source": [
    "# basic tools:\n",
    "\n",
    "import pandas as pd\n",
    "import numpy as np \n",
    "import matplotlib.pyplot as plt\n",
    "import seaborn as sns\n"
   ]
  },
  {
   "cell_type": "code",
   "execution_count": 53,
   "metadata": {
    "executionInfo": {
     "elapsed": 161,
     "status": "ok",
     "timestamp": 1620175289520,
     "user": {
      "displayName": "Christina Holland",
      "photoUrl": "",
      "userId": "03030216789199035772"
     },
     "user_tz": 240
    },
    "id": "guSxK_dg3flY"
   },
   "outputs": [],
   "source": [
    "# supervised learning tools and models:\n",
    "\n",
    "# sklearn tools:\n",
    "from sklearn.model_selection import train_test_split, cross_val_score, GridSearchCV\n",
    "from sklearn.preprocessing import StandardScaler\n",
    "\n",
    "from sklearn.metrics import confusion_matrix, ConfusionMatrixDisplay, classification_report\n",
    "from sklearn.metrics import accuracy_score, f1_score\n",
    "\n",
    "\n",
    "from tensorflow.keras.models import Sequential\n",
    "from tensorflow.keras.layers import Dense, Dropout\n",
    "from tensorflow.keras.regularizers import l2\n",
    "from tensorflow.keras.callbacks import EarlyStopping\n",
    "\n",
    "import tensorflow as tf\n",
    "np.random.seed(42)\n"
   ]
  },
  {
   "cell_type": "markdown",
   "metadata": {
    "id": "6dTEoPq73flZ"
   },
   "source": [
    "Load in data:"
   ]
  },
  {
   "cell_type": "code",
   "execution_count": 54,
   "metadata": {
    "executionInfo": {
     "elapsed": 765,
     "status": "ok",
     "timestamp": 1620175297109,
     "user": {
      "displayName": "Christina Holland",
      "photoUrl": "",
      "userId": "03030216789199035772"
     },
     "user_tz": 240
    },
    "id": "WgY_SNtX3flZ"
   },
   "outputs": [],
   "source": [
    "#X2 = pd.read_csv('../data/working_files/X2.csv')\n",
    "X2 = pd.read_csv('/content/drive/MyDrive/DSI/geocaching/data/X2.csv')\n",
    "#df = pd.read_csv('../data/working_files/cleaned_data.csv')\n",
    "df = pd.read_csv('/content/drive/MyDrive/DSI/geocaching/data/cleaned_data.csv')"
   ]
  },
  {
   "cell_type": "markdown",
   "metadata": {
    "id": "GQTX-dge3flZ"
   },
   "source": [
    "### Prepare X and y:\n",
    "\n",
    "I will try supervised classification models to predict fav_points (as binary), using:\n",
    "1. Numerical and dummy/binary data only\n",
    "2. Numerical, dummy/binary + sentiment of logs\n",
    "3. Cache text only\n",
    "4. Numerical, dummy/binary + sentiment of logs + binary for KEY words\n"
   ]
  },
  {
   "cell_type": "code",
   "execution_count": 55,
   "metadata": {
    "colab": {
     "base_uri": "https://localhost:8080/"
    },
    "executionInfo": {
     "elapsed": 153,
     "status": "ok",
     "timestamp": 1620175298388,
     "user": {
      "displayName": "Christina Holland",
      "photoUrl": "",
      "userId": "03030216789199035772"
     },
     "user_tz": 240
    },
    "id": "21lMK5S13fla",
    "outputId": "04b11f61-2818-469b-f5ba-b022b4b7b3d4"
   },
   "outputs": [
    {
     "data": {
      "text/plain": [
       "0    0.518781\n",
       "1    0.481219\n",
       "Name: fav_points_binary, dtype: float64"
      ]
     },
     "execution_count": 55,
     "metadata": {
      "tags": []
     },
     "output_type": "execute_result"
    }
   ],
   "source": [
    "# y:\n",
    "df['fav_points_binary'] = [1 if f>1 else 0 for f in list(df['fav_points'])]\n",
    "\n",
    "y = df['fav_points_binary']\n",
    "y.value_counts(normalize=True)\n"
   ]
  },
  {
   "cell_type": "code",
   "execution_count": 56,
   "metadata": {
    "executionInfo": {
     "elapsed": 248,
     "status": "ok",
     "timestamp": 1620175299740,
     "user": {
      "displayName": "Christina Holland",
      "photoUrl": "",
      "userId": "03030216789199035772"
     },
     "user_tz": 240
    },
    "id": "LAxdYPbI3flb"
   },
   "outputs": [],
   "source": [
    "X2_dilute = X2.copy()\n",
    "X2_dilute = X2_dilute[['difficulty',\n",
    "       'terrain', 'size', 'status', 'is_premium',\n",
    "       'short_description', 'long_description', 'hints', 'travel_bugs', 'cache_type_Earth',\n",
    "       'cache_type_Event', 'cache_type_Letterbox',\n",
    "       'cache_type_Lost and Found Event', 'cache_type_Maze Exhibit',\n",
    "       'cache_type_Mega event', 'cache_type_Multi', 'cache_type_Traditional',\n",
    "       'cache_type_Unknown/Mystery', 'cache_type_Virtual', 'cache_type_Webcam',\n",
    "       'cache_type_Wherigo']]\n",
    "X_train, X_test, y_train, y_test = train_test_split(X2_dilute,y, test_size=0.2, random_state=42, stratify=y)\n"
   ]
  },
  {
   "cell_type": "code",
   "execution_count": 57,
   "metadata": {
    "colab": {
     "base_uri": "https://localhost:8080/"
    },
    "executionInfo": {
     "elapsed": 112,
     "status": "ok",
     "timestamp": 1620175300090,
     "user": {
      "displayName": "Christina Holland",
      "photoUrl": "",
      "userId": "03030216789199035772"
     },
     "user_tz": 240
    },
    "id": "gDFpSGI63flb",
    "outputId": "9d7a8edb-1458-40e2-87c3-d8bad1f39733"
   },
   "outputs": [
    {
     "data": {
      "text/plain": [
       "21"
      ]
     },
     "execution_count": 57,
     "metadata": {
      "tags": []
     },
     "output_type": "execute_result"
    }
   ],
   "source": [
    "sc = StandardScaler()\n",
    "\n",
    "X_train_sc = sc.fit_transform(X_train)\n",
    "X_test_sc = sc.transform(X_test)\n",
    "X_train.shape[1]"
   ]
  },
  {
   "cell_type": "code",
   "execution_count": 58,
   "metadata": {
    "colab": {
     "base_uri": "https://localhost:8080/"
    },
    "executionInfo": {
     "elapsed": 8422,
     "status": "ok",
     "timestamp": 1620175309581,
     "user": {
      "displayName": "Christina Holland",
      "photoUrl": "",
      "userId": "03030216789199035772"
     },
     "user_tz": 240
    },
    "id": "qcyRFN2y3flb",
    "outputId": "bb90d963-6a2d-414b-c40c-a66ea1decfc0"
   },
   "outputs": [
    {
     "name": "stdout",
     "output_type": "stream",
     "text": [
      "Epoch 1/40\n",
      "100/100 [==============================] - 2s 11ms/step - loss: 0.6429 - precision: 0.5980 - val_loss: 0.5925 - val_precision: 0.7122\n",
      "Epoch 2/40\n",
      "100/100 [==============================] - 1s 8ms/step - loss: 0.5773 - precision: 0.7010 - val_loss: 0.5837 - val_precision: 0.6882\n",
      "Epoch 3/40\n",
      "100/100 [==============================] - 1s 8ms/step - loss: 0.5758 - precision: 0.6958 - val_loss: 0.5753 - val_precision: 0.6817\n",
      "Epoch 4/40\n",
      "100/100 [==============================] - 1s 8ms/step - loss: 0.5730 - precision: 0.7058 - val_loss: 0.5727 - val_precision: 0.6921\n",
      "Epoch 5/40\n",
      "100/100 [==============================] - 1s 8ms/step - loss: 0.5671 - precision: 0.7144 - val_loss: 0.5726 - val_precision: 0.7153\n",
      "Epoch 6/40\n",
      "100/100 [==============================] - 1s 8ms/step - loss: 0.5641 - precision: 0.7229 - val_loss: 0.5771 - val_precision: 0.7068\n",
      "Epoch 7/40\n",
      "100/100 [==============================] - 1s 9ms/step - loss: 0.5646 - precision: 0.7148 - val_loss: 0.5749 - val_precision: 0.6916\n",
      "Epoch 8/40\n",
      "100/100 [==============================] - 1s 9ms/step - loss: 0.5642 - precision: 0.7224 - val_loss: 0.5764 - val_precision: 0.7339\n"
     ]
    }
   ],
   "source": [
    "model = Sequential()\n",
    "\n",
    "model.add(Dense(256, activation = 'relu', input_shape = (X_train.shape[1],)))\n",
    "model.add(Dense(256, activation = 'relu'))\n",
    "model.add(Dense(128, activation = 'relu'))\n",
    "model.add(Dense(128, activation = 'relu'))\n",
    "model.add(Dense(64, activation = 'relu'))\n",
    "model.add(Dense(64, activation = 'relu'))\n",
    "model.add(Dense(64, activation = 'relu'))\n",
    "model.add(Dense(64, activation = 'relu'))\n",
    "model.add(Dense(32, activation = 'relu'))\n",
    "model.add(Dense(32, activation = 'relu'))\n",
    "model.add(Dense(16, activation = 'relu'))\n",
    "model.add(Dense(8, activation = 'relu'))\n",
    "\n",
    "model.add(Dense(1, activation = 'sigmoid'))\n",
    "\n",
    "stop = EarlyStopping(monitor = 'val_loss', patience = 3)\n",
    "\n",
    "#compile the model\n",
    "model.compile(loss = 'binary_crossentropy', optimizer = 'adam', metrics = ['Precision'])\n",
    "\n",
    "# fit the model\n",
    "results = model.fit(X_train_sc, y_train,\n",
    "                    batch_size = 100,\n",
    "                    epochs = 40, \n",
    "                    validation_data = (X_test_sc, y_test),\n",
    "                    callbacks = stop,\n",
    "                    verbose = 1)"
   ]
  },
  {
   "cell_type": "code",
   "execution_count": 59,
   "metadata": {
    "colab": {
     "base_uri": "https://localhost:8080/",
     "height": 324
    },
    "executionInfo": {
     "elapsed": 822,
     "status": "ok",
     "timestamp": 1620175313159,
     "user": {
      "displayName": "Christina Holland",
      "photoUrl": "",
      "userId": "03030216789199035772"
     },
     "user_tz": 240
    },
    "id": "Bb-4gcMj41cC",
    "outputId": "7d6dc266-8ab8-4ad8-c27f-acfd1011ab25"
   },
   "outputs": [
    {
     "data": {
      "image/png": "[encoded data removed]",
      "text/plain": [
       "<Figure size 864x360 with 2 Axes>"
      ]
     },
     "metadata": {
      "needs_background": "light",
      "tags": []
     },
     "output_type": "display_data"
    }
   ],
   "source": [
    "fig = plt.figure(figsize=(12,5));\n",
    "ax = fig.add_subplot(121);\n",
    "plt.plot(results.history['loss'], label='Training Loss');\n",
    "plt.plot(results.history['val_loss'], label='Validation Loss')\n",
    "plt.legend();\n",
    "ax = fig.add_subplot(122);\n",
    "plt.plot(results.history['precision'], label='Training Precision');\n",
    "plt.plot(results.history['val_precision'], label='Validation Precision')\n",
    "plt.legend();"
   ]
  },
  {
   "cell_type": "code",
   "execution_count": 60,
   "metadata": {
    "colab": {
     "base_uri": "https://localhost:8080/"
    },
    "executionInfo": {
     "elapsed": 389,
     "status": "ok",
     "timestamp": 1620175317638,
     "user": {
      "displayName": "Christina Holland",
      "photoUrl": "",
      "userId": "03030216789199035772"
     },
     "user_tz": 240
    },
    "id": "lhvjf3NJ5ZM6",
    "outputId": "b3ad6c90-aab0-4931-a046-6c9ec11dab11"
   },
   "outputs": [
    {
     "data": {
      "text/plain": [
       "array([1., 1., 1., ..., 0., 1., 0.], dtype=float32)"
      ]
     },
     "execution_count": 60,
     "metadata": {
      "tags": []
     },
     "output_type": "execute_result"
    }
   ],
   "source": [
    "predictions = model.predict(X_test_sc)\n",
    "bin_predictions = tf.round(predictions).numpy().flatten()\n",
    "bin_predictions"
   ]
  },
  {
   "cell_type": "code",
   "execution_count": 61,
   "metadata": {
    "colab": {
     "base_uri": "https://localhost:8080/"
    },
    "executionInfo": {
     "elapsed": 167,
     "status": "ok",
     "timestamp": 1620175318651,
     "user": {
      "displayName": "Christina Holland",
      "photoUrl": "",
      "userId": "03030216789199035772"
     },
     "user_tz": 240
    },
    "id": "-Y9Kig_Y7IZs",
    "outputId": "18d88e5c-04fb-4b83-91c7-92e336a771e5"
   },
   "outputs": [
    {
     "name": "stdout",
     "output_type": "stream",
     "text": [
      "              precision    recall  f1-score   support\n",
      "\n",
      "           0       0.68      0.80      0.73      1290\n",
      "           1       0.73      0.59      0.65      1197\n",
      "\n",
      "    accuracy                           0.70      2487\n",
      "   macro avg       0.71      0.70      0.69      2487\n",
      "weighted avg       0.70      0.70      0.70      2487\n",
      "\n"
     ]
    }
   ],
   "source": [
    "print(classification_report(y_test, bin_predictions));\n",
    "\n",
    "cm = confusion_matrix(y_test,bin_predictions)\n",
    "acc = (cm[0][0]+cm[1][1])/(cm[0][0]+cm[0][1]+cm[1][0]+cm[1][1])\n",
    "rec = cm[1][1]/(cm[1][1] + cm[1][0])\n",
    "prc = cm[1][1]/(cm[1][1] + cm[0][1])\n",
    "f1  = 2*prc*rec/(prc+rec)\n"
   ]
  },
  {
   "cell_type": "code",
   "execution_count": 62,
   "metadata": {
    "colab": {
     "base_uri": "https://localhost:8080/"
    },
    "executionInfo": {
     "elapsed": 170,
     "status": "ok",
     "timestamp": 1620175320888,
     "user": {
      "displayName": "Christina Holland",
      "photoUrl": "",
      "userId": "03030216789199035772"
     },
     "user_tz": 240
    },
    "id": "FcYy3emp7XTE",
    "outputId": "82771c8d-864c-43bd-b2f3-6a54c1ac4f8c"
   },
   "outputs": [
    {
     "name": "stdout",
     "output_type": "stream",
     "text": [
      "RF accuracy  = 0.695215, NN accuracy  = 0.6996381182147166\n",
      "RF recall    = 0.582289, NN recall    = 0.5898078529657477\n",
      "RF precision = 0.729843, NN precision = 0.7338877338877339\n",
      "RF f1-score  = 0.647770, NN f1-score  = 0.6540064844835571\n"
     ]
    }
   ],
   "source": [
    "print(f'RF accuracy  = 0.695215, NN accuracy  = {acc}')\t\n",
    "print(f'RF recall    = 0.582289, NN recall    = {rec}')\n",
    "print(f'RF precision = 0.729843, NN precision = {prc}')\n",
    "print(f'RF f1-score  = 0.647770, NN f1-score  = {f1}')"
   ]
  },
  {
   "cell_type": "code",
   "execution_count": 73,
   "metadata": {
    "colab": {
     "base_uri": "https://localhost:8080/"
    },
    "executionInfo": {
     "elapsed": 163,
     "status": "ok",
     "timestamp": 1620175744377,
     "user": {
      "displayName": "Christina Holland",
      "photoUrl": "",
      "userId": "03030216789199035772"
     },
     "user_tz": 240
    },
    "id": "iQ_WeYDW-9gt",
    "outputId": "f26f68a6-53d3-4ae2-cf1d-df917139927e"
   },
   "outputs": [
    {
     "name": "stdout",
     "output_type": "stream",
     "text": [
      "Model: \"sequential_10\"\n",
      "_________________________________________________________________\n",
      "Layer (type)                 Output Shape              Param #   \n",
      "=================================================================\n",
      "dense_92 (Dense)             (None, 256)               5632      \n",
      "_________________________________________________________________\n",
      "dense_93 (Dense)             (None, 256)               65792     \n",
      "_________________________________________________________________\n",
      "dense_94 (Dense)             (None, 128)               32896     \n",
      "_________________________________________________________________\n",
      "dense_95 (Dense)             (None, 128)               16512     \n",
      "_________________________________________________________________\n",
      "dense_96 (Dense)             (None, 64)                8256      \n",
      "_________________________________________________________________\n",
      "dense_97 (Dense)             (None, 64)                4160      \n",
      "_________________________________________________________________\n",
      "dense_98 (Dense)             (None, 64)                4160      \n",
      "_________________________________________________________________\n",
      "dense_99 (Dense)             (None, 64)                4160      \n",
      "_________________________________________________________________\n",
      "dense_100 (Dense)            (None, 32)                2080      \n",
      "_________________________________________________________________\n",
      "dense_101 (Dense)            (None, 32)                1056      \n",
      "_________________________________________________________________\n",
      "dense_102 (Dense)            (None, 16)                528       \n",
      "_________________________________________________________________\n",
      "dense_103 (Dense)            (None, 8)                 136       \n",
      "_________________________________________________________________\n",
      "dense_104 (Dense)            (None, 1)                 9         \n",
      "=================================================================\n",
      "Total params: 145,377\n",
      "Trainable params: 145,377\n",
      "Non-trainable params: 0\n",
      "_________________________________________________________________\n"
     ]
    }
   ],
   "source": [
    "model.summary()\n"
   ]
  },
  {
   "cell_type": "markdown",
   "metadata": {
    "id": "YT57CPiBDzYu"
   },
   "source": [
    "This is very marginal improvement. I will stick with the random forest model for my app."
   ]
  },
  {
   "cell_type": "code",
   "execution_count": null,
   "metadata": {
    "id": "D05I5NcqD1RJ"
   },
   "outputs": [],
   "source": []
  }
 ],
 "metadata": {
  "colab": {
   "name": "02_03_supervised_nnet.ipynb",
   "provenance": [],
   "toc_visible": true
  },
  "kernelspec": {
   "display_name": "Python 3",
   "language": "python",
   "name": "python3"
  },
  "language_info": {
   "codemirror_mode": {
    "name": "ipython",
    "version": 3
   },
   "file_extension": ".py",
   "mimetype": "text/x-python",
   "name": "python",
   "nbconvert_exporter": "python",
   "pygments_lexer": "ipython3",
   "version": "3.8.5"
  }
 },
 "nbformat": 4,
 "nbformat_minor": 4
}
