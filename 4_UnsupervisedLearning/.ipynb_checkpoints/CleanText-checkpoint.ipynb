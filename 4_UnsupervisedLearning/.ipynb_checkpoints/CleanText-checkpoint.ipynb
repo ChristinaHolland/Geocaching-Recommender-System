{
 "cells": [
  {
   "cell_type": "markdown",
   "metadata": {},
   "source": [
    "## Cleaning the text for the cosine similarity analysis"
   ]
  },
  {
   "cell_type": "code",
   "execution_count": 1,
   "metadata": {},
   "outputs": [],
   "source": [
    "\n",
    "import numpy as np\n",
    "import pandas as pd\n",
    "\n"
   ]
  },
  {
   "cell_type": "code",
   "execution_count": 2,
   "metadata": {},
   "outputs": [],
   "source": [
    "CT = pd.read_csv('../data/working_files/ctext.csv')\n"
   ]
  },
  {
   "cell_type": "code",
   "execution_count": 3,
   "metadata": {},
   "outputs": [],
   "source": [
    "\n",
    "import mechanize\n",
    "import nltk\n",
    "from bs4 import BeautifulSoup\n",
    "from html2text import html2text \n",
    "import re\n",
    "\n",
    "def clean_html(html):\n",
    "    \"\"\"\n",
    "    Copied from NLTK package.\n",
    "    Remove HTML markup from the given string.\n",
    "\n",
    "    :param html: the HTML string to be cleaned\n",
    "    :type html: str\n",
    "    :rtype: str\n",
    "    \"\"\"\n",
    "\n",
    "    # First we remove inline JavaScript/CSS:\n",
    "    cleaned = re.sub(r\"(?is)<(script|style).*?>.*?(</\\1>)\", \"\", html.strip())\n",
    "    # Then we remove html comments. This has to be done before removing regular\n",
    "    # tags since comments can contain '>' characters.\n",
    "    cleaned = re.sub(r\"(?s)<!--(.*?)-->[\\n]?\", \"\", cleaned)\n",
    "    # Next we can remove the remaining tags:\n",
    "    cleaned = re.sub(r\"(?s)<.*?>\", \" \", cleaned)\n",
    "    # Finally, we deal with whitespace\n",
    "    cleaned = re.sub(r\"&nbsp;\", \" \", cleaned)\n",
    "    cleaned = re.sub(r\"  \", \" \", cleaned)\n",
    "    cleaned = re.sub(r\"  \", \" \", cleaned)\n",
    "    return cleaned.strip()\n",
    "\n",
    "# https://stackoverflow.com/questions/26002076/python-nltk-clean-html-not-implemented\n"
   ]
  },
  {
   "cell_type": "code",
   "execution_count": 4,
   "metadata": {},
   "outputs": [],
   "source": [
    "\n",
    "CT['clean_text'] = [clean_html(txt) for txt in list(CT['cache_text'])]"
   ]
  },
  {
   "cell_type": "code",
   "execution_count": 5,
   "metadata": {},
   "outputs": [
    {
     "data": {
      "text/html": [
       "<div>\n",
       "<style scoped>\n",
       "    .dataframe tbody tr th:only-of-type {\n",
       "        vertical-align: middle;\n",
       "    }\n",
       "\n",
       "    .dataframe tbody tr th {\n",
       "        vertical-align: top;\n",
       "    }\n",
       "\n",
       "    .dataframe thead th {\n",
       "        text-align: right;\n",
       "    }\n",
       "</style>\n",
       "<table border=\"1\" class=\"dataframe\">\n",
       "  <thead>\n",
       "    <tr style=\"text-align: right;\">\n",
       "      <th></th>\n",
       "      <th>name_index</th>\n",
       "      <th>cache_text</th>\n",
       "      <th>clean_text</th>\n",
       "    </tr>\n",
       "  </thead>\n",
       "  <tbody>\n",
       "    <tr>\n",
       "      <th>0</th>\n",
       "      <td>0.16</td>\n",
       "      <td>South River Trail: Triple Claw&lt;p&gt;This cache is...</td>\n",
       "      <td>South River Trail: Triple Claw This cache is j...</td>\n",
       "    </tr>\n",
       "    <tr>\n",
       "      <th>1</th>\n",
       "      <td>0.36</td>\n",
       "      <td>Canada Traveler Challenge: 5 Provinces&lt;center&gt;...</td>\n",
       "      <td>Canada Traveler Challenge: 5 Provinces This is...</td>\n",
       "    </tr>\n",
       "    <tr>\n",
       "      <th>2</th>\n",
       "      <td>1.96</td>\n",
       "      <td>Milledge Mystery Renewed&lt;h3 style=\"text-align:...</td>\n",
       "      <td>Milledge Mystery Renewed ** The cache is NOT a...</td>\n",
       "    </tr>\n",
       "    <tr>\n",
       "      <th>3</th>\n",
       "      <td>2.56</td>\n",
       "      <td>Guarding South Fulton #21This cache is for the...</td>\n",
       "      <td>Guarding South Fulton #21This cache is for the...</td>\n",
       "    </tr>\n",
       "    <tr>\n",
       "      <th>4</th>\n",
       "      <td>5.76</td>\n",
       "      <td>Hottest Park n Ride&lt;p&gt;Urban sprawl has come to...</td>\n",
       "      <td>Hottest Park n Ride Urban sprawl has come to F...</td>\n",
       "    </tr>\n",
       "  </tbody>\n",
       "</table>\n",
       "</div>"
      ],
      "text/plain": [
       "   name_index                                         cache_text  \\\n",
       "0        0.16  South River Trail: Triple Claw<p>This cache is...   \n",
       "1        0.36  Canada Traveler Challenge: 5 Provinces<center>...   \n",
       "2        1.96  Milledge Mystery Renewed<h3 style=\"text-align:...   \n",
       "3        2.56  Guarding South Fulton #21This cache is for the...   \n",
       "4        5.76  Hottest Park n Ride<p>Urban sprawl has come to...   \n",
       "\n",
       "                                          clean_text  \n",
       "0  South River Trail: Triple Claw This cache is j...  \n",
       "1  Canada Traveler Challenge: 5 Provinces This is...  \n",
       "2  Milledge Mystery Renewed ** The cache is NOT a...  \n",
       "3  Guarding South Fulton #21This cache is for the...  \n",
       "4  Hottest Park n Ride Urban sprawl has come to F...  "
      ]
     },
     "execution_count": 5,
     "metadata": {},
     "output_type": "execute_result"
    }
   ],
   "source": [
    "CT.head()"
   ]
  },
  {
   "cell_type": "code",
   "execution_count": 6,
   "metadata": {},
   "outputs": [
    {
     "data": {
      "text/html": [
       "<div>\n",
       "<style scoped>\n",
       "    .dataframe tbody tr th:only-of-type {\n",
       "        vertical-align: middle;\n",
       "    }\n",
       "\n",
       "    .dataframe tbody tr th {\n",
       "        vertical-align: top;\n",
       "    }\n",
       "\n",
       "    .dataframe thead th {\n",
       "        text-align: right;\n",
       "    }\n",
       "</style>\n",
       "<table border=\"1\" class=\"dataframe\">\n",
       "  <thead>\n",
       "    <tr style=\"text-align: right;\">\n",
       "      <th></th>\n",
       "      <th>name_index</th>\n",
       "      <th>clean_text</th>\n",
       "    </tr>\n",
       "  </thead>\n",
       "  <tbody>\n",
       "    <tr>\n",
       "      <th>0</th>\n",
       "      <td>0.16</td>\n",
       "      <td>South River Trail: Triple Claw This cache is j...</td>\n",
       "    </tr>\n",
       "    <tr>\n",
       "      <th>1</th>\n",
       "      <td>0.36</td>\n",
       "      <td>Canada Traveler Challenge: 5 Provinces This is...</td>\n",
       "    </tr>\n",
       "    <tr>\n",
       "      <th>2</th>\n",
       "      <td>1.96</td>\n",
       "      <td>Milledge Mystery Renewed ** The cache is NOT a...</td>\n",
       "    </tr>\n",
       "    <tr>\n",
       "      <th>3</th>\n",
       "      <td>2.56</td>\n",
       "      <td>Guarding South Fulton #21This cache is for the...</td>\n",
       "    </tr>\n",
       "    <tr>\n",
       "      <th>4</th>\n",
       "      <td>5.76</td>\n",
       "      <td>Hottest Park n Ride Urban sprawl has come to F...</td>\n",
       "    </tr>\n",
       "  </tbody>\n",
       "</table>\n",
       "</div>"
      ],
      "text/plain": [
       "   name_index                                         clean_text\n",
       "0        0.16  South River Trail: Triple Claw This cache is j...\n",
       "1        0.36  Canada Traveler Challenge: 5 Provinces This is...\n",
       "2        1.96  Milledge Mystery Renewed ** The cache is NOT a...\n",
       "3        2.56  Guarding South Fulton #21This cache is for the...\n",
       "4        5.76  Hottest Park n Ride Urban sprawl has come to F..."
      ]
     },
     "execution_count": 6,
     "metadata": {},
     "output_type": "execute_result"
    }
   ],
   "source": [
    "CT.drop(columns=['cache_text'],inplace=True)\n",
    "CT.head()"
   ]
  },
  {
   "cell_type": "code",
   "execution_count": 7,
   "metadata": {},
   "outputs": [],
   "source": [
    "CT.to_csv('../data/working_files/clean_text.csv',index=False)\n"
   ]
  }
 ],
 "metadata": {
  "kernelspec": {
   "display_name": "Python 3",
   "language": "python",
   "name": "python3"
  },
  "language_info": {
   "codemirror_mode": {
    "name": "ipython",
    "version": 3
   },
   "file_extension": ".py",
   "mimetype": "text/x-python",
   "name": "python",
   "nbconvert_exporter": "python",
   "pygments_lexer": "ipython3",
   "version": "3.8.5"
  }
 },
 "nbformat": 4,
 "nbformat_minor": 4
}
