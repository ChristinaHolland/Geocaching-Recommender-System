{
 "cells": [
  {
   "cell_type": "markdown",
   "metadata": {},
   "source": [
    "I don't want to put the codes, names, and coordinates of the entire database of geocaches into an undecrypted, publically available database. Geocaching.com requires a login, and ethically I should not just make all of that data open.\n",
    "\n",
    "I am therefore making separate diles for the geocache codes, names, coordinates, and the anonymized info, and those will be the only files uploaded.\n",
    "\n",
    "This file is my key to associating dataframes for (A) names, (B) codes, (C) coordinates, and (D) other info. This notebook will redacted before upload."
   ]
  },
  {
   "cell_type": "code",
   "execution_count": 1,
   "metadata": {},
   "outputs": [],
   "source": [
    "import pandas as pd\n",
    "import numpy as np \n",
    "import matplotlib.pyplot as plt\n",
    "import seaborn as sns\n"
   ]
  },
  {
   "cell_type": "code",
   "execution_count": 2,
   "metadata": {},
   "outputs": [],
   "source": [
    "features = pd.read_csv('../data/working_files/features.csv')\n",
    "df = pd.read_csv('../data/working_files/cleaned_data.csv')\n",
    "txt_col_list = list(features[features['feature type']=='text']['feature'])\n",
    "for col in txt_col_list:\n",
    "    df[col] = df[col].fillna('')\n",
    "X2 = pd.read_csv('./data/X2.csv')\n"
   ]
  },
  {
   "cell_type": "code",
   "execution_count": 3,
   "metadata": {},
   "outputs": [
    {
     "data": {
      "text/plain": [
       "12433"
      ]
     },
     "execution_count": 3,
     "metadata": {},
     "output_type": "execute_result"
    }
   ],
   "source": [
    "L = df.shape[0]\n",
    "L"
   ]
  },
  {
   "cell_type": "code",
   "execution_count": 4,
   "metadata": {},
   "outputs": [
    {
     "data": {
      "text/plain": [
       "12433"
      ]
     },
     "execution_count": 4,
     "metadata": {},
     "output_type": "execute_result"
    }
   ],
   "source": [
    "# index for codes: \n",
    "\n",
    "C = list(range(L))\n",
    "len(C)\n"
   ]
  },
  {
   "cell_type": "code",
   "execution_count": 46,
   "metadata": {},
   "outputs": [],
   "source": [
    "K0 = '0918273645.1425367.908.9012783465'\n"
   ]
  },
  {
   "cell_type": "code",
   "execution_count": 47,
   "metadata": {},
   "outputs": [],
   "source": [
    "\n",
    "KEY = [pd.to_numeric(K0[7] +K0[0] +K0[24] +K0[20]+K0[10]+K0[8]), \n",
    "       pd.to_numeric(K0[13]+K0[20]+K0[0]  +K0[24]+K0[10]+K0[13]), \n",
    "       pd.to_numeric(K0[23]+K0[24]+K0[20] +K0[0] +K0[22]+K0[29])]\n",
    "#KEY"
   ]
  },
  {
   "cell_type": "code",
   "execution_count": 48,
   "metadata": {},
   "outputs": [],
   "source": [
    "# index for names:\n",
    "def CodetoName(c_list):\n",
    "    n_list  = [np.power(cc-KEY[0],2) for cc in c_list]\n",
    "    return n_list\n",
    "\n",
    "N = CodetoName(C)\n",
    "\n",
    "# index for lat-long:\n",
    "def CodetoCoords(c_list):\n",
    "    xy_list = [np.power(cc-KEY[1],2) for cc in c_list]\n",
    "    return xy_list\n",
    "\n",
    "XY = CodetoCoords(C)\n",
    "\n",
    "# index for other info:\n",
    "def CodetoOtherInfo(c_list):\n",
    "    z_list  = [np.power(cc-KEY[2],2) for cc in c_list]\n",
    "    return z_list\n",
    "\n",
    "Z = CodetoOtherInfo(C)\n",
    "\n",
    "def NametoCode(n_list):\n",
    "    A = [np.power(nn,0.5) for nn in n_list]\n",
    "    c_list = [np.round(KEY[0]+aa) if aa%1>0.5 else np.round(KEY[0]-aa) for aa in A]\n",
    "    c_list = [int(cc) for cc in c_list]\n",
    "    return c_list\n",
    "\n",
    "def CoordstoCode(xy_list):\n",
    "    A = [np.power(xy,0.5) for xy in xy_list]\n",
    "    c_list = [np.round(KEY[1]+aa) if aa%1>0.5 else np.round(KEY[1]-aa) for aa in A]\n",
    "    c_list = [int(cc) for cc in c_list]\n",
    "    return c_list\n",
    "\n",
    "def OtherInfotoCode(z_list):\n",
    "    A = [np.power(zz,0.5) for zz in z_list]\n",
    "    c_list = [np.round(KEY[2]+aa) if aa%1>0.5 else np.round(KEY[2]-aa) for aa in A]\n",
    "    c_list = [int(cc) for cc in c_list]\n",
    "    return c_list"
   ]
  },
  {
   "cell_type": "code",
   "execution_count": 49,
   "metadata": {},
   "outputs": [
    {
     "name": "stdout",
     "output_type": "stream",
     "text": [
      "0 0\n",
      "0 0\n",
      "0 0\n"
     ]
    }
   ],
   "source": [
    "Cchk = NametoCode(N)\n",
    "chk = np.array(C)-np.array(Cchk)\n",
    "print(chk.min(), chk.max())\n",
    "\n",
    "Cchk = CoordstoCode(XY)\n",
    "chk = np.array(C)-np.array(Cchk)\n",
    "print(chk.min(), chk.max())\n",
    "\n",
    "Cchk = OtherInfotoCode(Z)\n",
    "chk = np.array(C)-np.array(Cchk)\n",
    "print(chk.min(), chk.max())"
   ]
  },
  {
   "cell_type": "code",
   "execution_count": 50,
   "metadata": {},
   "outputs": [
    {
     "data": {
      "text/html": [
       "<div>\n",
       "<style scoped>\n",
       "    .dataframe tbody tr th:only-of-type {\n",
       "        vertical-align: middle;\n",
       "    }\n",
       "\n",
       "    .dataframe tbody tr th {\n",
       "        vertical-align: top;\n",
       "    }\n",
       "\n",
       "    .dataframe thead th {\n",
       "        text-align: right;\n",
       "    }\n",
       "</style>\n",
       "<table border=\"1\" class=\"dataframe\">\n",
       "  <thead>\n",
       "    <tr style=\"text-align: right;\">\n",
       "      <th></th>\n",
       "      <th>Code Index</th>\n",
       "      <th>Name Index</th>\n",
       "      <th>Coords Index</th>\n",
       "      <th>Index to Other Info</th>\n",
       "    </tr>\n",
       "  </thead>\n",
       "  <tbody>\n",
       "    <tr>\n",
       "      <th>0</th>\n",
       "      <td>0</td>\n",
       "      <td>36004800.16</td>\n",
       "      <td>4000800.04</td>\n",
       "      <td>81005400.09</td>\n",
       "    </tr>\n",
       "    <tr>\n",
       "      <th>1</th>\n",
       "      <td>1</td>\n",
       "      <td>35992800.36</td>\n",
       "      <td>3996800.64</td>\n",
       "      <td>80987400.49</td>\n",
       "    </tr>\n",
       "    <tr>\n",
       "      <th>2</th>\n",
       "      <td>2</td>\n",
       "      <td>35980802.56</td>\n",
       "      <td>3992803.24</td>\n",
       "      <td>80969402.89</td>\n",
       "    </tr>\n",
       "    <tr>\n",
       "      <th>3</th>\n",
       "      <td>3</td>\n",
       "      <td>35968806.76</td>\n",
       "      <td>3988807.84</td>\n",
       "      <td>80951407.29</td>\n",
       "    </tr>\n",
       "    <tr>\n",
       "      <th>4</th>\n",
       "      <td>4</td>\n",
       "      <td>35956812.96</td>\n",
       "      <td>3984814.44</td>\n",
       "      <td>80933413.69</td>\n",
       "    </tr>\n",
       "  </tbody>\n",
       "</table>\n",
       "</div>"
      ],
      "text/plain": [
       "   Code Index   Name Index  Coords Index  Index to Other Info\n",
       "0           0  36004800.16    4000800.04          81005400.09\n",
       "1           1  35992800.36    3996800.64          80987400.49\n",
       "2           2  35980802.56    3992803.24          80969402.89\n",
       "3           3  35968806.76    3988807.84          80951407.29\n",
       "4           4  35956812.96    3984814.44          80933413.69"
      ]
     },
     "execution_count": 50,
     "metadata": {},
     "output_type": "execute_result"
    }
   ],
   "source": [
    "chk = pd.DataFrame({'Code Index': C, 'Name Index': N, 'Coords Index': XY, 'Index to Other Info': Z})\n",
    "chk.head()"
   ]
  },
  {
   "cell_type": "code",
   "execution_count": 51,
   "metadata": {},
   "outputs": [
    {
     "data": {
      "image/png": "[encoded data removed]",
      "text/plain": [
       "<Figure size 720x720 with 4 Axes>"
      ]
     },
     "metadata": {
      "needs_background": "light"
     },
     "output_type": "display_data"
    }
   ],
   "source": [
    "fig = plt.figure(figsize=(10,10));\n",
    "ax = fig.add_subplot(2,2,1);\n",
    "plt.plot(C,N,label='Name ndx');\n",
    "plt.plot(C,XY,label='Coords ndx');\n",
    "plt.plot(C,Z,label='OtherInfo ndx');\n",
    "plt.ylabel('vs. Code ndx');\n",
    "plt.legend();\n",
    "ax = fig.add_subplot(2,2,2);\n",
    "plt.plot(N,C,label='Code ndx');\n",
    "plt.plot(N,XY,label='Coords ndx');\n",
    "plt.plot(N,Z,label='OtherInfo ndx');\n",
    "plt.ylabel('vs. Name ndx');\n",
    "plt.legend();\n",
    "ax = fig.add_subplot(2,2,3);\n",
    "plt.plot(XY,N,label='Name ndx');\n",
    "plt.plot(XY,C,label='Code ndx');\n",
    "plt.plot(XY,Z,label='OtherInfo ndx');\n",
    "plt.ylabel('vs. Coords ndx');\n",
    "plt.legend();\n",
    "ax = fig.add_subplot(2,2,4);\n",
    "plt.plot(Z,C,label='Code ndx');\n",
    "plt.plot(Z,N,label='Name ndx');\n",
    "plt.plot(Z,XY,label='Coords ndx');\n",
    "plt.ylabel('vs. OtherInfo ndx');\n",
    "plt.legend();\n"
   ]
  },
  {
   "cell_type": "code",
   "execution_count": 52,
   "metadata": {},
   "outputs": [
    {
     "data": {
      "text/plain": [
       "Code Index             12433\n",
       "Name Index             12433\n",
       "Coords Index           12433\n",
       "Index to Other Info    12433\n",
       "dtype: int64"
      ]
     },
     "execution_count": 52,
     "metadata": {},
     "output_type": "execute_result"
    }
   ],
   "source": [
    "chk.nunique()"
   ]
  },
  {
   "cell_type": "code",
   "execution_count": 53,
   "metadata": {},
   "outputs": [
    {
     "name": "stdout",
     "output_type": "stream",
     "text": [
      "<class 'pandas.core.frame.DataFrame'>\n",
      "RangeIndex: 12433 entries, 0 to 12432\n",
      "Data columns (total 4 columns):\n",
      " #   Column               Non-Null Count  Dtype  \n",
      "---  ------               --------------  -----  \n",
      " 0   Code Index           12433 non-null  int64  \n",
      " 1   Name Index           12433 non-null  float64\n",
      " 2   Coords Index         12433 non-null  float64\n",
      " 3   Index to Other Info  12433 non-null  float64\n",
      "dtypes: float64(3), int64(1)\n",
      "memory usage: 388.7 KB\n"
     ]
    }
   ],
   "source": [
    "chk.info()"
   ]
  },
  {
   "cell_type": "code",
   "execution_count": 54,
   "metadata": {},
   "outputs": [
    {
     "data": {
      "text/html": [
       "<div>\n",
       "<style scoped>\n",
       "    .dataframe tbody tr th:only-of-type {\n",
       "        vertical-align: middle;\n",
       "    }\n",
       "\n",
       "    .dataframe tbody tr th {\n",
       "        vertical-align: top;\n",
       "    }\n",
       "\n",
       "    .dataframe thead th {\n",
       "        text-align: right;\n",
       "    }\n",
       "</style>\n",
       "<table border=\"1\" class=\"dataframe\">\n",
       "  <thead>\n",
       "    <tr style=\"text-align: right;\">\n",
       "      <th></th>\n",
       "      <th>code_index</th>\n",
       "      <th>code</th>\n",
       "    </tr>\n",
       "  </thead>\n",
       "  <tbody>\n",
       "    <tr>\n",
       "      <th>0</th>\n",
       "      <td>0</td>\n",
       "      <td>GC1A1E7</td>\n",
       "    </tr>\n",
       "    <tr>\n",
       "      <th>1</th>\n",
       "      <td>1</td>\n",
       "      <td>GC92B2K</td>\n",
       "    </tr>\n",
       "    <tr>\n",
       "      <th>2</th>\n",
       "      <td>2</td>\n",
       "      <td>GC90JDX</td>\n",
       "    </tr>\n",
       "    <tr>\n",
       "      <th>3</th>\n",
       "      <td>3</td>\n",
       "      <td>GCH72A</td>\n",
       "    </tr>\n",
       "    <tr>\n",
       "      <th>4</th>\n",
       "      <td>4</td>\n",
       "      <td>GC8D3PX</td>\n",
       "    </tr>\n",
       "  </tbody>\n",
       "</table>\n",
       "</div>"
      ],
      "text/plain": [
       "   code_index     code\n",
       "0           0  GC1A1E7\n",
       "1           1  GC92B2K\n",
       "2           2  GC90JDX\n",
       "3           3   GCH72A\n",
       "4           4  GC8D3PX"
      ]
     },
     "execution_count": 54,
     "metadata": {},
     "output_type": "execute_result"
    }
   ],
   "source": [
    "codes = pd.DataFrame({'code_index': C, 'code':list(df['code'])})\n",
    "codes.head()"
   ]
  },
  {
   "cell_type": "code",
   "execution_count": 55,
   "metadata": {},
   "outputs": [
    {
     "data": {
      "text/html": [
       "<div>\n",
       "<style scoped>\n",
       "    .dataframe tbody tr th:only-of-type {\n",
       "        vertical-align: middle;\n",
       "    }\n",
       "\n",
       "    .dataframe tbody tr th {\n",
       "        vertical-align: top;\n",
       "    }\n",
       "\n",
       "    .dataframe thead th {\n",
       "        text-align: right;\n",
       "    }\n",
       "</style>\n",
       "<table border=\"1\" class=\"dataframe\">\n",
       "  <thead>\n",
       "    <tr style=\"text-align: right;\">\n",
       "      <th></th>\n",
       "      <th>name_index</th>\n",
       "      <th>name</th>\n",
       "    </tr>\n",
       "  </thead>\n",
       "  <tbody>\n",
       "    <tr>\n",
       "      <th>6000</th>\n",
       "      <td>0.16</td>\n",
       "      <td>South River Trail: Triple Claw</td>\n",
       "    </tr>\n",
       "    <tr>\n",
       "      <th>6001</th>\n",
       "      <td>0.36</td>\n",
       "      <td>Canada Traveler Challenge: 5 Provinces</td>\n",
       "    </tr>\n",
       "    <tr>\n",
       "      <th>5999</th>\n",
       "      <td>1.96</td>\n",
       "      <td>Milledge Mystery Renewed</td>\n",
       "    </tr>\n",
       "    <tr>\n",
       "      <th>6002</th>\n",
       "      <td>2.56</td>\n",
       "      <td>Guarding South Fulton #21</td>\n",
       "    </tr>\n",
       "    <tr>\n",
       "      <th>5998</th>\n",
       "      <td>5.76</td>\n",
       "      <td>Hottest Park n Ride</td>\n",
       "    </tr>\n",
       "  </tbody>\n",
       "</table>\n",
       "</div>"
      ],
      "text/plain": [
       "      name_index                                    name\n",
       "6000        0.16          South River Trail: Triple Claw\n",
       "6001        0.36  Canada Traveler Challenge: 5 Provinces\n",
       "5999        1.96                Milledge Mystery Renewed\n",
       "6002        2.56               Guarding South Fulton #21\n",
       "5998        5.76                     Hottest Park n Ride"
      ]
     },
     "execution_count": 55,
     "metadata": {},
     "output_type": "execute_result"
    }
   ],
   "source": [
    "names = pd.DataFrame({'name_index': N, 'name':list(df['name'])}).sort_values(by='name_index')\n",
    "names.head()"
   ]
  },
  {
   "cell_type": "code",
   "execution_count": 56,
   "metadata": {},
   "outputs": [
    {
     "data": {
      "text/html": [
       "<div>\n",
       "<style scoped>\n",
       "    .dataframe tbody tr th:only-of-type {\n",
       "        vertical-align: middle;\n",
       "    }\n",
       "\n",
       "    .dataframe tbody tr th {\n",
       "        vertical-align: top;\n",
       "    }\n",
       "\n",
       "    .dataframe thead th {\n",
       "        text-align: right;\n",
       "    }\n",
       "</style>\n",
       "<table border=\"1\" class=\"dataframe\">\n",
       "  <thead>\n",
       "    <tr style=\"text-align: right;\">\n",
       "      <th></th>\n",
       "      <th>name_index</th>\n",
       "      <th>cache_text</th>\n",
       "    </tr>\n",
       "  </thead>\n",
       "  <tbody>\n",
       "    <tr>\n",
       "      <th>6000</th>\n",
       "      <td>0.16</td>\n",
       "      <td>South River Trail: Triple Claw&lt;p&gt;This cache is...</td>\n",
       "    </tr>\n",
       "    <tr>\n",
       "      <th>6001</th>\n",
       "      <td>0.36</td>\n",
       "      <td>Canada Traveler Challenge: 5 Provinces&lt;center&gt;...</td>\n",
       "    </tr>\n",
       "    <tr>\n",
       "      <th>5999</th>\n",
       "      <td>1.96</td>\n",
       "      <td>Milledge Mystery Renewed&lt;h3 style=\"text-align:...</td>\n",
       "    </tr>\n",
       "    <tr>\n",
       "      <th>6002</th>\n",
       "      <td>2.56</td>\n",
       "      <td>Guarding South Fulton #21This cache is for the...</td>\n",
       "    </tr>\n",
       "    <tr>\n",
       "      <th>5998</th>\n",
       "      <td>5.76</td>\n",
       "      <td>Hottest Park n Ride&lt;p&gt;Urban sprawl has come to...</td>\n",
       "    </tr>\n",
       "  </tbody>\n",
       "</table>\n",
       "</div>"
      ],
      "text/plain": [
       "      name_index                                         cache_text\n",
       "6000        0.16  South River Trail: Triple Claw<p>This cache is...\n",
       "6001        0.36  Canada Traveler Challenge: 5 Provinces<center>...\n",
       "5999        1.96  Milledge Mystery Renewed<h3 style=\"text-align:...\n",
       "6002        2.56  Guarding South Fulton #21This cache is for the...\n",
       "5998        5.76  Hottest Park n Ride<p>Urban sprawl has come to..."
      ]
     },
     "execution_count": 56,
     "metadata": {},
     "output_type": "execute_result"
    }
   ],
   "source": [
    "ctext = pd.DataFrame({'name_index': N, 'cache_text':list(df['cache_text'])}).sort_values(by='name_index')\n",
    "ctext.head()"
   ]
  },
  {
   "cell_type": "code",
   "execution_count": 57,
   "metadata": {},
   "outputs": [
    {
     "data": {
      "text/html": [
       "<div>\n",
       "<style scoped>\n",
       "    .dataframe tbody tr th:only-of-type {\n",
       "        vertical-align: middle;\n",
       "    }\n",
       "\n",
       "    .dataframe tbody tr th {\n",
       "        vertical-align: top;\n",
       "    }\n",
       "\n",
       "    .dataframe thead th {\n",
       "        text-align: right;\n",
       "    }\n",
       "</style>\n",
       "<table border=\"1\" class=\"dataframe\">\n",
       "  <thead>\n",
       "    <tr style=\"text-align: right;\">\n",
       "      <th></th>\n",
       "      <th>coords_index</th>\n",
       "      <th>latitude</th>\n",
       "      <th>longitude</th>\n",
       "    </tr>\n",
       "  </thead>\n",
       "  <tbody>\n",
       "    <tr>\n",
       "      <th>2000</th>\n",
       "      <td>0.04</td>\n",
       "      <td>34.374433</td>\n",
       "      <td>-85.631683</td>\n",
       "    </tr>\n",
       "    <tr>\n",
       "      <th>2001</th>\n",
       "      <td>0.64</td>\n",
       "      <td>34.437067</td>\n",
       "      <td>-85.758900</td>\n",
       "    </tr>\n",
       "    <tr>\n",
       "      <th>1999</th>\n",
       "      <td>1.44</td>\n",
       "      <td>34.435733</td>\n",
       "      <td>-85.754983</td>\n",
       "    </tr>\n",
       "    <tr>\n",
       "      <th>2002</th>\n",
       "      <td>3.24</td>\n",
       "      <td>34.688217</td>\n",
       "      <td>-85.526500</td>\n",
       "    </tr>\n",
       "    <tr>\n",
       "      <th>1998</th>\n",
       "      <td>4.84</td>\n",
       "      <td>34.616850</td>\n",
       "      <td>-85.768367</td>\n",
       "    </tr>\n",
       "  </tbody>\n",
       "</table>\n",
       "</div>"
      ],
      "text/plain": [
       "      coords_index   latitude  longitude\n",
       "2000          0.04  34.374433 -85.631683\n",
       "2001          0.64  34.437067 -85.758900\n",
       "1999          1.44  34.435733 -85.754983\n",
       "2002          3.24  34.688217 -85.526500\n",
       "1998          4.84  34.616850 -85.768367"
      ]
     },
     "execution_count": 57,
     "metadata": {},
     "output_type": "execute_result"
    }
   ],
   "source": [
    "coords = pd.DataFrame({'coords_index': XY, 'latitude':list(df['latitude']), 'longitude':list(df['longitude'])}).sort_values(by='coords_index')\n",
    "coords.head()"
   ]
  },
  {
   "cell_type": "code",
   "execution_count": 60,
   "metadata": {},
   "outputs": [
    {
     "name": "stdout",
     "output_type": "stream",
     "text": [
      "<class 'pandas.core.frame.DataFrame'>\n",
      "Int64Index: 12433 entries, 9000 to 0\n",
      "Data columns (total 57 columns):\n",
      " #   Column                                   Non-Null Count  Dtype  \n",
      "---  ------                                   --------------  -----  \n",
      " 0   good_logs_num                            12433 non-null  int64  \n",
      " 1   neutral_logs_num                         12433 non-null  int64  \n",
      " 2   bad_logs_num                             12433 non-null  int64  \n",
      " 3   difficulty                               12433 non-null  float64\n",
      " 4   terrain                                  12433 non-null  float64\n",
      " 5   size                                     12433 non-null  float64\n",
      " 6   status                                   12433 non-null  int64  \n",
      " 7   is_premium                               12433 non-null  int64  \n",
      " 8   short_description                        12433 non-null  int64  \n",
      " 9   long_description                         12433 non-null  int64  \n",
      " 10  hints                                    12433 non-null  int64  \n",
      " 11  travel_bugs                              12433 non-null  int64  \n",
      " 12  creator_3-happy-campers                  12433 non-null  int64  \n",
      " 13  creator_68TR250                          12433 non-null  int64  \n",
      " 14  creator_89GTA & GEO PSYCHO               12433 non-null  int64  \n",
      " 15  creator_Arabia Alliance                  12433 non-null  int64  \n",
      " 16  creator_Bateshavingfun                   12433 non-null  int64  \n",
      " 17  creator_CCSGA                            12433 non-null  int64  \n",
      " 18  creator_Cali9-1-1                        12433 non-null  int64  \n",
      " 19  creator_ChemInstr                        12433 non-null  int64  \n",
      " 20  creator_Creekwader                       12433 non-null  int64  \n",
      " 21  creator_Funfinderone                     12433 non-null  int64  \n",
      " 22  creator_GTCACHERS                        12433 non-null  int64  \n",
      " 23  creator_Geoturtlelover                   12433 non-null  int64  \n",
      " 24  creator_TeamT17                          12433 non-null  int64  \n",
      " 25  creator_Teri Elaine                      12433 non-null  int64  \n",
      " 26  creator_Titanium_Man                     12433 non-null  int64  \n",
      " 27  creator_alienchauncey                    12433 non-null  int64  \n",
      " 28  creator_davidandbritt                    12433 non-null  int64  \n",
      " 29  creator_djstover                         12433 non-null  int64  \n",
      " 30  creator_finz2lr                          12433 non-null  int64  \n",
      " 31  creator_gatorman83                       12433 non-null  int64  \n",
      " 32  creator_horseshoechamp                   12433 non-null  int64  \n",
      " 33  creator_horseshoechamp & Shine Run Crew  12433 non-null  int64  \n",
      " 34  creator_justinpike                       12433 non-null  int64  \n",
      " 35  creator_kaboyd                           12433 non-null  int64  \n",
      " 36  creator_leolou                           12433 non-null  int64  \n",
      " 37  creator_memomls                          12433 non-null  int64  \n",
      " 38  creator_opted-out user                   12433 non-null  int64  \n",
      " 39  creator_other                            12433 non-null  int64  \n",
      " 40  creator_sc-kayaking                      12433 non-null  int64  \n",
      " 41  creator_terri2south                      12433 non-null  int64  \n",
      " 42  creator_zanna                            12433 non-null  int64  \n",
      " 43  cache_type_Earth                         12433 non-null  int64  \n",
      " 44  cache_type_Event                         12433 non-null  int64  \n",
      " 45  cache_type_Letterbox                     12433 non-null  int64  \n",
      " 46  cache_type_Lost and Found Event          12433 non-null  int64  \n",
      " 47  cache_type_Maze Exhibit                  12433 non-null  int64  \n",
      " 48  cache_type_Mega event                    12433 non-null  int64  \n",
      " 49  cache_type_Multi                         12433 non-null  int64  \n",
      " 50  cache_type_Traditional                   12433 non-null  int64  \n",
      " 51  cache_type_Unknown/Mystery               12433 non-null  int64  \n",
      " 52  cache_type_Virtual                       12433 non-null  int64  \n",
      " 53  cache_type_Webcam                        12433 non-null  int64  \n",
      " 54  cache_type_Wherigo                       12433 non-null  int64  \n",
      " 55  sentiment                                12433 non-null  float64\n",
      " 56  index                                    12433 non-null  float64\n",
      "dtypes: float64(5), int64(52)\n",
      "memory usage: 5.5 MB\n"
     ]
    }
   ],
   "source": [
    "cachedata = X2.drop(columns=['latitude', 'longitude']).copy()\n",
    "cachedata['index'] = Z\n",
    "cachedata = cachedata.sort_values(by='index')\n",
    "cachedata.info()"
   ]
  },
  {
   "cell_type": "code",
   "execution_count": 17,
   "metadata": {},
   "outputs": [],
   "source": [
    "codes.to_csv('../data/working_files/codes.csv',index=False)\n",
    "names.to_csv('../data/working_files/names.csv',index=False)\n",
    "ctext.to_csv('../data/working_files/ctext.csv',index=False)\n",
    "coords.to_csv('../data/final_files/coords.csv',index=False)\n",
    "cachedata.to_csv('../data/working_files/strippeddata.csv',index=False)"
   ]
  }
 ],
 "metadata": {
  "kernelspec": {
   "display_name": "Python 3",
   "language": "python",
   "name": "python3"
  },
  "language_info": {
   "codemirror_mode": {
    "name": "ipython",
    "version": 3
   },
   "file_extension": ".py",
   "mimetype": "text/x-python",
   "name": "python",
   "nbconvert_exporter": "python",
   "pygments_lexer": "ipython3",
   "version": "3.8.5"
  }
 },
 "nbformat": 4,
 "nbformat_minor": 4
}
