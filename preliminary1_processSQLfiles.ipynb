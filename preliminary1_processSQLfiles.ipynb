{
 "cells": [
  {
   "cell_type": "code",
   "execution_count": 1,
   "metadata": {},
   "outputs": [],
   "source": [
    "import sqlite3\n",
    "import numpy as np\n",
    "import pandas as pd\n",
    "import matplotlib.pyplot as plt\n",
    "import seaborn as sns"
   ]
  },
  {
   "cell_type": "markdown",
   "metadata": {},
   "source": [
    "### Loop through .db3 files, do SQL query to combine tables, and add to composite dataframe."
   ]
  },
  {
   "cell_type": "code",
   "execution_count": 3,
   "metadata": {},
   "outputs": [
    {
     "name": "stdout",
     "output_type": "stream",
     "text": [
      "./data/G00_00.db3\n",
      "./data/G00_01.db3\n",
      "./data/G00_02.db3\n",
      "./data/G00_03.db3\n",
      "./data/G00_04.db3\n",
      "./data/G00_05.db3\n",
      "./data/G00_06.db3\n",
      "./data/G00_07.db3\n",
      "./data/G00_08.db3\n",
      "./data/G00_09.db3\n",
      "./data/G00_10.db3\n",
      "./data/G01_00.db3\n",
      "./data/G01_01.db3\n",
      "./data/G01_02.db3\n",
      "./data/G01_03.db3\n",
      "./data/G01_04.db3\n",
      "./data/G01_05.db3\n",
      "./data/G01_06.db3\n",
      "./data/G01_07.db3\n",
      "./data/G01_08.db3\n",
      "./data/G01_09.db3\n",
      "./data/G01_10.db3\n",
      "./data/G02_00.db3\n",
      "./data/G02_01.db3\n",
      "./data/G02_02.db3\n",
      "./data/G02_03.db3\n",
      "./data/G02_04.db3\n",
      "./data/G02_05.db3\n",
      "./data/G02_06.db3\n",
      "./data/G02_07.db3\n",
      "./data/G02_08.db3\n",
      "./data/G02_09.db3\n",
      "./data/G02_10.db3\n",
      "./data/G03_00.db3\n",
      "./data/G03_01.db3\n",
      "./data/G03_02.db3\n",
      "./data/G03_03.db3\n",
      "./data/G03_04.db3\n",
      "./data/G03_05.db3\n",
      "./data/G03_06.db3\n",
      "./data/G03_07.db3\n",
      "./data/G03_08.db3\n",
      "./data/G03_09.db3\n",
      "./data/G03_10.db3\n",
      "./data/G04_00.db3\n",
      "./data/G04_01.db3\n",
      "./data/G04_02.db3\n",
      "./data/G04_03.db3\n",
      "./data/G04_04.db3\n",
      "./data/G04_05.db3\n",
      "./data/G04_06.db3\n",
      "./data/G04_07.db3\n",
      "./data/G04_08.db3\n",
      "./data/G04_09.db3\n",
      "./data/G04_10.db3\n",
      "./data/G05_00.db3\n",
      "./data/G05_01.db3\n",
      "./data/G05_02.db3\n",
      "./data/G05_03.db3\n",
      "./data/G05_04.db3\n",
      "./data/G05_05.db3\n",
      "./data/G05_06.db3\n",
      "./data/G05_07.db3\n",
      "./data/G05_08.db3\n",
      "./data/G05_09.db3\n",
      "./data/G05_10.db3\n",
      "./data/G06_00.db3\n",
      "./data/G06_01.db3\n",
      "./data/G06_02.db3\n",
      "./data/G06_03.db3\n",
      "./data/G06_04.db3\n",
      "./data/G06_05.db3\n",
      "./data/G06_06.db3\n",
      "./data/G06_07.db3\n",
      "./data/G06_08.db3\n",
      "./data/G06_09.db3\n",
      "./data/G06_10.db3\n",
      "./data/G07_00.db3\n",
      "./data/G07_01.db3\n",
      "./data/G07_02.db3\n",
      "./data/G07_03.db3\n",
      "./data/G07_04.db3\n",
      "./data/G07_05.db3\n",
      "./data/G07_06.db3\n",
      "./data/G07_07.db3\n",
      "./data/G07_08.db3\n",
      "./data/G07_09.db3\n",
      "./data/G07_10.db3\n",
      "./data/G08_00.db3\n",
      "./data/G08_01.db3\n",
      "./data/G08_02.db3\n",
      "./data/G08_03.db3\n",
      "./data/G08_04.db3\n",
      "./data/G08_05.db3\n",
      "./data/G08_06.db3\n",
      "./data/G08_07.db3\n",
      "./data/G08_08.db3\n",
      "./data/G08_09.db3\n",
      "./data/G08_10.db3\n",
      "./data/G09_00.db3\n",
      "./data/G09_01.db3\n",
      "./data/G09_02.db3\n",
      "./data/G09_03.db3\n",
      "./data/G09_04.db3\n",
      "./data/G09_05.db3\n",
      "./data/G09_06.db3\n",
      "./data/G09_07.db3\n",
      "./data/G09_08.db3\n",
      "./data/G09_09.db3\n",
      "./data/G09_10.db3\n",
      "./data/G10_00.db3\n",
      "./data/G10_01.db3\n",
      "./data/G10_02.db3\n",
      "./data/G10_03.db3\n",
      "./data/G10_04.db3\n",
      "./data/G10_05.db3\n",
      "./data/G10_06.db3\n",
      "./data/G10_07.db3\n",
      "./data/G10_08.db3\n",
      "./data/G10_09.db3\n",
      "./data/G10_10.db3\n"
     ]
    }
   ],
   "source": [
    "for ns in range(11):\n",
    "    for ew in range(11):\n",
    "        if ns<10 and ew<10:\n",
    "            filename=f'./data/G0{ns}_0{ew}.db3'\n",
    "        elif ns<10:\n",
    "            filename=f'./data/G0{ns}_{ew}.db3'\n",
    "        elif ew<10:\n",
    "            filename=f'./data/G{ns}_0{ew}.db3'\n",
    "        else:\n",
    "            filename=f'./data/G{ns}_{ew}.db3'\n",
    "        print(filename)\n",
    "        dat = sqlite3.connect(filename) \n",
    "        querystring = \"\"\" SELECT l.*, lm.*, c.*, cm.*\n",
    "                        FROM logs AS l\n",
    "                        INNER JOIN logmemo AS lm \n",
    "                        ON l.lLogId = lm.lLogId\n",
    "                        INNER JOIN caches AS c\n",
    "                        ON l.lParent = c.Code\n",
    "                        INNER JOIN cachememo AS cm\n",
    "                        ON l.lParent = cm.Code \"\"\"\n",
    "        if (ns+ew)==0:\n",
    "            df = pd.read_sql_query(querystring,dat)\n",
    "        else:\n",
    "            df_new = pd.read_sql_query(querystring,dat)\n",
    "            df= df.append(df_new)\n",
    "\n",
    "# https://stackoverflow.com/questions/36028759/how-to-open-and-convert-sqlite-database-to-p\n",
    "# And much appreciated help from Varun!"
   ]
  },
  {
   "cell_type": "markdown",
   "metadata": {},
   "source": [
    "### Save to disk, then reload and check."
   ]
  },
  {
   "cell_type": "code",
   "execution_count": 6,
   "metadata": {},
   "outputs": [],
   "source": [
    "df.to_csv('./data/caches_raw.csv',index=False)\n"
   ]
  },
  {
   "cell_type": "code",
   "execution_count": 8,
   "metadata": {},
   "outputs": [
    {
     "data": {
      "text/plain": [
       "Index(['lParent', 'lLogId', 'lType', 'lBy', 'lDate', 'lLat', 'lLon',\n",
       "       'lEncoded', 'lownerid', 'lHasHtml', 'lIsowner', 'lTime', 'lParent.1',\n",
       "       'lLogId.1', 'lText', 'Code', 'Name', 'Distance', 'PlacedBy', 'Archived',\n",
       "       'Bearing', 'CacheId', 'CacheType', 'Changed', 'Container', 'County',\n",
       "       'Country', 'Degrees', 'Difficulty', 'DNF', 'DNFDate', 'Found',\n",
       "       'FoundCount', 'FoundByMeDate', 'FTF', 'HasCorrected', 'HasTravelBug',\n",
       "       'HasUserNote', 'LastFoundDate', 'LastGPXDate', 'LastLog',\n",
       "       'LastUserDate', 'Latitude', 'Lock', 'LongHtm', 'Longitude', 'MacroFlag',\n",
       "       'MacroSort', 'NumberOfLogs', 'OwnerId', 'OwnerName', 'PlacedDate',\n",
       "       'ShortHtm', 'SmartName', 'SmartOverride', 'Source', 'State', 'Symbol',\n",
       "       'TempDisabled', 'Terrain', 'UserData', 'User2', 'User3', 'User4',\n",
       "       'UserFlag', 'UserNoteDate', 'UserSort', 'Watch', 'IsOwner',\n",
       "       'LatOriginal', 'LonOriginal', 'Created', 'Status', 'Color', 'ChildLoad',\n",
       "       'LinkedTo', 'GetPolyFlag', 'Elevation', 'Resolution', 'GcNote',\n",
       "       'IsPremium', 'Guid', 'FavPoints', 'Code.1', 'LongDescription',\n",
       "       'ShortDescription', 'Url', 'Hints', 'UserNote', 'TravelBugs'],\n",
       "      dtype='object')"
      ]
     },
     "execution_count": 8,
     "metadata": {},
     "output_type": "execute_result"
    }
   ],
   "source": [
    "df = pd.read_csv('./data/caches_raw.csv')\n",
    "df.columns"
   ]
  },
  {
   "cell_type": "code",
   "execution_count": 9,
   "metadata": {},
   "outputs": [
    {
     "data": {
      "text/plain": [
       "(125722, 90)"
      ]
     },
     "execution_count": 9,
     "metadata": {},
     "output_type": "execute_result"
    }
   ],
   "source": [
    "df.shape"
   ]
  },
  {
   "cell_type": "code",
   "execution_count": 10,
   "metadata": {},
   "outputs": [
    {
     "data": {
      "text/html": [
       "<div>\n",
       "<style scoped>\n",
       "    .dataframe tbody tr th:only-of-type {\n",
       "        vertical-align: middle;\n",
       "    }\n",
       "\n",
       "    .dataframe tbody tr th {\n",
       "        vertical-align: top;\n",
       "    }\n",
       "\n",
       "    .dataframe thead th {\n",
       "        text-align: right;\n",
       "    }\n",
       "</style>\n",
       "<table border=\"1\" class=\"dataframe\">\n",
       "  <thead>\n",
       "    <tr style=\"text-align: right;\">\n",
       "      <th></th>\n",
       "      <th>lParent</th>\n",
       "      <th>lLogId</th>\n",
       "      <th>lType</th>\n",
       "      <th>lBy</th>\n",
       "      <th>lDate</th>\n",
       "      <th>lLat</th>\n",
       "      <th>lLon</th>\n",
       "      <th>lEncoded</th>\n",
       "      <th>lownerid</th>\n",
       "      <th>lHasHtml</th>\n",
       "      <th>...</th>\n",
       "      <th>IsPremium</th>\n",
       "      <th>Guid</th>\n",
       "      <th>FavPoints</th>\n",
       "      <th>Code.1</th>\n",
       "      <th>LongDescription</th>\n",
       "      <th>ShortDescription</th>\n",
       "      <th>Url</th>\n",
       "      <th>Hints</th>\n",
       "      <th>UserNote</th>\n",
       "      <th>TravelBugs</th>\n",
       "    </tr>\n",
       "  </thead>\n",
       "  <tbody>\n",
       "    <tr>\n",
       "      <th>0</th>\n",
       "      <td>GC1A1E7</td>\n",
       "      <td>986540614</td>\n",
       "      <td>Found it</td>\n",
       "      <td>TotallyTerri</td>\n",
       "      <td>2020-12-31</td>\n",
       "      <td>NaN</td>\n",
       "      <td>NaN</td>\n",
       "      <td>0</td>\n",
       "      <td>4757811</td>\n",
       "      <td>0</td>\n",
       "      <td>...</td>\n",
       "      <td>1</td>\n",
       "      <td>NaN</td>\n",
       "      <td>1</td>\n",
       "      <td>GC1A1E7</td>\n",
       "      <td>This doesn't qualify as one of my river/railro...</td>\n",
       "      <td>NaN</td>\n",
       "      <td>http://coord.info/GC1A1E7</td>\n",
       "      <td>NaN</td>\n",
       "      <td>NaN</td>\n",
       "      <td>NaN</td>\n",
       "    </tr>\n",
       "    <tr>\n",
       "      <th>1</th>\n",
       "      <td>GC1A1E7</td>\n",
       "      <td>986540358</td>\n",
       "      <td>Found it</td>\n",
       "      <td>TeamMonroe1</td>\n",
       "      <td>2020-12-31</td>\n",
       "      <td>NaN</td>\n",
       "      <td>NaN</td>\n",
       "      <td>0</td>\n",
       "      <td>27901133</td>\n",
       "      <td>0</td>\n",
       "      <td>...</td>\n",
       "      <td>1</td>\n",
       "      <td>NaN</td>\n",
       "      <td>1</td>\n",
       "      <td>GC1A1E7</td>\n",
       "      <td>This doesn't qualify as one of my river/railro...</td>\n",
       "      <td>NaN</td>\n",
       "      <td>http://coord.info/GC1A1E7</td>\n",
       "      <td>NaN</td>\n",
       "      <td>NaN</td>\n",
       "      <td>NaN</td>\n",
       "    </tr>\n",
       "    <tr>\n",
       "      <th>2</th>\n",
       "      <td>GC1A1E7</td>\n",
       "      <td>986171373</td>\n",
       "      <td>Found it</td>\n",
       "      <td>SamBamFam</td>\n",
       "      <td>2020-12-30</td>\n",
       "      <td>NaN</td>\n",
       "      <td>NaN</td>\n",
       "      <td>0</td>\n",
       "      <td>8061150</td>\n",
       "      <td>0</td>\n",
       "      <td>...</td>\n",
       "      <td>1</td>\n",
       "      <td>NaN</td>\n",
       "      <td>1</td>\n",
       "      <td>GC1A1E7</td>\n",
       "      <td>This doesn't qualify as one of my river/railro...</td>\n",
       "      <td>NaN</td>\n",
       "      <td>http://coord.info/GC1A1E7</td>\n",
       "      <td>NaN</td>\n",
       "      <td>NaN</td>\n",
       "      <td>NaN</td>\n",
       "    </tr>\n",
       "    <tr>\n",
       "      <th>3</th>\n",
       "      <td>GC1A1E7</td>\n",
       "      <td>977747941</td>\n",
       "      <td>Found it</td>\n",
       "      <td>GazzaEC</td>\n",
       "      <td>2020-11-12</td>\n",
       "      <td>NaN</td>\n",
       "      <td>NaN</td>\n",
       "      <td>0</td>\n",
       "      <td>30994881</td>\n",
       "      <td>0</td>\n",
       "      <td>...</td>\n",
       "      <td>1</td>\n",
       "      <td>NaN</td>\n",
       "      <td>1</td>\n",
       "      <td>GC1A1E7</td>\n",
       "      <td>This doesn't qualify as one of my river/railro...</td>\n",
       "      <td>NaN</td>\n",
       "      <td>http://coord.info/GC1A1E7</td>\n",
       "      <td>NaN</td>\n",
       "      <td>NaN</td>\n",
       "      <td>NaN</td>\n",
       "    </tr>\n",
       "    <tr>\n",
       "      <th>4</th>\n",
       "      <td>GC1A1E7</td>\n",
       "      <td>925205611</td>\n",
       "      <td>Found it</td>\n",
       "      <td>Ekuflar</td>\n",
       "      <td>2020-05-03</td>\n",
       "      <td>NaN</td>\n",
       "      <td>NaN</td>\n",
       "      <td>0</td>\n",
       "      <td>5873441</td>\n",
       "      <td>0</td>\n",
       "      <td>...</td>\n",
       "      <td>1</td>\n",
       "      <td>NaN</td>\n",
       "      <td>1</td>\n",
       "      <td>GC1A1E7</td>\n",
       "      <td>This doesn't qualify as one of my river/railro...</td>\n",
       "      <td>NaN</td>\n",
       "      <td>http://coord.info/GC1A1E7</td>\n",
       "      <td>NaN</td>\n",
       "      <td>NaN</td>\n",
       "      <td>NaN</td>\n",
       "    </tr>\n",
       "  </tbody>\n",
       "</table>\n",
       "<p>5 rows × 90 columns</p>\n",
       "</div>"
      ],
      "text/plain": [
       "   lParent     lLogId     lType           lBy       lDate  lLat  lLon  \\\n",
       "0  GC1A1E7  986540614  Found it  TotallyTerri  2020-12-31   NaN   NaN   \n",
       "1  GC1A1E7  986540358  Found it   TeamMonroe1  2020-12-31   NaN   NaN   \n",
       "2  GC1A1E7  986171373  Found it     SamBamFam  2020-12-30   NaN   NaN   \n",
       "3  GC1A1E7  977747941  Found it       GazzaEC  2020-11-12   NaN   NaN   \n",
       "4  GC1A1E7  925205611  Found it       Ekuflar  2020-05-03   NaN   NaN   \n",
       "\n",
       "   lEncoded  lownerid  lHasHtml  ...  IsPremium Guid FavPoints   Code.1  \\\n",
       "0         0   4757811         0  ...          1  NaN         1  GC1A1E7   \n",
       "1         0  27901133         0  ...          1  NaN         1  GC1A1E7   \n",
       "2         0   8061150         0  ...          1  NaN         1  GC1A1E7   \n",
       "3         0  30994881         0  ...          1  NaN         1  GC1A1E7   \n",
       "4         0   5873441         0  ...          1  NaN         1  GC1A1E7   \n",
       "\n",
       "                                     LongDescription ShortDescription  \\\n",
       "0  This doesn't qualify as one of my river/railro...              NaN   \n",
       "1  This doesn't qualify as one of my river/railro...              NaN   \n",
       "2  This doesn't qualify as one of my river/railro...              NaN   \n",
       "3  This doesn't qualify as one of my river/railro...              NaN   \n",
       "4  This doesn't qualify as one of my river/railro...              NaN   \n",
       "\n",
       "                         Url  Hints UserNote  TravelBugs  \n",
       "0  http://coord.info/GC1A1E7    NaN      NaN         NaN  \n",
       "1  http://coord.info/GC1A1E7    NaN      NaN         NaN  \n",
       "2  http://coord.info/GC1A1E7    NaN      NaN         NaN  \n",
       "3  http://coord.info/GC1A1E7    NaN      NaN         NaN  \n",
       "4  http://coord.info/GC1A1E7    NaN      NaN         NaN  \n",
       "\n",
       "[5 rows x 90 columns]"
      ]
     },
     "execution_count": 10,
     "metadata": {},
     "output_type": "execute_result"
    }
   ],
   "source": [
    "df.head()"
   ]
  },
  {
   "cell_type": "markdown",
   "metadata": {},
   "source": [
    "### Preliminary EDA - First Look:"
   ]
  },
  {
   "cell_type": "code",
   "execution_count": 12,
   "metadata": {},
   "outputs": [],
   "source": [
    "df['Latitude'] = pd.to_numeric(df['Latitude'])"
   ]
  },
  {
   "cell_type": "code",
   "execution_count": 13,
   "metadata": {},
   "outputs": [],
   "source": [
    "df['Longitude'] = pd.to_numeric(df['Longitude'])"
   ]
  },
  {
   "cell_type": "code",
   "execution_count": 36,
   "metadata": {},
   "outputs": [
    {
     "data": {
      "image/png": "[encoded data removed]",
      "text/plain": [
       "<Figure size 432x288 with 1 Axes>"
      ]
     },
     "metadata": {
      "needs_background": "light"
     },
     "output_type": "display_data"
    }
   ],
   "source": [
    "# locations of caches:\n",
    "\n",
    "plt.scatter(df['Longitude'],df['Latitude']);"
   ]
  },
  {
   "cell_type": "code",
   "execution_count": 37,
   "metadata": {},
   "outputs": [],
   "source": [
    "# locations of API pull centers:\n",
    "\n",
    "lat_centers = 30.35 + np.array(range(11))*0.465\n",
    "lon_centers = -85.6 + np.array(range(11))*0.39\n",
    "center_coords = []\n",
    "for y in lat_centers:\n",
    "    for x in lon_centers:\n",
    "        coord_dict = {\n",
    "            'x': x,\n",
    "            'y': y\n",
    "        }\n",
    "        center_coords.append(coord_dict)\n",
    "centers = pd.DataFrame(center_coords)        "
   ]
  },
  {
   "cell_type": "code",
   "execution_count": 38,
   "metadata": {},
   "outputs": [
    {
     "data": {
      "image/png": "[encoded data removed]",
      "text/plain": [
       "<Figure size 432x288 with 1 Axes>"
      ]
     },
     "metadata": {
      "needs_background": "light"
     },
     "output_type": "display_data"
    }
   ],
   "source": [
    "plt.scatter(centers['x'],centers['y']);"
   ]
  },
  {
   "cell_type": "code",
   "execution_count": 39,
   "metadata": {},
   "outputs": [],
   "source": [
    "# Make API pull circles around each center point to illustrate data collection:\n",
    "\n",
    "lat_centers = 30.35 + np.array(range(11))*0.465\n",
    "lon_centers = -85.6 + np.array(range(11))*0.39\n",
    "theta = np.array(range(720))*np.pi/360\n",
    "bound_coords = []\n",
    "for y in lat_centers:\n",
    "    for x in lon_centers:\n",
    "        for t in theta:\n",
    "            dx = 20*np.cos(t)\n",
    "            dx = dx/(6371*np.cos(y*np.pi/180))\n",
    "            dx = dx*180/np.pi\n",
    "            dx = x + dx\n",
    "            dy = 20*np.sin(t)\n",
    "            dy = dy/(6371)\n",
    "            dy = dy*180/np.pi\n",
    "            dy = y + dy\n",
    "            coord_dict = {\n",
    "                'x': dx,\n",
    "                'y': dy\n",
    "            }\n",
    "            bound_coords.append(coord_dict)\n",
    "boundaries = pd.DataFrame(bound_coords)        "
   ]
  },
  {
   "cell_type": "code",
   "execution_count": 41,
   "metadata": {},
   "outputs": [
    {
     "data": {
      "image/png": "[encoded data removed]",
      "text/plain": [
       "<Figure size 648x648 with 1 Axes>"
      ]
     },
     "metadata": {
      "needs_background": "light"
     },
     "output_type": "display_data"
    }
   ],
   "source": [
    "# combined plot:\n",
    "\n",
    "fig = plt.figure(figsize=(9,9));\n",
    "plt.scatter(boundaries['x'],boundaries['y'],color='black',marker='.');\n",
    "plt.scatter(df['Longitude'],df['Latitude'],color='darkgreen',marker='.');\n",
    "plt.xlabel('Longitude');\n",
    "plt.ylabel('Latitude');\n",
    "plt.title('Datasets and Caches Pulled');"
   ]
  },
  {
   "cell_type": "code",
   "execution_count": 19,
   "metadata": {},
   "outputs": [
    {
     "data": {
      "text/html": [
       "<div>\n",
       "<style scoped>\n",
       "    .dataframe tbody tr th:only-of-type {\n",
       "        vertical-align: middle;\n",
       "    }\n",
       "\n",
       "    .dataframe tbody tr th {\n",
       "        vertical-align: top;\n",
       "    }\n",
       "\n",
       "    .dataframe thead th {\n",
       "        text-align: right;\n",
       "    }\n",
       "</style>\n",
       "<table border=\"1\" class=\"dataframe\">\n",
       "  <thead>\n",
       "    <tr style=\"text-align: right;\">\n",
       "      <th></th>\n",
       "      <th>lLogId</th>\n",
       "      <th>lType</th>\n",
       "      <th>lDate</th>\n",
       "      <th>lTime</th>\n",
       "      <th>lText</th>\n",
       "      <th>Code</th>\n",
       "      <th>Name</th>\n",
       "      <th>PlacedBy</th>\n",
       "      <th>Archived</th>\n",
       "      <th>CacheType</th>\n",
       "      <th>...</th>\n",
       "      <th>Status</th>\n",
       "      <th>Elevation</th>\n",
       "      <th>Resolution</th>\n",
       "      <th>GcNote</th>\n",
       "      <th>IsPremium</th>\n",
       "      <th>FavPoints</th>\n",
       "      <th>LongDescription</th>\n",
       "      <th>ShortDescription</th>\n",
       "      <th>Hints</th>\n",
       "      <th>TravelBugs</th>\n",
       "    </tr>\n",
       "  </thead>\n",
       "  <tbody>\n",
       "    <tr>\n",
       "      <th>0</th>\n",
       "      <td>986540614</td>\n",
       "      <td>Found it</td>\n",
       "      <td>2020-12-31</td>\n",
       "      <td>12:31:00</td>\n",
       "      <td>Found with my sweetie TeamMonroe1. TFTC!</td>\n",
       "      <td>GC1A1E7</td>\n",
       "      <td>Nickajack Two for One</td>\n",
       "      <td>David</td>\n",
       "      <td>0</td>\n",
       "      <td>T</td>\n",
       "      <td>...</td>\n",
       "      <td>A</td>\n",
       "      <td>0.0</td>\n",
       "      <td>NaN</td>\n",
       "      <td>NaN</td>\n",
       "      <td>1</td>\n",
       "      <td>1</td>\n",
       "      <td>This doesn't qualify as one of my river/railro...</td>\n",
       "      <td>NaN</td>\n",
       "      <td>NaN</td>\n",
       "      <td>NaN</td>\n",
       "    </tr>\n",
       "    <tr>\n",
       "      <th>1</th>\n",
       "      <td>986540358</td>\n",
       "      <td>Found it</td>\n",
       "      <td>2020-12-31</td>\n",
       "      <td>12:29:55</td>\n",
       "      <td>Found with my beloved TeamMonroe2. TFTC</td>\n",
       "      <td>GC1A1E7</td>\n",
       "      <td>Nickajack Two for One</td>\n",
       "      <td>David</td>\n",
       "      <td>0</td>\n",
       "      <td>T</td>\n",
       "      <td>...</td>\n",
       "      <td>A</td>\n",
       "      <td>0.0</td>\n",
       "      <td>NaN</td>\n",
       "      <td>NaN</td>\n",
       "      <td>1</td>\n",
       "      <td>1</td>\n",
       "      <td>This doesn't qualify as one of my river/railro...</td>\n",
       "      <td>NaN</td>\n",
       "      <td>NaN</td>\n",
       "      <td>NaN</td>\n",
       "    </tr>\n",
       "    <tr>\n",
       "      <th>2</th>\n",
       "      <td>986171373</td>\n",
       "      <td>Found it</td>\n",
       "      <td>2020-12-30</td>\n",
       "      <td>12:00:00</td>\n",
       "      <td>TFTC\\r\\nNice quick find.  Adding to my TN quad...</td>\n",
       "      <td>GC1A1E7</td>\n",
       "      <td>Nickajack Two for One</td>\n",
       "      <td>David</td>\n",
       "      <td>0</td>\n",
       "      <td>T</td>\n",
       "      <td>...</td>\n",
       "      <td>A</td>\n",
       "      <td>0.0</td>\n",
       "      <td>NaN</td>\n",
       "      <td>NaN</td>\n",
       "      <td>1</td>\n",
       "      <td>1</td>\n",
       "      <td>This doesn't qualify as one of my river/railro...</td>\n",
       "      <td>NaN</td>\n",
       "      <td>NaN</td>\n",
       "      <td>NaN</td>\n",
       "    </tr>\n",
       "    <tr>\n",
       "      <th>3</th>\n",
       "      <td>977747941</td>\n",
       "      <td>Found it</td>\n",
       "      <td>2020-11-12</td>\n",
       "      <td>12:01:16</td>\n",
       "      <td>Got it. Log in good shape</td>\n",
       "      <td>GC1A1E7</td>\n",
       "      <td>Nickajack Two for One</td>\n",
       "      <td>David</td>\n",
       "      <td>0</td>\n",
       "      <td>T</td>\n",
       "      <td>...</td>\n",
       "      <td>A</td>\n",
       "      <td>0.0</td>\n",
       "      <td>NaN</td>\n",
       "      <td>NaN</td>\n",
       "      <td>1</td>\n",
       "      <td>1</td>\n",
       "      <td>This doesn't qualify as one of my river/railro...</td>\n",
       "      <td>NaN</td>\n",
       "      <td>NaN</td>\n",
       "      <td>NaN</td>\n",
       "    </tr>\n",
       "    <tr>\n",
       "      <th>4</th>\n",
       "      <td>925205611</td>\n",
       "      <td>Found it</td>\n",
       "      <td>2020-05-03</td>\n",
       "      <td>12:00:00</td>\n",
       "      <td>A quick stop and grab. \\r\\n\\r\\nThanks for the ...</td>\n",
       "      <td>GC1A1E7</td>\n",
       "      <td>Nickajack Two for One</td>\n",
       "      <td>David</td>\n",
       "      <td>0</td>\n",
       "      <td>T</td>\n",
       "      <td>...</td>\n",
       "      <td>A</td>\n",
       "      <td>0.0</td>\n",
       "      <td>NaN</td>\n",
       "      <td>NaN</td>\n",
       "      <td>1</td>\n",
       "      <td>1</td>\n",
       "      <td>This doesn't qualify as one of my river/railro...</td>\n",
       "      <td>NaN</td>\n",
       "      <td>NaN</td>\n",
       "      <td>NaN</td>\n",
       "    </tr>\n",
       "  </tbody>\n",
       "</table>\n",
       "<p>5 rows × 41 columns</p>\n",
       "</div>"
      ],
      "text/plain": [
       "      lLogId     lType       lDate     lTime  \\\n",
       "0  986540614  Found it  2020-12-31  12:31:00   \n",
       "1  986540358  Found it  2020-12-31  12:29:55   \n",
       "2  986171373  Found it  2020-12-30  12:00:00   \n",
       "3  977747941  Found it  2020-11-12  12:01:16   \n",
       "4  925205611  Found it  2020-05-03  12:00:00   \n",
       "\n",
       "                                               lText     Code  \\\n",
       "0           Found with my sweetie TeamMonroe1. TFTC!  GC1A1E7   \n",
       "1            Found with my beloved TeamMonroe2. TFTC  GC1A1E7   \n",
       "2  TFTC\\r\\nNice quick find.  Adding to my TN quad...  GC1A1E7   \n",
       "3                          Got it. Log in good shape  GC1A1E7   \n",
       "4  A quick stop and grab. \\r\\n\\r\\nThanks for the ...  GC1A1E7   \n",
       "\n",
       "                    Name PlacedBy  Archived CacheType  ... Status  Elevation  \\\n",
       "0  Nickajack Two for One    David         0         T  ...      A        0.0   \n",
       "1  Nickajack Two for One    David         0         T  ...      A        0.0   \n",
       "2  Nickajack Two for One    David         0         T  ...      A        0.0   \n",
       "3  Nickajack Two for One    David         0         T  ...      A        0.0   \n",
       "4  Nickajack Two for One    David         0         T  ...      A        0.0   \n",
       "\n",
       "   Resolution  GcNote  IsPremium  FavPoints  \\\n",
       "0         NaN     NaN          1          1   \n",
       "1         NaN     NaN          1          1   \n",
       "2         NaN     NaN          1          1   \n",
       "3         NaN     NaN          1          1   \n",
       "4         NaN     NaN          1          1   \n",
       "\n",
       "                                     LongDescription  ShortDescription  Hints  \\\n",
       "0  This doesn't qualify as one of my river/railro...               NaN    NaN   \n",
       "1  This doesn't qualify as one of my river/railro...               NaN    NaN   \n",
       "2  This doesn't qualify as one of my river/railro...               NaN    NaN   \n",
       "3  This doesn't qualify as one of my river/railro...               NaN    NaN   \n",
       "4  This doesn't qualify as one of my river/railro...               NaN    NaN   \n",
       "\n",
       "  TravelBugs  \n",
       "0        NaN  \n",
       "1        NaN  \n",
       "2        NaN  \n",
       "3        NaN  \n",
       "4        NaN  \n",
       "\n",
       "[5 rows x 41 columns]"
      ]
     },
     "execution_count": 19,
     "metadata": {},
     "output_type": "execute_result"
    }
   ],
   "source": [
    "features = ['lLogId', 'lType', 'lDate', \n",
    "       'lTime', 'lText', 'Code', 'Name', 'PlacedBy', 'Archived',\n",
    "       'CacheType', 'Container', 'County',\n",
    "       'Degrees', 'Difficulty', 'DNF', 'DNFDate', \n",
    "       'FTF', 'HasCorrected', 'HasTravelBug',\n",
    "       'LastFoundDate', 'LastLog',\n",
    "       'Latitude', 'Longitude', 'NumberOfLogs', 'OwnerId', 'PlacedDate',\n",
    "       'TempDisabled', 'Terrain', \n",
    "       'LatOriginal', 'LonOriginal', 'Created', 'Status', \n",
    "       'Elevation', 'Resolution', 'GcNote',\n",
    "       'IsPremium', 'FavPoints', 'LongDescription',\n",
    "       'ShortDescription', 'Hints', 'TravelBugs']\n",
    "\n",
    "\n",
    "df[features].head()"
   ]
  },
  {
   "cell_type": "code",
   "execution_count": 20,
   "metadata": {},
   "outputs": [
    {
     "name": "stdout",
     "output_type": "stream",
     "text": [
      "lLogId\n",
      "0    986540614\n",
      "1    986540358\n",
      "2    986171373\n",
      "3    977747941\n",
      "4    925205611\n",
      "Name: lLogId, dtype: int64\n",
      "\n",
      "lType\n",
      "0    Found it\n",
      "1    Found it\n",
      "2    Found it\n",
      "3    Found it\n",
      "4    Found it\n",
      "Name: lType, dtype: object\n",
      "\n",
      "lDate\n",
      "0    2020-12-31\n",
      "1    2020-12-31\n",
      "2    2020-12-30\n",
      "3    2020-11-12\n",
      "4    2020-05-03\n",
      "Name: lDate, dtype: object\n",
      "\n",
      "lTime\n",
      "0    12:31:00\n",
      "1    12:29:55\n",
      "2    12:00:00\n",
      "3    12:01:16\n",
      "4    12:00:00\n",
      "Name: lTime, dtype: object\n",
      "\n",
      "lText\n",
      "0             Found with my sweetie TeamMonroe1. TFTC!\n",
      "1              Found with my beloved TeamMonroe2. TFTC\n",
      "2    TFTC\\r\\nNice quick find.  Adding to my TN quad...\n",
      "3                            Got it. Log in good shape\n",
      "4    A quick stop and grab. \\r\\n\\r\\nThanks for the ...\n",
      "Name: lText, dtype: object\n",
      "\n",
      "Code\n",
      "0    GC1A1E7\n",
      "1    GC1A1E7\n",
      "2    GC1A1E7\n",
      "3    GC1A1E7\n",
      "4    GC1A1E7\n",
      "Name: Code, dtype: object\n",
      "\n",
      "Name\n",
      "0    Nickajack Two for One\n",
      "1    Nickajack Two for One\n",
      "2    Nickajack Two for One\n",
      "3    Nickajack Two for One\n",
      "4    Nickajack Two for One\n",
      "Name: Name, dtype: object\n",
      "\n",
      "PlacedBy\n",
      "0    David\n",
      "1    David\n",
      "2    David\n",
      "3    David\n",
      "4    David\n",
      "Name: PlacedBy, dtype: object\n",
      "\n",
      "Archived\n",
      "0    0\n",
      "1    0\n",
      "2    0\n",
      "3    0\n",
      "4    0\n",
      "Name: Archived, dtype: int64\n",
      "\n",
      "CacheType\n",
      "0    T\n",
      "1    T\n",
      "2    T\n",
      "3    T\n",
      "4    T\n",
      "Name: CacheType, dtype: object\n",
      "\n",
      "Container\n",
      "0    Micro\n",
      "1    Micro\n",
      "2    Micro\n",
      "3    Micro\n",
      "4    Micro\n",
      "Name: Container, dtype: object\n",
      "\n",
      "County\n",
      "0   NaN\n",
      "1   NaN\n",
      "2   NaN\n",
      "3   NaN\n",
      "4   NaN\n",
      "Name: County, dtype: float64\n",
      "\n",
      "Degrees\n",
      "0    318.8\n",
      "1    318.8\n",
      "2    318.8\n",
      "3    318.8\n",
      "4    318.8\n",
      "Name: Degrees, dtype: float64\n",
      "\n",
      "Difficulty\n",
      "0    2.0\n",
      "1    2.0\n",
      "2    2.0\n",
      "3    2.0\n",
      "4    2.0\n",
      "Name: Difficulty, dtype: float64\n",
      "\n",
      "DNF\n",
      "0    0\n",
      "1    0\n",
      "2    0\n",
      "3    0\n",
      "4    0\n",
      "Name: DNF, dtype: int64\n",
      "\n",
      "DNFDate\n",
      "0   NaN\n",
      "1   NaN\n",
      "2   NaN\n",
      "3   NaN\n",
      "4   NaN\n",
      "Name: DNFDate, dtype: float64\n",
      "\n",
      "FTF\n",
      "0    0\n",
      "1    0\n",
      "2    0\n",
      "3    0\n",
      "4    0\n",
      "Name: FTF, dtype: int64\n",
      "\n",
      "HasCorrected\n",
      "0    0\n",
      "1    0\n",
      "2    0\n",
      "3    0\n",
      "4    0\n",
      "Name: HasCorrected, dtype: int64\n",
      "\n",
      "HasTravelBug\n",
      "0    0\n",
      "1    0\n",
      "2    0\n",
      "3    0\n",
      "4    0\n",
      "Name: HasTravelBug, dtype: int64\n",
      "\n",
      "LastFoundDate\n",
      "0    2020-12-31\n",
      "1    2020-12-31\n",
      "2    2020-12-31\n",
      "3    2020-12-31\n",
      "4    2020-12-31\n",
      "Name: LastFoundDate, dtype: object\n",
      "\n",
      "LastLog\n",
      "0    2020-12-31\n",
      "1    2020-12-31\n",
      "2    2020-12-31\n",
      "3    2020-12-31\n",
      "4    2020-12-31\n",
      "Name: LastLog, dtype: object\n",
      "\n",
      "Latitude\n",
      "0    34.994067\n",
      "1    34.994067\n",
      "2    34.994067\n",
      "3    34.994067\n",
      "4    34.994067\n",
      "Name: Latitude, dtype: float64\n",
      "\n",
      "Longitude\n",
      "0   -85.59935\n",
      "1   -85.59935\n",
      "2   -85.59935\n",
      "3   -85.59935\n",
      "4   -85.59935\n",
      "Name: Longitude, dtype: float64\n",
      "\n",
      "NumberOfLogs\n",
      "0    10\n",
      "1    10\n",
      "2    10\n",
      "3    10\n",
      "4    10\n",
      "Name: NumberOfLogs, dtype: int64\n",
      "\n",
      "OwnerId\n",
      "0    79715\n",
      "1    79715\n",
      "2    79715\n",
      "3    79715\n",
      "4    79715\n",
      "Name: OwnerId, dtype: int64\n",
      "\n",
      "PlacedDate\n",
      "0    2008-04-29\n",
      "1    2008-04-29\n",
      "2    2008-04-29\n",
      "3    2008-04-29\n",
      "4    2008-04-29\n",
      "Name: PlacedDate, dtype: object\n",
      "\n",
      "TempDisabled\n",
      "0    0\n",
      "1    0\n",
      "2    0\n",
      "3    0\n",
      "4    0\n",
      "Name: TempDisabled, dtype: int64\n",
      "\n",
      "Terrain\n",
      "0    1.5\n",
      "1    1.5\n",
      "2    1.5\n",
      "3    1.5\n",
      "4    1.5\n",
      "Name: Terrain, dtype: float64\n",
      "\n",
      "LatOriginal\n",
      "0    34.994067\n",
      "1    34.994067\n",
      "2    34.994067\n",
      "3    34.994067\n",
      "4    34.994067\n",
      "Name: LatOriginal, dtype: float64\n",
      "\n",
      "LonOriginal\n",
      "0   -85.59935\n",
      "1   -85.59935\n",
      "2   -85.59935\n",
      "3   -85.59935\n",
      "4   -85.59935\n",
      "Name: LonOriginal, dtype: float64\n",
      "\n",
      "Created\n",
      "0    2021-04-21\n",
      "1    2021-04-21\n",
      "2    2021-04-21\n",
      "3    2021-04-21\n",
      "4    2021-04-21\n",
      "Name: Created, dtype: object\n",
      "\n",
      "Status\n",
      "0    A\n",
      "1    A\n",
      "2    A\n",
      "3    A\n",
      "4    A\n",
      "Name: Status, dtype: object\n",
      "\n",
      "Elevation\n",
      "0    0.0\n",
      "1    0.0\n",
      "2    0.0\n",
      "3    0.0\n",
      "4    0.0\n",
      "Name: Elevation, dtype: float64\n",
      "\n",
      "Resolution\n",
      "0   NaN\n",
      "1   NaN\n",
      "2   NaN\n",
      "3   NaN\n",
      "4   NaN\n",
      "Name: Resolution, dtype: float64\n",
      "\n",
      "GcNote\n",
      "0   NaN\n",
      "1   NaN\n",
      "2   NaN\n",
      "3   NaN\n",
      "4   NaN\n",
      "Name: GcNote, dtype: float64\n",
      "\n",
      "IsPremium\n",
      "0    1\n",
      "1    1\n",
      "2    1\n",
      "3    1\n",
      "4    1\n",
      "Name: IsPremium, dtype: int64\n",
      "\n",
      "FavPoints\n",
      "0    1\n",
      "1    1\n",
      "2    1\n",
      "3    1\n",
      "4    1\n",
      "Name: FavPoints, dtype: int64\n",
      "\n",
      "LongDescription\n",
      "0    This doesn't qualify as one of my river/railro...\n",
      "1    This doesn't qualify as one of my river/railro...\n",
      "2    This doesn't qualify as one of my river/railro...\n",
      "3    This doesn't qualify as one of my river/railro...\n",
      "4    This doesn't qualify as one of my river/railro...\n",
      "Name: LongDescription, dtype: object\n",
      "\n",
      "ShortDescription\n",
      "0    NaN\n",
      "1    NaN\n",
      "2    NaN\n",
      "3    NaN\n",
      "4    NaN\n",
      "Name: ShortDescription, dtype: object\n",
      "\n",
      "Hints\n",
      "0    NaN\n",
      "1    NaN\n",
      "2    NaN\n",
      "3    NaN\n",
      "4    NaN\n",
      "Name: Hints, dtype: object\n",
      "\n",
      "TravelBugs\n",
      "0    NaN\n",
      "1    NaN\n",
      "2    NaN\n",
      "3    NaN\n",
      "4    NaN\n",
      "Name: TravelBugs, dtype: object\n",
      "\n"
     ]
    }
   ],
   "source": [
    "for ftr in features:\n",
    "    print(ftr)\n",
    "    print(df[ftr].head())\n",
    "    print()"
   ]
  },
  {
   "cell_type": "code",
   "execution_count": 26,
   "metadata": {},
   "outputs": [
    {
     "name": "stdout",
     "output_type": "stream",
     "text": [
      "<class 'pandas.core.frame.DataFrame'>\n",
      "RangeIndex: 76172 entries, 0 to 76171\n",
      "Data columns (total 41 columns):\n",
      " #   Column            Non-Null Count  Dtype  \n",
      "---  ------            --------------  -----  \n",
      " 0   lLogId            76172 non-null  int64  \n",
      " 1   lType             76172 non-null  object \n",
      " 2   lDate             76172 non-null  object \n",
      " 3   lTime             76172 non-null  object \n",
      " 4   lText             76164 non-null  object \n",
      " 5   Code              76172 non-null  object \n",
      " 6   Name              76172 non-null  object \n",
      " 7   PlacedBy          76172 non-null  object \n",
      " 8   Archived          76172 non-null  int64  \n",
      " 9   CacheType         76172 non-null  object \n",
      " 10  Container         76172 non-null  object \n",
      " 11  County            0 non-null      float64\n",
      " 12  Degrees           76172 non-null  float64\n",
      " 13  Difficulty        76172 non-null  float64\n",
      " 14  DNF               76172 non-null  int64  \n",
      " 15  DNFDate           0 non-null      float64\n",
      " 16  FTF               76172 non-null  int64  \n",
      " 17  HasCorrected      76172 non-null  int64  \n",
      " 18  HasTravelBug      76172 non-null  int64  \n",
      " 19  LastFoundDate     75770 non-null  object \n",
      " 20  LastLog           76172 non-null  object \n",
      " 21  Latitude          76172 non-null  float64\n",
      " 22  Longitude         76172 non-null  float64\n",
      " 23  NumberOfLogs      76172 non-null  int64  \n",
      " 24  OwnerId           76172 non-null  int64  \n",
      " 25  PlacedDate        76172 non-null  object \n",
      " 26  TempDisabled      76172 non-null  int64  \n",
      " 27  Terrain           76172 non-null  float64\n",
      " 28  LatOriginal       76172 non-null  float64\n",
      " 29  LonOriginal       76172 non-null  float64\n",
      " 30  Created           76172 non-null  object \n",
      " 31  Status            76172 non-null  object \n",
      " 32  Elevation         76172 non-null  float64\n",
      " 33  Resolution        0 non-null      float64\n",
      " 34  GcNote            0 non-null      float64\n",
      " 35  IsPremium         76172 non-null  int64  \n",
      " 36  FavPoints         76172 non-null  int64  \n",
      " 37  LongDescription   72360 non-null  object \n",
      " 38  ShortDescription  45466 non-null  object \n",
      " 39  Hints             54672 non-null  object \n",
      " 40  TravelBugs        3897 non-null   object \n",
      "dtypes: float64(12), int64(11), object(18)\n",
      "memory usage: 23.8+ MB\n"
     ]
    }
   ],
   "source": [
    "df[features].info()"
   ]
  },
  {
   "cell_type": "code",
   "execution_count": 42,
   "metadata": {},
   "outputs": [
    {
     "data": {
      "image/png": "[encoded data removed]",
      "text/plain": [
       "<Figure size 864x360 with 2 Axes>"
      ]
     },
     "metadata": {
      "needs_background": "light"
     },
     "output_type": "display_data"
    }
   ],
   "source": [
    "# distribution of \"Difficulty\" and \"Terrain\"\n",
    "\n",
    "fig = plt.figure(figsize=(12,5));\n",
    "ax = fig.add_subplot(121);\n",
    "chk = pd.DataFrame(df.groupby(['Difficulty']).Name.nunique())\n",
    "chk.columns = ['Unique Caches']\n",
    "chk['Difficulty'] = 1 + np.array(range(9))*0.5\n",
    "sns.barplot(data=chk,x='Difficulty',y='Unique Caches');\n",
    "\n",
    "ax = fig.add_subplot(122);\n",
    "chk = pd.DataFrame(df.groupby(['Terrain']).Name.nunique())\n",
    "chk.columns = ['Unique Caches']\n",
    "chk['Terrain'] = 1 + np.array(range(9))*0.5\n",
    "sns.barplot(data=chk,x='Terrain',y='Unique Caches');"
   ]
  },
  {
   "cell_type": "code",
   "execution_count": 22,
   "metadata": {},
   "outputs": [
    {
     "data": {
      "text/plain": [
       "count    125722.00000\n",
       "mean          5.56438\n",
       "std          20.57362\n",
       "min           0.00000\n",
       "25%           0.00000\n",
       "50%           1.00000\n",
       "75%           5.00000\n",
       "max        1237.00000\n",
       "Name: FavPoints, dtype: float64"
      ]
     },
     "execution_count": 22,
     "metadata": {},
     "output_type": "execute_result"
    }
   ],
   "source": [
    "df['FavPoints'].describe()"
   ]
  },
  {
   "cell_type": "code",
   "execution_count": 23,
   "metadata": {},
   "outputs": [
    {
     "data": {
      "text/plain": [
       "A    123899\n",
       "T      1823\n",
       "Name: Status, dtype: int64"
      ]
     },
     "execution_count": 23,
     "metadata": {},
     "output_type": "execute_result"
    }
   ],
   "source": [
    "df['Status'].value_counts()"
   ]
  },
  {
   "cell_type": "code",
   "execution_count": 24,
   "metadata": {},
   "outputs": [
    {
     "data": {
      "image/png": "[encoded data removed]",
      "text/plain": [
       "<Figure size 432x288 with 1 Axes>"
      ]
     },
     "metadata": {
      "needs_background": "light"
     },
     "output_type": "display_data"
    }
   ],
   "source": [
    "sns.histplot(data=df,x='Status');"
   ]
  },
  {
   "cell_type": "code",
   "execution_count": 25,
   "metadata": {},
   "outputs": [
    {
     "data": {
      "text/plain": [
       "count    125722.00000\n",
       "mean          5.56438\n",
       "std          20.57362\n",
       "min           0.00000\n",
       "25%           0.00000\n",
       "50%           1.00000\n",
       "75%           5.00000\n",
       "max        1237.00000\n",
       "Name: FavPoints, dtype: float64"
      ]
     },
     "execution_count": 25,
     "metadata": {},
     "output_type": "execute_result"
    }
   ],
   "source": [
    "df['FavPoints'].describe()"
   ]
  },
  {
   "cell_type": "code",
   "execution_count": 26,
   "metadata": {},
   "outputs": [
    {
     "data": {
      "text/plain": [
       "98.53645344490225"
      ]
     },
     "execution_count": 26,
     "metadata": {},
     "output_type": "execute_result"
    }
   ],
   "source": [
    "fp = list(df['FavPoints'])\n",
    "sum([1 for p in fp if p<=50])/len(fp)*100"
   ]
  },
  {
   "cell_type": "code",
   "execution_count": 27,
   "metadata": {},
   "outputs": [],
   "source": [
    "chk = pd.DataFrame(df.groupby(['FavPoints']).Name.nunique())\n",
    "chk.columns = ['Unique Caches']\n",
    "chk['FavPoints'] = chk.index"
   ]
  },
  {
   "cell_type": "code",
   "execution_count": 29,
   "metadata": {},
   "outputs": [
    {
     "data": {
      "image/png": "[encoded data removed]",
      "text/plain": [
       "<Figure size 864x360 with 2 Axes>"
      ]
     },
     "metadata": {
      "needs_background": "light"
     },
     "output_type": "display_data"
    }
   ],
   "source": [
    "fig = plt.figure(figsize=(12,5));\n",
    "ax = fig.add_subplot(121);\n",
    "sns.lineplot(data=chk[chk['FavPoints']<=50],x='FavPoints',y='Unique Caches');\n",
    "plt.xticks(range(0,50,5));\n",
    "plt.title('98.5% of the Caches');\n",
    "ax = fig.add_subplot(122);\n",
    "sns.lineplot(data=chk[chk['FavPoints']>50],x='FavPoints',y='Unique Caches');\n"
   ]
  },
  {
   "cell_type": "markdown",
   "metadata": {},
   "source": [
    "Check out some of the text fields:"
   ]
  },
  {
   "cell_type": "code",
   "execution_count": 30,
   "metadata": {},
   "outputs": [
    {
     "name": "stdout",
     "output_type": "stream",
     "text": [
      "LongDescription Samples:\n",
      "\n",
      "__0__ This doesn't qualify as one of my river/railroad crossing caches, but it is close.<br />\n",
      "<br />\n",
      "Here is an interesting spot on Nickajack Lake with a <b>Two for One</b> for your statistical pleasure. Of course that isn't all this pretty spot provides. You can see the Tennessee River with all it has to offer - folks fishing and boating, birds looking for a meal, Nickajack Dam, and commerical barge traffic. You can see trains go by just across the highway and the sunset is quite nice too. I saw all of this during the 20 minutes I was there hiding the cache, shooting the coordinates, and photographing the benchmark. The benchmark disk EE1511 can be found on the southeast corner of the bridge further to the west of the listed coordinates.<br />\n",
      "<br />\n",
      "So come on out, leave your car at the parking coordinates, take a short walk, and enjoy the area.<br />\n",
      "<br />\n",
      "Tennessee State Highway 156 is between the railroad and both the cache and parking spot, so it isn't an issue. <i>Stay on the south side of the road at all times.</i> There is plenty of room to walk from parking between the bank of the lake and the highway guardrail. However, I would advise keeping the small children on a very short leash.<br />\n",
      "<br />\n",
      "Some of you might recognize this as an area of contention from the water rights discussion during the recent droughts. If the State of Georgia had its way, this cache might not be listed in Tennessee. <img src=\"http://www.geocaching.com/images/icons/icon_smile_wink.gif\" border=\"0\" align=\"middle\" /><br />\n",
      "<br />\n",
      "<center><b>Please return the cache container to the exact location and position in which it was found and email me with any problems. Good luck and enjoy!<br />\n",
      "<br />\n",
      "<font color=\"black\"><b>Why did I place this cache here? I wanted you to see and enjoy this spot and give you a Two for One.</b></font></b></center>\n",
      "<br />\n",
      "<br />\n",
      "\n",
      "__10__ <p>This cache is a easy P&amp;G and you'll enjoy the views of the mountain and river also. There is parking and hope yall enjoy this cache. Especially folks traveling through can stop and get a quick yet beautiful cache. And enjoy the fall colors on the river </p>\n",
      "\n",
      "__20__ <p>Take a stroll on the boardwalk and enjoy the sights and sounds along the way! This is hidden not far off the boardwalk, in a rocky hiding place!</p>\n",
      "<p>This is located in Maple View Park, which is closed to vehicles seasonally, roughly from October - May.  </p>\n",
      "<p>Update - Congrats to Flagg2007 for being the first to find! Thank you for changing out the container due to the first one being taken.  </p>\n"
     ]
    }
   ],
   "source": [
    "print('LongDescription Samples:')\n",
    "print()\n",
    "print('__0__', df['LongDescription'][0])\n",
    "print()\n",
    "print('__10__', df['LongDescription'][10])\n",
    "print()\n",
    "print('__20__', df['LongDescription'][20])"
   ]
  },
  {
   "cell_type": "code",
   "execution_count": 31,
   "metadata": {},
   "outputs": [
    {
     "name": "stdout",
     "output_type": "stream",
     "text": [
      "ShortDescription Samples:\n",
      "\n",
      "__0__ nan\n",
      "\n",
      "__10__ nan\n",
      "\n",
      "__20__ nan\n"
     ]
    }
   ],
   "source": [
    "print('ShortDescription Samples:')\n",
    "print()\n",
    "print('__0__', df['ShortDescription'][0])\n",
    "print()\n",
    "print('__10__', df['ShortDescription'][10])\n",
    "print()\n",
    "print('__20__', df['ShortDescription'][20])"
   ]
  },
  {
   "cell_type": "code",
   "execution_count": 32,
   "metadata": {},
   "outputs": [
    {
     "name": "stdout",
     "output_type": "stream",
     "text": [
      "Hints Samples:\n",
      "\n",
      "__0__ nan\n",
      "\n",
      "__10__ Clear container\n",
      "\n",
      "__20__ Hidden in a hole/tunnel through a rock. About 5 feet off boardwalk, not on water side.\n"
     ]
    }
   ],
   "source": [
    "print('Hints Samples:')\n",
    "print()\n",
    "print('__0__', df['Hints'][0])\n",
    "print()\n",
    "print('__10__', df['Hints'][10])\n",
    "print()\n",
    "print('__20__', df['Hints'][20])"
   ]
  },
  {
   "cell_type": "code",
   "execution_count": 33,
   "metadata": {},
   "outputs": [
    {
     "name": "stdout",
     "output_type": "stream",
     "text": [
      "lText Samples:\n",
      "\n",
      "__0__ Found with my sweetie TeamMonroe1. TFTC!\n",
      "\n",
      "__10__ Could not find might have been washed away\n",
      "\n",
      "__20__ Nice walk, pretty easy to find, even though it’s cleverly hidden.\n"
     ]
    }
   ],
   "source": [
    "print('lText Samples:')\n",
    "print()\n",
    "print('__0__', df['lText'][0])\n",
    "print()\n",
    "print('__10__', df['lText'][10])\n",
    "print()\n",
    "print('__20__', df['lText'][20])"
   ]
  },
  {
   "cell_type": "code",
   "execution_count": 34,
   "metadata": {},
   "outputs": [
    {
     "data": {
      "text/plain": [
       "Micro      52670\n",
       "Small      30849\n",
       "Regular    25325\n",
       "Other      11358\n",
       "Unknown     3569\n",
       "Large       1061\n",
       "Virtual      890\n",
       "Name: Container, dtype: int64"
      ]
     },
     "execution_count": 34,
     "metadata": {},
     "output_type": "execute_result"
    }
   ],
   "source": [
    "df['Container'].value_counts()"
   ]
  },
  {
   "cell_type": "code",
   "execution_count": 43,
   "metadata": {},
   "outputs": [
    {
     "data": {
      "image/png": "[encoded data removed]",
      "text/plain": [
       "<Figure size 432x288 with 1 Axes>"
      ]
     },
     "metadata": {
      "needs_background": "light"
     },
     "output_type": "display_data"
    }
   ],
   "source": [
    "# container type:\n",
    "\n",
    "chk = pd.DataFrame(df.groupby(['Container']).Name.nunique())\n",
    "chk.columns = ['Unique Caches']\n",
    "chk['Container'] = chk.index\n",
    "sns.barplot(data=chk,x='Container',y='Unique Caches');\n"
   ]
  },
  {
   "cell_type": "markdown",
   "metadata": {},
   "source": [
    "### Full EDA and cleaning will be done in the next notebook, EDA_cleaning.ipynb"
   ]
  },
  {
   "cell_type": "code",
   "execution_count": null,
   "metadata": {},
   "outputs": [],
   "source": []
  }
 ],
 "metadata": {
  "kernelspec": {
   "display_name": "Python 3",
   "language": "python",
   "name": "python3"
  },
  "language_info": {
   "codemirror_mode": {
    "name": "ipython",
    "version": 3
   },
   "file_extension": ".py",
   "mimetype": "text/x-python",
   "name": "python",
   "nbconvert_exporter": "python",
   "pygments_lexer": "ipython3",
   "version": "3.8.5"
  }
 },
 "nbformat": 4,
 "nbformat_minor": 4
}
