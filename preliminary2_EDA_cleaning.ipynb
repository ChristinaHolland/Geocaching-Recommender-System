{
 "cells": [
  {
   "cell_type": "code",
   "execution_count": 372,
   "metadata": {},
   "outputs": [],
   "source": [
    "import numpy as np\n",
    "import pandas as pd\n",
    "import matplotlib.pyplot as plt\n",
    "import seaborn as sns"
   ]
  },
  {
   "cell_type": "markdown",
   "metadata": {},
   "source": [
    "## Read in data"
   ]
  },
  {
   "cell_type": "markdown",
   "metadata": {},
   "source": [
    "### Counted logs per cache with checklogs.py:\n",
    "\n",
    "There are 12433 Caches in this dataset.\n",
    "Number of Logs per cache is between 1 and 70, with a mean of 10.111960106169066.\n",
    "\n"
   ]
  },
  {
   "cell_type": "markdown",
   "metadata": {},
   "source": [
    "### Compiled logdata in compilelogs.py:\n",
    "\n",
    "Logs are counted and combined into 'good', 'bad', and 'neutral' according to their log type:\n",
    " \n",
    "| category | log types |\n",
    "| ---      | ---       |\n",
    "| good     | \"Found it\", \"Enable Listing\", \"Will Attend\" |\n",
    "| neutral  | \"Write note\", \"Owner Maintenance\", \"Post Reviewer Note\", \"Announcement\", \"Attended\", \"Publish Listing\", \"Webcam Photo Taken\", \"Temporarily Disable Listing\", \"Update Coordinates\", \"Unarchive\", \"Archive\" |\n",
    "| bad      | = \"Didn't find it\", \"Needs Maintenance\", \"Needs Archived\" |\n"
   ]
  },
  {
   "cell_type": "code",
   "execution_count": 373,
   "metadata": {},
   "outputs": [
    {
     "name": "stdout",
     "output_type": "stream",
     "text": [
      "<class 'pandas.core.frame.DataFrame'>\n",
      "RangeIndex: 12433 entries, 0 to 12432\n",
      "Data columns (total 23 columns):\n",
      " #   Column             Non-Null Count  Dtype  \n",
      "---  ------             --------------  -----  \n",
      " 0   code               12433 non-null  object \n",
      " 1   name               12433 non-null  object \n",
      " 2   good_logs_num      12433 non-null  int64  \n",
      " 3   neutral_logs_num   12433 non-null  int64  \n",
      " 4   bad_logs_num       12433 non-null  int64  \n",
      " 5   good_logs_txt      12399 non-null  object \n",
      " 6   neutral_logs_txt   5027 non-null   object \n",
      " 7   bad_logs_txt       4731 non-null   object \n",
      " 8   creator            12433 non-null  object \n",
      " 9   cache_type         12433 non-null  object \n",
      " 10  container          12433 non-null  object \n",
      " 11  difficulty         12433 non-null  float64\n",
      " 12  terrain            12433 non-null  float64\n",
      " 13  latitude           12433 non-null  float64\n",
      " 14  longitude          12433 non-null  float64\n",
      " 15  placed             12433 non-null  object \n",
      " 16  status             12433 non-null  object \n",
      " 17  is_premium         12433 non-null  int64  \n",
      " 18  fav_points         12433 non-null  int64  \n",
      " 19  short_description  7308 non-null   object \n",
      " 20  long_description   11726 non-null  object \n",
      " 21  hints              8816 non-null   object \n",
      " 22  travel_bugs        558 non-null    object \n",
      "dtypes: float64(4), int64(5), object(14)\n",
      "memory usage: 2.2+ MB\n"
     ]
    }
   ],
   "source": [
    "df = pd.read_csv('./data/compiled_data.csv')\n",
    "df.info()"
   ]
  },
  {
   "cell_type": "code",
   "execution_count": 374,
   "metadata": {},
   "outputs": [
    {
     "name": "stdout",
     "output_type": "stream",
     "text": [
      "NULL good    log text cases where good_logs_num    >0: 0\n",
      "NULL neutral log text cases where neutral_logs_num >0: 0\n",
      "NULL bad     log text cases where bad_logs_num     >0: 0\n"
     ]
    }
   ],
   "source": [
    "# Check out whether those log text nulls are just a lack of logs:\n",
    "\n",
    "ch = sum(df[df['good_logs_num']>0]['good_logs_txt'].isna())\n",
    "print(f'NULL good    log text cases where good_logs_num    >0: {ch}')\n",
    "ch = sum(df[df['neutral_logs_num']>0]['neutral_logs_txt'].isna())\n",
    "print(f'NULL neutral log text cases where neutral_logs_num >0: {ch}')\n",
    "ch = sum(df[df['bad_logs_num']>0]['bad_logs_txt'].isna())\n",
    "print(f'NULL bad     log text cases where bad_logs_num     >0: {ch}')\n"
   ]
  },
  {
   "cell_type": "markdown",
   "metadata": {},
   "source": [
    "Good."
   ]
  },
  {
   "cell_type": "code",
   "execution_count": 375,
   "metadata": {},
   "outputs": [],
   "source": [
    "df['good_logs_txt'].fillna('', inplace=True)\n",
    "df['neutral_logs_txt'].fillna('', inplace=True)\n",
    "df['bad_logs_txt'].fillna('', inplace=True)\n"
   ]
  },
  {
   "cell_type": "code",
   "execution_count": 376,
   "metadata": {},
   "outputs": [
    {
     "name": "stdout",
     "output_type": "stream",
     "text": [
      "0 of 12433 caches, 0.0% Complete...\n",
      "500 of 12433 caches, 4.022% Complete...\n",
      "1000 of 12433 caches, 8.043% Complete...\n",
      "1500 of 12433 caches, 12.065% Complete...\n",
      "2000 of 12433 caches, 16.086% Complete...\n",
      "2500 of 12433 caches, 20.108% Complete...\n",
      "3000 of 12433 caches, 24.129% Complete...\n",
      "3500 of 12433 caches, 28.151% Complete...\n",
      "4000 of 12433 caches, 32.172% Complete...\n",
      "4500 of 12433 caches, 36.194% Complete...\n",
      "5000 of 12433 caches, 40.216% Complete...\n",
      "5500 of 12433 caches, 44.237% Complete...\n",
      "6000 of 12433 caches, 48.259% Complete...\n",
      "6500 of 12433 caches, 52.28% Complete...\n",
      "7000 of 12433 caches, 56.302% Complete...\n",
      "7500 of 12433 caches, 60.323% Complete...\n",
      "8000 of 12433 caches, 64.345% Complete...\n",
      "8500 of 12433 caches, 68.366% Complete...\n",
      "9000 of 12433 caches, 72.388% Complete...\n",
      "9500 of 12433 caches, 76.41% Complete...\n",
      "10000 of 12433 caches, 80.431% Complete...\n",
      "10500 of 12433 caches, 84.453% Complete...\n",
      "11000 of 12433 caches, 88.474% Complete...\n",
      "11500 of 12433 caches, 92.496% Complete...\n",
      "12000 of 12433 caches, 96.517% Complete...\n"
     ]
    }
   ],
   "source": [
    "# combine text for name + short_description + long_description + hint, \n",
    "# and keep dummy on whether the fields (except name) were populated or not:\n",
    "\n",
    "cache_text = []\n",
    "\n",
    "names = list(df['name'])\n",
    "s_desc= list(df['short_description'].fillna(''))\n",
    "l_desc= list(df['long_description'].fillna(''))\n",
    "hints = list(df['hints'].fillna(''))\n",
    "\n",
    "num_caches = len(names)\n",
    "\n",
    "for n,name in enumerate(names):\n",
    "    text_content = name\n",
    "    if len(s_desc[n])>0:\n",
    "        text_content += s_desc[n]\n",
    "        s_desc[n] = 1\n",
    "    else:\n",
    "        s_desc[n] = 0\n",
    "    if len(l_desc[n])>0:\n",
    "        text_content += l_desc[n]\n",
    "        l_desc[n] = 1\n",
    "    else:\n",
    "        l_desc[n] = 0\n",
    "    if len(hints[n])>0:\n",
    "        text_content += hints[n]\n",
    "        hints[n] = 1\n",
    "    else:\n",
    "        hints[n] = 0\n",
    "        \n",
    "    cache_text.append(text_content)\n",
    "    \n",
    "    if n%500==0: \n",
    "        pct_complete = np.round(n*100/num_caches,3)\n",
    "        print(f'{n} of {num_caches} caches, {pct_complete}% Complete...')\n"
   ]
  },
  {
   "cell_type": "code",
   "execution_count": 377,
   "metadata": {},
   "outputs": [],
   "source": [
    "\n",
    "df['short_description'] = s_desc\n",
    "df['long_description']  = l_desc\n",
    "df['hints']             = hints\n",
    "df['cache_text']        = cache_text\n",
    "\n"
   ]
  },
  {
   "cell_type": "code",
   "execution_count": 378,
   "metadata": {},
   "outputs": [],
   "source": [
    "tbugs = df['travel_bugs'].fillna('')\n",
    "tbugs = [1 if len(tb)>0 else 0 for tb in tbugs]\n",
    "df['travel_bugs'] = tbugs"
   ]
  },
  {
   "cell_type": "code",
   "execution_count": 379,
   "metadata": {},
   "outputs": [],
   "source": [
    "creators = df['creator'].unique()\n",
    "created  = [df[df['creator']==c].shape[0] for c in creators]"
   ]
  },
  {
   "cell_type": "code",
   "execution_count": 380,
   "metadata": {},
   "outputs": [
    {
     "data": {
      "text/plain": [
       "31"
      ]
     },
     "execution_count": 380,
     "metadata": {},
     "output_type": "execute_result"
    }
   ],
   "source": [
    "# how many cache creators are mega-creators (>=50 caches)?\n",
    "\n",
    "sum([1 for c in created if c>=50])"
   ]
  },
  {
   "cell_type": "code",
   "execution_count": 381,
   "metadata": {},
   "outputs": [],
   "source": [
    "# Replace the name of the cache creator with \"other\" if they haven't created at least 50 caches:\n",
    "\n",
    "creator_dict = {}\n",
    "for n,c in enumerate(creators):\n",
    "    if created[n]<50:\n",
    "        creator_dict[c] = 'other'\n",
    "    else:\n",
    "        creator_dict[c] = c\n",
    "        \n",
    "new_creator = [creator_dict[c] for c in list(df['creator'])]\n",
    "df['creator'] = new_creator\n"
   ]
  },
  {
   "cell_type": "code",
   "execution_count": 382,
   "metadata": {},
   "outputs": [
    {
     "data": {
      "text/plain": [
       "other                              9493\n",
       "justinpike                          336\n",
       "terri2south                         214\n",
       "horseshoechamp                      190\n",
       "gatorman83                          168\n",
       "3-happy-campers                     164\n",
       "CCSGA                               120\n",
       "memomls                             118\n",
       "Bateshavingfun                      113\n",
       "finz2lr                             105\n",
       "Arabia Alliance                      93\n",
       "davidandbritt                        90\n",
       "zanna                                82\n",
       "89GTA & GEO PSYCHO                   77\n",
       "TeamT17                              73\n",
       "Cali9-1-1                            71\n",
       "alienchauncey                        67\n",
       "ChemInstr                            64\n",
       "Funfinderone                         64\n",
       "12stepkings                          64\n",
       "Creekwader                           61\n",
       "djstover                             61\n",
       "horseshoechamp & Shine Run Crew      60\n",
       "GTCACHERS                            60\n",
       "opted-out user                       58\n",
       "sc-kayaking                          56\n",
       "Teri Elaine                          55\n",
       "Geoturtlelover                       53\n",
       "kaboyd                               52\n",
       "68TR250                              51\n",
       "leolou                               50\n",
       "Titanium_Man                         50\n",
       "Name: creator, dtype: int64"
      ]
     },
     "execution_count": 382,
     "metadata": {},
     "output_type": "execute_result"
    }
   ],
   "source": [
    "df['creator'].value_counts()"
   ]
  },
  {
   "cell_type": "code",
   "execution_count": 383,
   "metadata": {},
   "outputs": [
    {
     "data": {
      "text/plain": [
       "array(['T', 'U', 'B', 'R', 'M', 'V', 'W', 'I', 'E', 'C', 'X', 'Z', 'F'],\n",
       "      dtype=object)"
      ]
     },
     "execution_count": 383,
     "metadata": {},
     "output_type": "execute_result"
    }
   ],
   "source": [
    "df['cache_type'].unique()"
   ]
  },
  {
   "cell_type": "code",
   "execution_count": 384,
   "metadata": {},
   "outputs": [],
   "source": [
    "cache_types = {\n",
    "    'T':'Traditional',\n",
    "    'U':'Unknown/Mystery',\n",
    "    'B':'Letterbox',\n",
    "    'R':'Earth',\n",
    "    'M':'Multi',\n",
    "    'V':'Virtual',\n",
    "    'W':'Webcam',\n",
    "    'I':'Wherigo',\n",
    "    'E':'Event',\n",
    "    'C':'Cache In Trash Out',\n",
    "    'X':'Maze Exhibit',\n",
    "    'Z':'Mega event',\n",
    "    'F':'Lost and Found Event'\n",
    "}\n",
    "\n",
    "# ref: https://gsak.net/help/hs21040.htm, https://www.geocaching.com/about/cache_types.aspx\n",
    "\n",
    "ctypes = df['cache_type']\n",
    "new_ctypes = [cache_types[c] for c in ctypes]\n",
    "df['cache_type'] = new_ctypes"
   ]
  },
  {
   "cell_type": "code",
   "execution_count": 385,
   "metadata": {},
   "outputs": [
    {
     "data": {
      "text/plain": [
       "Traditional             9856\n",
       "Unknown/Mystery         1737\n",
       "Multi                    429\n",
       "Earth                    140\n",
       "Letterbox                111\n",
       "Virtual                   90\n",
       "Wherigo                   54\n",
       "Event                      5\n",
       "Cache In Trash Out         4\n",
       "Webcam                     4\n",
       "Maze Exhibit               1\n",
       "Mega event                 1\n",
       "Lost and Found Event       1\n",
       "Name: cache_type, dtype: int64"
      ]
     },
     "execution_count": 385,
     "metadata": {},
     "output_type": "execute_result"
    }
   ],
   "source": [
    "df['cache_type'].value_counts()"
   ]
  },
  {
   "cell_type": "code",
   "execution_count": 386,
   "metadata": {},
   "outputs": [
    {
     "data": {
      "text/plain": [
       "Micro      4278\n",
       "Small      2531\n",
       "Regular    1890\n",
       "Other       837\n",
       "Unknown     253\n",
       "Large        67\n",
       "Name: container, dtype: int64"
      ]
     },
     "execution_count": 386,
     "metadata": {},
     "output_type": "execute_result"
    }
   ],
   "source": [
    "df[df['cache_type']=='Traditional']['container'].value_counts()"
   ]
  },
  {
   "cell_type": "code",
   "execution_count": 387,
   "metadata": {},
   "outputs": [
    {
     "data": {
      "text/plain": [
       "Micro      931\n",
       "Regular    617\n",
       "Small      528\n",
       "Other      283\n",
       "Unknown     92\n",
       "Virtual     88\n",
       "Large       38\n",
       "Name: container, dtype: int64"
      ]
     },
     "execution_count": 387,
     "metadata": {},
     "output_type": "execute_result"
    }
   ],
   "source": [
    "df[df['cache_type']!='Traditional']['container'].value_counts()"
   ]
  },
  {
   "cell_type": "code",
   "execution_count": 388,
   "metadata": {},
   "outputs": [],
   "source": [
    "ctypes = df['cache_type']\n",
    "containers = df['container']\n",
    "\n",
    "sizes = []\n",
    "for n,c in enumerate(containers):\n",
    "    if c=='Virtual': \n",
    "        s = 0\n",
    "    elif c=='Micro' : \n",
    "        s = 1\n",
    "    elif c=='Small':\n",
    "        s = 2\n",
    "    elif c=='Regular':\n",
    "        s = 3\n",
    "    elif c=='Large':\n",
    "        s = 4\n",
    "    else:\n",
    "        if ctypes[n]=='Traditional':\n",
    "            s = np.nan\n",
    "        else:\n",
    "            s = 0\n",
    "    sizes.append(s)\n",
    "    \n",
    "df['size'] = sizes "
   ]
  },
  {
   "cell_type": "code",
   "execution_count": 389,
   "metadata": {},
   "outputs": [
    {
     "data": {
      "text/plain": [
       "2.0"
      ]
     },
     "execution_count": 389,
     "metadata": {},
     "output_type": "execute_result"
    }
   ],
   "source": [
    "m = df[df['cache_type']=='Traditional']['size'].median()\n",
    "m"
   ]
  },
  {
   "cell_type": "code",
   "execution_count": 390,
   "metadata": {},
   "outputs": [],
   "source": [
    "df['size'].fillna(2,inplace=True);\n",
    "df.drop(columns = ['container'], inplace=True)"
   ]
  },
  {
   "cell_type": "code",
   "execution_count": 391,
   "metadata": {},
   "outputs": [
    {
     "data": {
      "text/plain": [
       "0    2008-04-29\n",
       "1    2020-11-06\n",
       "2    2020-09-26\n",
       "3    2004-03-22\n",
       "4    2019-09-02\n",
       "Name: placed, dtype: object"
      ]
     },
     "execution_count": 391,
     "metadata": {},
     "output_type": "execute_result"
    }
   ],
   "source": [
    "df['placed'].head()"
   ]
  },
  {
   "cell_type": "code",
   "execution_count": 392,
   "metadata": {},
   "outputs": [],
   "source": [
    "from datetime import datetime"
   ]
  },
  {
   "cell_type": "code",
   "execution_count": 393,
   "metadata": {},
   "outputs": [],
   "source": [
    "df['placed'] = pd.to_datetime(df.placed, format='%Y-%m-%d', exact=True)"
   ]
  },
  {
   "cell_type": "code",
   "execution_count": 394,
   "metadata": {},
   "outputs": [
    {
     "data": {
      "text/plain": [
       "0   2008-04-29\n",
       "1   2020-11-06\n",
       "2   2020-09-26\n",
       "3   2004-03-22\n",
       "4   2019-09-02\n",
       "Name: placed, dtype: datetime64[ns]"
      ]
     },
     "execution_count": 394,
     "metadata": {},
     "output_type": "execute_result"
    }
   ],
   "source": [
    "df['placed'].head()"
   ]
  },
  {
   "cell_type": "code",
   "execution_count": 395,
   "metadata": {},
   "outputs": [
    {
     "data": {
      "text/plain": [
       "A    12255\n",
       "T      178\n",
       "Name: status, dtype: int64"
      ]
     },
     "execution_count": 395,
     "metadata": {},
     "output_type": "execute_result"
    }
   ],
   "source": [
    "df['status'].value_counts()"
   ]
  },
  {
   "cell_type": "code",
   "execution_count": 396,
   "metadata": {},
   "outputs": [],
   "source": [
    "df['status'].replace('A',1,inplace=True) # Active\n",
    "df['status'].replace('T',0,inplace=True) # Temporarily Disabled\n"
   ]
  },
  {
   "cell_type": "code",
   "execution_count": 397,
   "metadata": {},
   "outputs": [
    {
     "name": "stdout",
     "output_type": "stream",
     "text": [
      "<class 'pandas.core.frame.DataFrame'>\n",
      "RangeIndex: 12433 entries, 0 to 12432\n",
      "Data columns (total 24 columns):\n",
      " #   Column             Non-Null Count  Dtype         \n",
      "---  ------             --------------  -----         \n",
      " 0   code               12433 non-null  object        \n",
      " 1   name               12433 non-null  object        \n",
      " 2   good_logs_num      12433 non-null  int64         \n",
      " 3   neutral_logs_num   12433 non-null  int64         \n",
      " 4   bad_logs_num       12433 non-null  int64         \n",
      " 5   good_logs_txt      12433 non-null  object        \n",
      " 6   neutral_logs_txt   12433 non-null  object        \n",
      " 7   bad_logs_txt       12433 non-null  object        \n",
      " 8   creator            12433 non-null  object        \n",
      " 9   cache_type         12433 non-null  object        \n",
      " 10  difficulty         12433 non-null  float64       \n",
      " 11  terrain            12433 non-null  float64       \n",
      " 12  latitude           12433 non-null  float64       \n",
      " 13  longitude          12433 non-null  float64       \n",
      " 14  placed             12433 non-null  datetime64[ns]\n",
      " 15  status             12433 non-null  int64         \n",
      " 16  is_premium         12433 non-null  int64         \n",
      " 17  fav_points         12433 non-null  int64         \n",
      " 18  short_description  12433 non-null  int64         \n",
      " 19  long_description   12433 non-null  int64         \n",
      " 20  hints              12433 non-null  int64         \n",
      " 21  travel_bugs        12433 non-null  int64         \n",
      " 22  cache_text         12433 non-null  object        \n",
      " 23  size               12433 non-null  float64       \n",
      "dtypes: datetime64[ns](1), float64(5), int64(10), object(8)\n",
      "memory usage: 2.3+ MB\n"
     ]
    }
   ],
   "source": [
    "df.info()"
   ]
  },
  {
   "cell_type": "markdown",
   "metadata": {},
   "source": [
    "The data frame is ready for experimentation now. I'll start with some simple models, depending on the type of features."
   ]
  },
  {
   "cell_type": "code",
   "execution_count": 398,
   "metadata": {},
   "outputs": [],
   "source": [
    "df.to_csv('./data/cleaned_data.csv',index=False)"
   ]
  },
  {
   "cell_type": "code",
   "execution_count": 399,
   "metadata": {},
   "outputs": [],
   "source": [
    "features_types = ['numerical', 'binary', 'text', 'categorical', 'datetime', 'identifiers']\n",
    "features_sets  = [{'good_logs_num', 'neutral_logs_num', 'bad_logs_num', \n",
    "                    'difficulty', 'terrain', 'latitude', 'longitude', 'size', 'fav_points'}]\n",
    "features_sets.append({'status', 'is_premium', 'short_description', 'long_description', 'hints', 'travel_bugs'})\n",
    "features_sets.append({'good_logs_txt', 'neutral_logs_txt', 'bad_logs_txt', 'cache_text'})\n",
    "features_sets.append({'creator', 'cache_type'})\n",
    "features_sets.append({'placed'})\n",
    "features_sets.append({'code', 'name'})\n",
    "\n"
   ]
  },
  {
   "cell_type": "code",
   "execution_count": 400,
   "metadata": {},
   "outputs": [],
   "source": [
    "cols = list(df.columns)\n",
    "ftypes = []\n",
    "samples = []\n",
    "for col in cols:\n",
    "    if   col in features_sets[0]: ftypes.append('numerical')\n",
    "    elif col in features_sets[1]: ftypes.append('binary')\n",
    "    elif col in features_sets[2]: ftypes.append('text')\n",
    "    elif col in features_sets[3]: ftypes.append('categorical')\n",
    "    elif col in features_sets[4]: ftypes.append('datetime')\n",
    "    elif col in features_sets[5]: ftypes.append('identifiers')\n",
    "    samples.append(list(df[df[col]!=''][col])[0])\n",
    "    \n",
    "features = pd.DataFrame({'feature': cols, 'feature type': ftypes, 'sample': samples})"
   ]
  },
  {
   "cell_type": "code",
   "execution_count": 401,
   "metadata": {},
   "outputs": [
    {
     "data": {
      "text/html": [
       "<div>\n",
       "<style scoped>\n",
       "    .dataframe tbody tr th:only-of-type {\n",
       "        vertical-align: middle;\n",
       "    }\n",
       "\n",
       "    .dataframe tbody tr th {\n",
       "        vertical-align: top;\n",
       "    }\n",
       "\n",
       "    .dataframe thead th {\n",
       "        text-align: right;\n",
       "    }\n",
       "</style>\n",
       "<table border=\"1\" class=\"dataframe\">\n",
       "  <thead>\n",
       "    <tr style=\"text-align: right;\">\n",
       "      <th></th>\n",
       "      <th>feature</th>\n",
       "      <th>feature type</th>\n",
       "      <th>sample</th>\n",
       "    </tr>\n",
       "  </thead>\n",
       "  <tbody>\n",
       "    <tr>\n",
       "      <th>0</th>\n",
       "      <td>code</td>\n",
       "      <td>identifiers</td>\n",
       "      <td>GC1A1E7</td>\n",
       "    </tr>\n",
       "    <tr>\n",
       "      <th>1</th>\n",
       "      <td>name</td>\n",
       "      <td>identifiers</td>\n",
       "      <td>Nickajack Two for One</td>\n",
       "    </tr>\n",
       "    <tr>\n",
       "      <th>2</th>\n",
       "      <td>good_logs_num</td>\n",
       "      <td>numerical</td>\n",
       "      <td>9</td>\n",
       "    </tr>\n",
       "    <tr>\n",
       "      <th>3</th>\n",
       "      <td>neutral_logs_num</td>\n",
       "      <td>numerical</td>\n",
       "      <td>0</td>\n",
       "    </tr>\n",
       "    <tr>\n",
       "      <th>4</th>\n",
       "      <td>bad_logs_num</td>\n",
       "      <td>numerical</td>\n",
       "      <td>1</td>\n",
       "    </tr>\n",
       "    <tr>\n",
       "      <th>5</th>\n",
       "      <td>good_logs_txt</td>\n",
       "      <td>text</td>\n",
       "      <td>Found with my sweetie TeamMonroe1. TFTC! Foun...</td>\n",
       "    </tr>\n",
       "    <tr>\n",
       "      <th>6</th>\n",
       "      <td>neutral_logs_txt</td>\n",
       "      <td>text</td>\n",
       "      <td>Congrats on the FTF Geaux Published There is ...</td>\n",
       "    </tr>\n",
       "    <tr>\n",
       "      <th>7</th>\n",
       "      <td>bad_logs_txt</td>\n",
       "      <td>text</td>\n",
       "      <td>Looked all over but no luck</td>\n",
       "    </tr>\n",
       "    <tr>\n",
       "      <th>8</th>\n",
       "      <td>creator</td>\n",
       "      <td>categorical</td>\n",
       "      <td>other</td>\n",
       "    </tr>\n",
       "    <tr>\n",
       "      <th>9</th>\n",
       "      <td>cache_type</td>\n",
       "      <td>categorical</td>\n",
       "      <td>Traditional</td>\n",
       "    </tr>\n",
       "    <tr>\n",
       "      <th>10</th>\n",
       "      <td>difficulty</td>\n",
       "      <td>numerical</td>\n",
       "      <td>2</td>\n",
       "    </tr>\n",
       "    <tr>\n",
       "      <th>11</th>\n",
       "      <td>terrain</td>\n",
       "      <td>numerical</td>\n",
       "      <td>1.5</td>\n",
       "    </tr>\n",
       "    <tr>\n",
       "      <th>12</th>\n",
       "      <td>latitude</td>\n",
       "      <td>numerical</td>\n",
       "      <td>34.9941</td>\n",
       "    </tr>\n",
       "    <tr>\n",
       "      <th>13</th>\n",
       "      <td>longitude</td>\n",
       "      <td>numerical</td>\n",
       "      <td>-85.5994</td>\n",
       "    </tr>\n",
       "    <tr>\n",
       "      <th>14</th>\n",
       "      <td>placed</td>\n",
       "      <td>datetime</td>\n",
       "      <td>2008-04-29 00:00:00</td>\n",
       "    </tr>\n",
       "    <tr>\n",
       "      <th>15</th>\n",
       "      <td>status</td>\n",
       "      <td>binary</td>\n",
       "      <td>1</td>\n",
       "    </tr>\n",
       "    <tr>\n",
       "      <th>16</th>\n",
       "      <td>is_premium</td>\n",
       "      <td>binary</td>\n",
       "      <td>1</td>\n",
       "    </tr>\n",
       "    <tr>\n",
       "      <th>17</th>\n",
       "      <td>fav_points</td>\n",
       "      <td>numerical</td>\n",
       "      <td>1</td>\n",
       "    </tr>\n",
       "    <tr>\n",
       "      <th>18</th>\n",
       "      <td>short_description</td>\n",
       "      <td>binary</td>\n",
       "      <td>0</td>\n",
       "    </tr>\n",
       "    <tr>\n",
       "      <th>19</th>\n",
       "      <td>long_description</td>\n",
       "      <td>binary</td>\n",
       "      <td>1</td>\n",
       "    </tr>\n",
       "    <tr>\n",
       "      <th>20</th>\n",
       "      <td>hints</td>\n",
       "      <td>binary</td>\n",
       "      <td>0</td>\n",
       "    </tr>\n",
       "    <tr>\n",
       "      <th>21</th>\n",
       "      <td>travel_bugs</td>\n",
       "      <td>binary</td>\n",
       "      <td>0</td>\n",
       "    </tr>\n",
       "    <tr>\n",
       "      <th>22</th>\n",
       "      <td>cache_text</td>\n",
       "      <td>text</td>\n",
       "      <td>Nickajack Two for OneThis doesn't qualify as o...</td>\n",
       "    </tr>\n",
       "    <tr>\n",
       "      <th>23</th>\n",
       "      <td>size</td>\n",
       "      <td>numerical</td>\n",
       "      <td>1</td>\n",
       "    </tr>\n",
       "  </tbody>\n",
       "</table>\n",
       "</div>"
      ],
      "text/plain": [
       "              feature feature type  \\\n",
       "0                code  identifiers   \n",
       "1                name  identifiers   \n",
       "2       good_logs_num    numerical   \n",
       "3    neutral_logs_num    numerical   \n",
       "4        bad_logs_num    numerical   \n",
       "5       good_logs_txt         text   \n",
       "6    neutral_logs_txt         text   \n",
       "7        bad_logs_txt         text   \n",
       "8             creator  categorical   \n",
       "9          cache_type  categorical   \n",
       "10         difficulty    numerical   \n",
       "11            terrain    numerical   \n",
       "12           latitude    numerical   \n",
       "13          longitude    numerical   \n",
       "14             placed     datetime   \n",
       "15             status       binary   \n",
       "16         is_premium       binary   \n",
       "17         fav_points    numerical   \n",
       "18  short_description       binary   \n",
       "19   long_description       binary   \n",
       "20              hints       binary   \n",
       "21        travel_bugs       binary   \n",
       "22         cache_text         text   \n",
       "23               size    numerical   \n",
       "\n",
       "                                               sample  \n",
       "0                                             GC1A1E7  \n",
       "1                               Nickajack Two for One  \n",
       "2                                                   9  \n",
       "3                                                   0  \n",
       "4                                                   1  \n",
       "5    Found with my sweetie TeamMonroe1. TFTC! Foun...  \n",
       "6    Congrats on the FTF Geaux Published There is ...  \n",
       "7                         Looked all over but no luck  \n",
       "8                                               other  \n",
       "9                                         Traditional  \n",
       "10                                                  2  \n",
       "11                                                1.5  \n",
       "12                                            34.9941  \n",
       "13                                           -85.5994  \n",
       "14                                2008-04-29 00:00:00  \n",
       "15                                                  1  \n",
       "16                                                  1  \n",
       "17                                                  1  \n",
       "18                                                  0  \n",
       "19                                                  1  \n",
       "20                                                  0  \n",
       "21                                                  0  \n",
       "22  Nickajack Two for OneThis doesn't qualify as o...  \n",
       "23                                                  1  "
      ]
     },
     "execution_count": 401,
     "metadata": {},
     "output_type": "execute_result"
    }
   ],
   "source": [
    "features"
   ]
  },
  {
   "cell_type": "code",
   "execution_count": 351,
   "metadata": {},
   "outputs": [],
   "source": [
    "features.to_csv('./data/features.csv',index=False)"
   ]
  },
  {
   "cell_type": "code",
   "execution_count": null,
   "metadata": {},
   "outputs": [],
   "source": []
  }
 ],
 "metadata": {
  "kernelspec": {
   "display_name": "Python 3",
   "language": "python",
   "name": "python3"
  },
  "language_info": {
   "codemirror_mode": {
    "name": "ipython",
    "version": 3
   },
   "file_extension": ".py",
   "mimetype": "text/x-python",
   "name": "python",
   "nbconvert_exporter": "python",
   "pygments_lexer": "ipython3",
   "version": "3.8.5"
  }
 },
 "nbformat": 4,
 "nbformat_minor": 4
}
