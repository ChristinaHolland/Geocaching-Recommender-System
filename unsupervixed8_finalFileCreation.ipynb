{
 "cells": [
  {
   "cell_type": "markdown",
   "metadata": {},
   "source": [
    "Import the full file created by makerecommender.py, and drop extra columns before resaving, so that it has just the geocache code column and the recommender output text.\n",
    "\n",
    "This is for streamlining the app, but also for keeping the geocaching data a little harder to poach.\n"
   ]
  },
  {
   "cell_type": "code",
   "execution_count": 1,
   "metadata": {},
   "outputs": [],
   "source": [
    "import pandas as pd"
   ]
  },
  {
   "cell_type": "code",
   "execution_count": 2,
   "metadata": {},
   "outputs": [],
   "source": [
    "df = pd.read_csv('./data/recommendations_file_original.csv')"
   ]
  },
  {
   "cell_type": "code",
   "execution_count": 3,
   "metadata": {},
   "outputs": [
    {
     "name": "stdout",
     "output_type": "stream",
     "text": [
      "There were many caches within the same KMeans cluster, so here are the 5 that are geographically closest:\n",
      "\n",
      "GC8N2JF: 100 Souvenirs Challenge\n",
      "GC4NDQP: Color Code: Hello, Yellow!\n",
      "GC8ZQT3: \"Casa de Waffle #9\"\n",
      "GC44MZ3: Snoopy's Library\n",
      "GCN560: Close to Home Multi\n",
      "\n",
      "These are all nice and easy and the terrain should be not too bad.\n",
      "\n",
      "Here are the five caches with the lowest Cosine Distance from your cache. Note that cos dist is always between 0 and 2.\n",
      "\n",
      "GC7W8J5: Logging Around, cos dist = 0.006, also in the same KMeans cluster\n",
      "GC8A0RE: 2019 JGC Museum of Southern History, cos dist = 0.012, also in the same KMeans cluster\n",
      "GC95AZ0: The Road Not Taken, cos dist = 0.018, also in the same KMeans cluster\n",
      "GC35EEQ: Blue Lake Earl Gilbert Landing, cos dist = 0.028, also in the same KMeans cluster\n",
      "GC5X7JG: Point The Way, cos dist = 0.028, also in the same KMeans cluster\n",
      "\n",
      "These are all nice and easy and the terrain should be not too bad.\n",
      "\n",
      "Thank you, and have fun! Email me at clh@cholland.me if you have any comments or feedback.\n"
     ]
    }
   ],
   "source": [
    "print(list(df[df['code']=='GC90JDX']['output string'])[0])"
   ]
  },
  {
   "cell_type": "code",
   "execution_count": 4,
   "metadata": {},
   "outputs": [
    {
     "data": {
      "text/html": [
       "<div>\n",
       "<style scoped>\n",
       "    .dataframe tbody tr th:only-of-type {\n",
       "        vertical-align: middle;\n",
       "    }\n",
       "\n",
       "    .dataframe tbody tr th {\n",
       "        vertical-align: top;\n",
       "    }\n",
       "\n",
       "    .dataframe thead th {\n",
       "        text-align: right;\n",
       "    }\n",
       "</style>\n",
       "<table border=\"1\" class=\"dataframe\">\n",
       "  <thead>\n",
       "    <tr style=\"text-align: right;\">\n",
       "      <th></th>\n",
       "      <th>label</th>\n",
       "      <th>name</th>\n",
       "      <th>code</th>\n",
       "      <th>Y</th>\n",
       "      <th>X</th>\n",
       "      <th>output string</th>\n",
       "    </tr>\n",
       "  </thead>\n",
       "  <tbody>\n",
       "    <tr>\n",
       "      <th>0</th>\n",
       "      <td>1</td>\n",
       "      <td>South River Trail: Triple Claw</td>\n",
       "      <td>GC1A1E7</td>\n",
       "      <td>34.374433</td>\n",
       "      <td>-85.631683</td>\n",
       "      <td>There were many caches within the same KMeans ...</td>\n",
       "    </tr>\n",
       "    <tr>\n",
       "      <th>1</th>\n",
       "      <td>49</td>\n",
       "      <td>Canada Traveler Challenge: 5 Provinces</td>\n",
       "      <td>GC92B2K</td>\n",
       "      <td>34.437067</td>\n",
       "      <td>-85.758900</td>\n",
       "      <td>There were many caches within the same KMeans ...</td>\n",
       "    </tr>\n",
       "    <tr>\n",
       "      <th>2</th>\n",
       "      <td>47</td>\n",
       "      <td>Milledge Mystery Renewed</td>\n",
       "      <td>GC90JDX</td>\n",
       "      <td>34.435733</td>\n",
       "      <td>-85.754983</td>\n",
       "      <td>There were many caches within the same KMeans ...</td>\n",
       "    </tr>\n",
       "    <tr>\n",
       "      <th>3</th>\n",
       "      <td>2</td>\n",
       "      <td>Guarding South Fulton #21</td>\n",
       "      <td>GCH72A</td>\n",
       "      <td>34.688217</td>\n",
       "      <td>-85.526500</td>\n",
       "      <td>There were many caches within the same KMeans ...</td>\n",
       "    </tr>\n",
       "    <tr>\n",
       "      <th>4</th>\n",
       "      <td>0</td>\n",
       "      <td>Hottest Park n Ride</td>\n",
       "      <td>GC8D3PX</td>\n",
       "      <td>34.616850</td>\n",
       "      <td>-85.768367</td>\n",
       "      <td>There were many caches within the same KMeans ...</td>\n",
       "    </tr>\n",
       "  </tbody>\n",
       "</table>\n",
       "</div>"
      ],
      "text/plain": [
       "   label                                    name     code          Y  \\\n",
       "0      1          South River Trail: Triple Claw  GC1A1E7  34.374433   \n",
       "1     49  Canada Traveler Challenge: 5 Provinces  GC92B2K  34.437067   \n",
       "2     47                Milledge Mystery Renewed  GC90JDX  34.435733   \n",
       "3      2               Guarding South Fulton #21   GCH72A  34.688217   \n",
       "4      0                     Hottest Park n Ride  GC8D3PX  34.616850   \n",
       "\n",
       "           X                                      output string  \n",
       "0 -85.631683  There were many caches within the same KMeans ...  \n",
       "1 -85.758900  There were many caches within the same KMeans ...  \n",
       "2 -85.754983  There were many caches within the same KMeans ...  \n",
       "3 -85.526500  There were many caches within the same KMeans ...  \n",
       "4 -85.768367  There were many caches within the same KMeans ...  "
      ]
     },
     "execution_count": 4,
     "metadata": {},
     "output_type": "execute_result"
    }
   ],
   "source": [
    "df.head()"
   ]
  },
  {
   "cell_type": "code",
   "execution_count": 5,
   "metadata": {},
   "outputs": [
    {
     "data": {
      "text/html": [
       "<div>\n",
       "<style scoped>\n",
       "    .dataframe tbody tr th:only-of-type {\n",
       "        vertical-align: middle;\n",
       "    }\n",
       "\n",
       "    .dataframe tbody tr th {\n",
       "        vertical-align: top;\n",
       "    }\n",
       "\n",
       "    .dataframe thead th {\n",
       "        text-align: right;\n",
       "    }\n",
       "</style>\n",
       "<table border=\"1\" class=\"dataframe\">\n",
       "  <thead>\n",
       "    <tr style=\"text-align: right;\">\n",
       "      <th></th>\n",
       "      <th>code</th>\n",
       "      <th>output string</th>\n",
       "    </tr>\n",
       "  </thead>\n",
       "  <tbody>\n",
       "    <tr>\n",
       "      <th>0</th>\n",
       "      <td>GC1A1E7</td>\n",
       "      <td>There were many caches within the same KMeans ...</td>\n",
       "    </tr>\n",
       "    <tr>\n",
       "      <th>1</th>\n",
       "      <td>GC92B2K</td>\n",
       "      <td>There were many caches within the same KMeans ...</td>\n",
       "    </tr>\n",
       "    <tr>\n",
       "      <th>2</th>\n",
       "      <td>GC90JDX</td>\n",
       "      <td>There were many caches within the same KMeans ...</td>\n",
       "    </tr>\n",
       "    <tr>\n",
       "      <th>3</th>\n",
       "      <td>GCH72A</td>\n",
       "      <td>There were many caches within the same KMeans ...</td>\n",
       "    </tr>\n",
       "    <tr>\n",
       "      <th>4</th>\n",
       "      <td>GC8D3PX</td>\n",
       "      <td>There were many caches within the same KMeans ...</td>\n",
       "    </tr>\n",
       "  </tbody>\n",
       "</table>\n",
       "</div>"
      ],
      "text/plain": [
       "      code                                      output string\n",
       "0  GC1A1E7  There were many caches within the same KMeans ...\n",
       "1  GC92B2K  There were many caches within the same KMeans ...\n",
       "2  GC90JDX  There were many caches within the same KMeans ...\n",
       "3   GCH72A  There were many caches within the same KMeans ...\n",
       "4  GC8D3PX  There were many caches within the same KMeans ..."
      ]
     },
     "execution_count": 5,
     "metadata": {},
     "output_type": "execute_result"
    }
   ],
   "source": [
    "df.drop(columns=['label', 'name', 'Y', 'X'], inplace=True)\n",
    "df.head()"
   ]
  },
  {
   "cell_type": "code",
   "execution_count": 6,
   "metadata": {},
   "outputs": [
    {
     "name": "stdout",
     "output_type": "stream",
     "text": [
      "There were many caches within the same KMeans cluster, so here are the 5 that are geographically closest:\n",
      "\n",
      "GC7YX3Q: The Great American Cachetime Challenge\n",
      "GC19YXQ: Electric Wetlands\n",
      "GC5M2KY: Guarding South Fulton #24\n",
      "GC6G634: Camouflage\n",
      "GC1CZ5H: Burn Your Bogie?\n",
      "\n",
      "These are all nice and easy and the terrain should be not too bad.\n",
      "\n",
      "Here are the five caches with the lowest Cosine Distance from your cache. Note that cos dist is always between 0 and 2.\n",
      "\n",
      "GC98DB8: Scared Stupid ( Creepy), cos dist = 0.042, also in the same KMeans cluster\n",
      "GC8R9V5: What kind of hide is this?, cos dist = 0.05, also in the same KMeans cluster\n",
      "GC8KNP1: Call Me By Your Name Otto, cos dist = 0.108, also in the same KMeans cluster\n",
      "GC8Q2Z6: SCT Train Clanking, cos dist = 0.108, also in the same KMeans cluster\n",
      "GC92BMF: The Lion Roars No More Too, cos dist = 0.121\n",
      "\n",
      "These are all nice and easy and the terrain should be not too bad.\n",
      "\n",
      "Thank you, and have fun! Email me at clh@cholland.me if you have any comments or feedback.\n"
     ]
    }
   ],
   "source": [
    "print(list(df[df['code']=='GC8D3PX']['output string'])[0])"
   ]
  },
  {
   "cell_type": "code",
   "execution_count": 7,
   "metadata": {},
   "outputs": [],
   "source": [
    "df.to_csv('./data/recommendations_file.csv',index=False)\n"
   ]
  },
  {
   "cell_type": "markdown",
   "metadata": {},
   "source": [
    "I realized in deploying the app that text wasn't being displayed in the correct format, so I needed to parse the bits and pieces back out of the saved output strings. It was MUCH faster to do this than to rerun the file that makes the saved output for each cache (about a minute, vs. 10 hours+)."
   ]
  },
  {
   "cell_type": "code",
   "execution_count": 37,
   "metadata": {},
   "outputs": [],
   "source": [
    "start_options = []\n",
    "start_options.append('You picked a somewhat unusual cache - there are no other caches in our 12000+ within the same KMeans cluster.')\n",
    "start_options.append('Here are all of the caches within the same KMeans cluster:\\n')\n",
    "start_options.append('There were many caches within the same KMeans cluster, so here are the 5 that are geographically closest:\\n')\n",
    "\n",
    "mid_options = []\n",
    "mid_options.append('\\nThese are all nice and easy and the terrain should be not too bad.')\n",
    "mid_options.append('\\nThese are all nice and easy and some have some rough terrain.')\n",
    "mid_options.append('\\nThese are all nice and easy and hiking boots and TecNu may be in order for these.')\n",
    "mid_options.append('\\nSome of these are higher difficulty and the terrain should be not too bad.')\n",
    "mid_options.append('\\nSome of these are higher difficulty and some have some rough terrain.')\n",
    "mid_options.append('\\nSome of these are higher difficulty and hiking boots and TecNu may be in order for these.')\n",
    "mid_options.append('\\nBetter put on your thinking cap for these tough caches and the terrain should be not too bad.')\n",
    "mid_options.append('\\nBetter put on your thinking cap for these tough caches and some have some rough terrain.')\n",
    "mid_options.append('\\nBetter put on your thinking cap for these tough caches and hiking boots and TecNu may be in order for these.')\n",
    "\n",
    "part2 =  '\\n\\nHere are the five caches with the lowest Cosine Distance from your cache. Note that cos dist is always between 0 and 2.\\n'\n",
    "\n",
    "ending = '\\n\\nThank you, and have fun! Email me at clh@cholland.me if you have any comments or feedback.'\n",
    "\n"
   ]
  },
  {
   "cell_type": "code",
   "execution_count": 58,
   "metadata": {},
   "outputs": [],
   "source": [
    "import re\n"
   ]
  },
  {
   "cell_type": "code",
   "execution_count": 230,
   "metadata": {},
   "outputs": [],
   "source": [
    "def parse_output(str1):\n",
    "\n",
    "    empty_first=False\n",
    "    if str1[0]=='Y': \n",
    "        empty_first=True\n",
    "\n",
    "    for n,s in enumerate(start_options):\n",
    "        L = len(s)\n",
    "        if str1[0:L] ==s:\n",
    "            start_no = n\n",
    "            str1 = str1[L:]\n",
    "    where = []\n",
    "    which = []\n",
    "    if empty_first:\n",
    "        which.append(-1)\n",
    "        where.append(0)\n",
    "    while len(where)<2:\n",
    "        for n,m in enumerate(mid_options):\n",
    "            indices = [m.start() for m in re.finditer(mid_options[n], str1)]\n",
    "            options = [n for j in range(len(indices))]\n",
    "            where += indices\n",
    "            which += options\n",
    "    if empty_first==False:\n",
    "        temp = pd.DataFrame({'which': which, 'where': where})\n",
    "        temp = temp.sort_values(by='where')\n",
    "        which = list(temp['which'])\n",
    "        where = list(temp['where'])\n",
    "        omit2nd = [where[1], (where[1]+len(mid_options[which[1]]))]\n",
    "        str1 = str1[0:omit2nd[0]] + str1[omit2nd[1]:]\n",
    "        omit1st = [where[0], (where[0]+len(mid_options[which[0]]))]\n",
    "        str1 = str1[0:omit1st[0]] + str1[omit1st[1]:]\n",
    "    else: \n",
    "        omit2nd = [where[1], (where[1]+len(mid_options[which[1]]))]\n",
    "        str1 = str1[0:omit2nd[0]] + str1[omit2nd[1]:]\n",
    "    KMtxt = which[0]\n",
    "    CDtxt = which[1]\n",
    "    ndx = str1.find(ending)\n",
    "    str1 = str1[0:ndx] + str1[(ndx+len(ending)):]\n",
    "    ndx = str1.find(part2)\n",
    "    str1 = str1[0:ndx] + str1[(ndx+len(part2)):]\n",
    "    \n",
    "    KMcaches = []\n",
    "    CDcaches = []\n",
    "    \n",
    "    caches = str1.split('\\n\\n')\n",
    "    if empty_first:\n",
    "        KMcaches = []\n",
    "        CDcaches = caches[0].split('\\n')\n",
    "        CDcaches = [c for c in CDcaches if c!='']\n",
    "\n",
    "    else:\n",
    "        KMcaches = caches[0].split('\\n')\n",
    "        CDcaches = caches[1].split('\\n')\n",
    "        KMcaches = [c for c in KMcaches if c!='']\n",
    "        CDcaches = [c for c in CDcaches if c!='']\n",
    "    N_KM = len(KMcaches)\n",
    "\n",
    "    return start_no, KMtxt, CDtxt, KMcaches, CDcaches, str1, N_KM\n",
    "\n",
    "# God bless StackOverflow, really:\n",
    "# https://stackoverflow.com/questions/4664850/how-to-find-all-occurrences-of-a-substring"
   ]
  },
  {
   "cell_type": "code",
   "execution_count": 232,
   "metadata": {},
   "outputs": [
    {
     "name": "stdout",
     "output_type": "stream",
     "text": [
      "Parsed 1 of 12433, 0.008043111075363952% completed...\n",
      "Parsed 501 of 12433, 4.029598648757339% completed...\n",
      "Parsed 1001 of 12433, 8.051154186439314% completed...\n",
      "Parsed 1501 of 12433, 12.07270972412129% completed...\n",
      "Parsed 2001 of 12433, 16.094265261803265% completed...\n",
      "Parsed 2501 of 12433, 20.115820799485242% completed...\n",
      "Parsed 3001 of 12433, 24.137376337167215% completed...\n",
      "Parsed 3501 of 12433, 28.15893187484919% completed...\n",
      "Parsed 4001 of 12433, 32.180487412531164% completed...\n",
      "Parsed 4501 of 12433, 36.20204295021314% completed...\n",
      "Parsed 5001 of 12433, 40.22359848789512% completed...\n",
      "Parsed 5501 of 12433, 44.245154025577094% completed...\n",
      "Parsed 6001 of 12433, 48.26670956325907% completed...\n",
      "Parsed 6501 of 12433, 52.28826510094105% completed...\n",
      "Parsed 7001 of 12433, 56.309820638623016% completed...\n",
      "Parsed 7501 of 12433, 60.33137617630499% completed...\n",
      "Parsed 8001 of 12433, 64.35293171398698% completed...\n",
      "Parsed 8501 of 12433, 68.37448725166895% completed...\n",
      "Parsed 9001 of 12433, 72.39604278935091% completed...\n",
      "Parsed 9501 of 12433, 76.41759832703289% completed...\n",
      "Parsed 10001 of 12433, 80.43915386471487% completed...\n",
      "Parsed 10501 of 12433, 84.46070940239684% completed...\n",
      "Parsed 11001 of 12433, 88.48226494007882% completed...\n",
      "Parsed 11501 of 12433, 92.5038204777608% completed...\n",
      "Parsed 12001 of 12433, 96.52537601544277% completed...\n"
     ]
    }
   ],
   "source": [
    "starts = []\n",
    "KMtxts = []\n",
    "CDtxts = []\n",
    "KM0 = []\n",
    "KM1 = []\n",
    "KM2 = []\n",
    "KM3 = []\n",
    "KM4 = []\n",
    "CD0 = []\n",
    "CD1 = []\n",
    "CD2 = []\n",
    "CD3 = []\n",
    "CD4 = []\n",
    "numKM= []\n",
    "\n",
    "for n,c in enumerate(codes):\n",
    "    start_no, KMtxt, CDtxt, KMcaches, CDcaches, str1, N_KM = parse_output(outpts[n])\n",
    "    while len(KMcaches)<5: KMcaches.append('')\n",
    "    starts.append(start_no)\n",
    "    KMtxts.append(KMtxt)\n",
    "    CDtxts.append(CDtxt)\n",
    "    KM0.append(KMcaches[0])\n",
    "    KM1.append(KMcaches[1])\n",
    "    KM2.append(KMcaches[2])\n",
    "    KM3.append(KMcaches[3])\n",
    "    KM4.append(KMcaches[4])\n",
    "    CD0.append(CDcaches[0])\n",
    "    CD1.append(CDcaches[1])\n",
    "    CD2.append(CDcaches[2])\n",
    "    CD3.append(CDcaches[3])\n",
    "    CD4.append(CDcaches[4])\n",
    "    numKM.append(N_KM)\n",
    "    if n%500==0: print(f'Parsed {n+1} of 12433, {(n+1)*100/12433}% completed...')\n"
   ]
  },
  {
   "cell_type": "code",
   "execution_count": 234,
   "metadata": {},
   "outputs": [
    {
     "data": {
      "text/html": [
       "<div>\n",
       "<style scoped>\n",
       "    .dataframe tbody tr th:only-of-type {\n",
       "        vertical-align: middle;\n",
       "    }\n",
       "\n",
       "    .dataframe tbody tr th {\n",
       "        vertical-align: top;\n",
       "    }\n",
       "\n",
       "    .dataframe thead th {\n",
       "        text-align: right;\n",
       "    }\n",
       "</style>\n",
       "<table border=\"1\" class=\"dataframe\">\n",
       "  <thead>\n",
       "    <tr style=\"text-align: right;\">\n",
       "      <th></th>\n",
       "      <th>code</th>\n",
       "      <th>startoption</th>\n",
       "      <th>KMtxtoption</th>\n",
       "      <th>KMcache0</th>\n",
       "      <th>KMcache1</th>\n",
       "      <th>KMcache2</th>\n",
       "      <th>KMcache3</th>\n",
       "      <th>KMcache4</th>\n",
       "      <th>CDtxtoption</th>\n",
       "      <th>CDcache0</th>\n",
       "      <th>CDcache1</th>\n",
       "      <th>CDcache2</th>\n",
       "      <th>CDcache3</th>\n",
       "      <th>CDcache4</th>\n",
       "      <th>num KM</th>\n",
       "    </tr>\n",
       "  </thead>\n",
       "  <tbody>\n",
       "    <tr>\n",
       "      <th>0</th>\n",
       "      <td>GC1A1E7</td>\n",
       "      <td>2</td>\n",
       "      <td>0</td>\n",
       "      <td>GC44KZ6: (Not THAT) Beaver Cache</td>\n",
       "      <td>GC44NXP: SRT: UTP</td>\n",
       "      <td>GC11HRX: B and B Little Chicken</td>\n",
       "      <td>GC1W1YB: Black Cat Tips</td>\n",
       "      <td>GC5VXDK: Under the Boardwalk</td>\n",
       "      <td>0</td>\n",
       "      <td>GC2Q4CD: Georgia I-95 Solar System - Rhea, cos...</td>\n",
       "      <td>GC8ZQ7E: Hello I'm Johnnie's Cache, cos dist =...</td>\n",
       "      <td>GC2ZG54: All Roads Lead to Rome Iter VIII, cos...</td>\n",
       "      <td>GC8A5MG: Relic, cos dist = 0.03, also in the s...</td>\n",
       "      <td>GC4M1E2: Greek Redux - Omega, cos dist = 0.03,...</td>\n",
       "      <td>5</td>\n",
       "    </tr>\n",
       "    <tr>\n",
       "      <th>1</th>\n",
       "      <td>GC92B2K</td>\n",
       "      <td>2</td>\n",
       "      <td>0</td>\n",
       "      <td>GC8N2GW: Linecrest One</td>\n",
       "      <td>GC23RM9: Publix Enemy #18</td>\n",
       "      <td>GC75A8Z: Fayetteville. Commons</td>\n",
       "      <td>GC8D3RK: World Traveler Challenge: 3 Continents</td>\n",
       "      <td>GCV92H: Phoenix</td>\n",
       "      <td>0</td>\n",
       "      <td>GC95RNV: Zone G, cos dist = 0.02, also in the ...</td>\n",
       "      <td>GC7GK2M: Hiking2175's Golden Ammo Can, cos dis...</td>\n",
       "      <td>GC4AZ8Z: Kayak Series State Line Island, cos d...</td>\n",
       "      <td>GC4278Y: On the Mark, cos dist = 0.086, also i...</td>\n",
       "      <td>GC87WTP: RS #85: Like a Rolling Stone, cos dis...</td>\n",
       "      <td>5</td>\n",
       "    </tr>\n",
       "  </tbody>\n",
       "</table>\n",
       "</div>"
      ],
      "text/plain": [
       "      code  startoption  KMtxtoption                          KMcache0  \\\n",
       "0  GC1A1E7            2            0  GC44KZ6: (Not THAT) Beaver Cache   \n",
       "1  GC92B2K            2            0            GC8N2GW: Linecrest One   \n",
       "\n",
       "                    KMcache1                         KMcache2  \\\n",
       "0          GC44NXP: SRT: UTP  GC11HRX: B and B Little Chicken   \n",
       "1  GC23RM9: Publix Enemy #18   GC75A8Z: Fayetteville. Commons   \n",
       "\n",
       "                                          KMcache3  \\\n",
       "0                          GC1W1YB: Black Cat Tips   \n",
       "1  GC8D3RK: World Traveler Challenge: 3 Continents   \n",
       "\n",
       "                       KMcache4  CDtxtoption  \\\n",
       "0  GC5VXDK: Under the Boardwalk            0   \n",
       "1               GCV92H: Phoenix            0   \n",
       "\n",
       "                                            CDcache0  \\\n",
       "0  GC2Q4CD: Georgia I-95 Solar System - Rhea, cos...   \n",
       "1  GC95RNV: Zone G, cos dist = 0.02, also in the ...   \n",
       "\n",
       "                                            CDcache1  \\\n",
       "0  GC8ZQ7E: Hello I'm Johnnie's Cache, cos dist =...   \n",
       "1  GC7GK2M: Hiking2175's Golden Ammo Can, cos dis...   \n",
       "\n",
       "                                            CDcache2  \\\n",
       "0  GC2ZG54: All Roads Lead to Rome Iter VIII, cos...   \n",
       "1  GC4AZ8Z: Kayak Series State Line Island, cos d...   \n",
       "\n",
       "                                            CDcache3  \\\n",
       "0  GC8A5MG: Relic, cos dist = 0.03, also in the s...   \n",
       "1  GC4278Y: On the Mark, cos dist = 0.086, also i...   \n",
       "\n",
       "                                            CDcache4  num KM  \n",
       "0  GC4M1E2: Greek Redux - Omega, cos dist = 0.03,...       5  \n",
       "1  GC87WTP: RS #85: Like a Rolling Stone, cos dis...       5  "
      ]
     },
     "execution_count": 234,
     "metadata": {},
     "output_type": "execute_result"
    }
   ],
   "source": [
    "\n",
    "\n",
    "recs = pd.DataFrame({\n",
    "                        'code': codes,\n",
    "                        'startoption': starts,\n",
    "                        'KMtxtoption': KMtxts,\n",
    "                        'KMcache0': KM0,\n",
    "                        'KMcache1': KM1,\n",
    "                        'KMcache2': KM2,\n",
    "                        'KMcache3': KM3,\n",
    "                        'KMcache4': KM4,\n",
    "                        'CDtxtoption': CDtxts,\n",
    "                        'CDcache0': CD0,\n",
    "                        'CDcache1': CD1,\n",
    "                        'CDcache2': CD2,\n",
    "                        'CDcache3': CD3,\n",
    "                        'CDcache4': CD4,\n",
    "                        'num KM': numKM\n",
    "                    })\n",
    "\n",
    "recs.head(2)"
   ]
  },
  {
   "cell_type": "code",
   "execution_count": 246,
   "metadata": {},
   "outputs": [
    {
     "data": {
      "text/plain": [
       "code                                                     GC3BG9G\n",
       "startoption                                                    2\n",
       "KMtxtoption                                                    0\n",
       "KMcache0        GC1RDZK: Fields of McCurry Park AL - Bonus Cache\n",
       "KMcache1                                     GC1W4YG: The Master\n",
       "KMcache2                           GC101M3: Gillian & Ella Cache\n",
       "KMcache3                                GCM9W8: Yellow Submarine\n",
       "KMcache4       GC8M840: The Cache Above the City Beneath the ...\n",
       "CDtxtoption                                                    6\n",
       "CDcache0       GC6ZGGY: Guarding South Fulton #27, cos dist =...\n",
       "CDcache1       GC4KGMH: a \"Gin\"  joint next to the tracks?, c...\n",
       "CDcache2       GC513MK: Baby Bird Is Lost..., cos dist = 0.01...\n",
       "CDcache3       GC43DVP: A Horse with No Name - America, cos d...\n",
       "CDcache4       GC4M3M7: Orthoguy This Ones' For You, cos dist...\n",
       "num KM                                                         5\n",
       "Name: 35, dtype: object"
      ]
     },
     "execution_count": 246,
     "metadata": {},
     "output_type": "execute_result"
    }
   ],
   "source": [
    "recs.loc[35]"
   ]
  },
  {
   "cell_type": "code",
   "execution_count": 247,
   "metadata": {},
   "outputs": [
    {
     "data": {
      "text/plain": [
       "code                                                     GC8J18J\n",
       "startoption                                                    0\n",
       "KMtxtoption                                                   -1\n",
       "KMcache0                                                        \n",
       "KMcache1                                                        \n",
       "KMcache2                                                        \n",
       "KMcache3                                                        \n",
       "KMcache4                                                        \n",
       "CDtxtoption                                                    0\n",
       "CDcache0       GC35EH8: Don't Poke the Bear #1, cos dist = 0.953\n",
       "CDcache1       GC2358Z: Day of an American Battle-21JUL1861-F...\n",
       "CDcache2                     GC8H9NQ: The Path, cos dist = 0.957\n",
       "CDcache3       GC8M4QX: Christmas Visit from Santa, cos dist ...\n",
       "CDcache4       GC7K9YV: By the river and through the woods, c...\n",
       "num KM                                                         0\n",
       "Name: 4958, dtype: object"
      ]
     },
     "execution_count": 247,
     "metadata": {},
     "output_type": "execute_result"
    }
   ],
   "source": [
    "recs.loc[4958]"
   ]
  },
  {
   "cell_type": "code",
   "execution_count": 258,
   "metadata": {},
   "outputs": [],
   "source": [
    "recs.to_csv('./data/recommendations_file_original.csv',index=False)\n"
   ]
  },
  {
   "cell_type": "code",
   "execution_count": 254,
   "metadata": {},
   "outputs": [],
   "source": [
    "recs = pd.read_csv('./data/recommendations_file.csv')"
   ]
  },
  {
   "cell_type": "code",
   "execution_count": 257,
   "metadata": {},
   "outputs": [
    {
     "data": {
      "text/plain": [
       "'GC5GECD:  \"Let\\'s Play Ball!\" #1, cos dist = 0.0, also in the same KMeans cluster'"
      ]
     },
     "execution_count": 257,
     "metadata": {},
     "output_type": "execute_result"
    }
   ],
   "source": [
    "list(recs[recs['code']=='GC5GECD']['CDcache0'])[0]"
   ]
  },
  {
   "cell_type": "code",
   "execution_count": null,
   "metadata": {},
   "outputs": [],
   "source": []
  }
 ],
 "metadata": {
  "kernelspec": {
   "display_name": "Python 3",
   "language": "python",
   "name": "python3"
  },
  "language_info": {
   "codemirror_mode": {
    "name": "ipython",
    "version": 3
   },
   "file_extension": ".py",
   "mimetype": "text/x-python",
   "name": "python",
   "nbconvert_exporter": "python",
   "pygments_lexer": "ipython3",
   "version": "3.8.5"
  }
 },
 "nbformat": 4,
 "nbformat_minor": 4
}
